{
 "cells": [
  {
   "cell_type": "code",
   "execution_count": 1,
   "metadata": {},
   "outputs": [],
   "source": [
    "from collections import defaultdict"
   ]
  },
  {
   "cell_type": "code",
   "execution_count": 72,
   "metadata": {},
   "outputs": [],
   "source": [
    "with open('12-09-input','r') as f:\n",
    "    data = [x.rstrip() for x in f]"
   ]
  },
  {
   "cell_type": "code",
   "execution_count": 73,
   "metadata": {},
   "outputs": [
    {
     "data": {
      "text/plain": [
       "['D 2', 'U 2', 'L 2', 'R 1', 'L 1', 'U 1', 'L 2', 'D 1', 'L 2', 'D 1']"
      ]
     },
     "execution_count": 73,
     "metadata": {},
     "output_type": "execute_result"
    }
   ],
   "source": [
    "data[:10]"
   ]
  },
  {
   "cell_type": "markdown",
   "metadata": {},
   "source": [
    "data = [\n",
    "'R 4',\n",
    "'U 4',\n",
    "'L 3',\n",
    "'D 1',\n",
    "'R 4',\n",
    "'D 1',\n",
    "'L 5',\n",
    "'R 2']"
   ]
  },
  {
   "cell_type": "code",
   "execution_count": 51,
   "metadata": {},
   "outputs": [],
   "source": [
    "class Point():\n",
    "    def __init__(self, x, y):\n",
    "        self.x = x\n",
    "        self.y = y\n",
    "        \n",
    "    def __add__(self, other):\n",
    "        return Point(self.x + other.x, self.y + other.y)\n",
    "\n",
    "    def __sub__(self, other):\n",
    "        return Point(self.x - other.x, self.y - other.y)\n",
    "    \n",
    "    def l_1(self):\n",
    "        return abs(self.x) + abs(self.y)\n",
    "    \n",
    "    def manhattan(self, other):\n",
    "        return Point.l_1(self - other)\n",
    "    \n",
    "    def __eq__(self, other):\n",
    "        return self.x == other.x and self.y == other.y\n",
    "\n",
    "    def __hash__(self):\n",
    "        return hash((self.x, self.y))\n",
    "    \n",
    "    def __repr__(self):\n",
    "        return f'Point({self.x}, {self.y})'"
   ]
  },
  {
   "cell_type": "code",
   "execution_count": 52,
   "metadata": {},
   "outputs": [],
   "source": [
    "directions = {'L': Point(-1,0),\n",
    "              'R': Point(1,0),\n",
    "              'U': Point(0,1),\n",
    "              'D': Point(0,-1)}"
   ]
  },
  {
   "cell_type": "markdown",
   "metadata": {},
   "source": [
    "### Part One"
   ]
  },
  {
   "cell_type": "code",
   "execution_count": 61,
   "metadata": {},
   "outputs": [],
   "source": [
    "head = Point(0,0)\n",
    "tail = Point(0,0)\n",
    "visited = defaultdict(int)\n",
    "visited[tail] += 1\n",
    "\n",
    "def move(head, tail, direction=Point(0,0)):\n",
    "    head = head + direction\n",
    "    diff = head - tail\n",
    "    if ((head.x == tail.x) or (head.y == tail.y)) and (diff.l_1() == 2):  \n",
    "        move_x = diff.x//2\n",
    "        move_y = diff.y//2\n",
    "        tail = tail + Point(move_x, move_y)\n",
    "        visited[tail] += 1\n",
    "    elif diff.l_1() > 2:\n",
    "        if abs(diff.x) == 2:\n",
    "            move_x = diff.x//2\n",
    "            move_y = diff.y\n",
    "        elif abs(diff.y) == 2:\n",
    "            move_x = diff.x\n",
    "            move_y = diff.y//2\n",
    "        tail = tail + Point(move_x, move_y)\n",
    "    else:\n",
    "        tail = tail\n",
    "        \n",
    "    return (head, tail)\n",
    "            \n",
    "for m in data:\n",
    "    d = m.split()[0]\n",
    "    steps = int(m.split()[1])\n",
    "    for _ in range(1, steps+1):\n",
    "        head, tail = move(head, tail, directions[d])\n",
    "        visited[tail] += 1"
   ]
  },
  {
   "cell_type": "code",
   "execution_count": 62,
   "metadata": {},
   "outputs": [
    {
     "data": {
      "text/plain": [
       "5695"
      ]
     },
     "execution_count": 62,
     "metadata": {},
     "output_type": "execute_result"
    }
   ],
   "source": [
    "len(visited.keys())"
   ]
  },
  {
   "cell_type": "code",
   "execution_count": null,
   "metadata": {},
   "outputs": [],
   "source": []
  },
  {
   "cell_type": "code",
   "execution_count": null,
   "metadata": {},
   "outputs": [],
   "source": []
  },
  {
   "cell_type": "markdown",
   "metadata": {},
   "source": [
    "### Part Two"
   ]
  },
  {
   "cell_type": "code",
   "execution_count": 86,
   "metadata": {},
   "outputs": [],
   "source": [
    "knots = []\n",
    "for i in range(10):\n",
    "    knots.append(Point(0,0))\n",
    "    \n",
    "visited = defaultdict(int)\n",
    "visited[knots[-1]] += 1\n",
    "\n",
    "def move(head, tail, direction=Point(0,0)):\n",
    "    head = head + direction\n",
    "    diff = head - tail\n",
    "    if ((head.x == tail.x) or (head.y == tail.y)) and (diff.l_1() == 2):  \n",
    "        move_x = diff.x//2\n",
    "        move_y = diff.y//2\n",
    "        tail = tail + Point(move_x, move_y)\n",
    "    elif diff.l_1() > 2:\n",
    "        if abs(diff.x) == 2 and abs(diff.y) == 2:\n",
    "            move_x = diff.x//2\n",
    "            move_y = diff.y//2\n",
    "            tail = tail + Point(move_x, move_y)\n",
    "        elif abs(diff.x) >= 2:\n",
    "            move_x = diff.x//2\n",
    "            move_y = diff.y\n",
    "            tail = tail + Point(move_x, move_y)\n",
    "        elif abs(diff.y) >= 2:\n",
    "            move_x = diff.x\n",
    "            move_y = diff.y//2\n",
    "            tail = tail + Point(move_x, move_y)\n",
    "        else:\n",
    "            print(head,tail, direction)\n",
    "            raise ValueError('oops')\n",
    "    else:\n",
    "        tail = tail\n",
    "        \n",
    "    return [head, tail]\n",
    "            \n",
    "for m in data:\n",
    "    d = m.split()[0]\n",
    "    steps = int(m.split()[1])\n",
    "    for _ in range(1, steps+1):\n",
    "        new_knots = []\n",
    "        new_knots.extend(move(knots[0], knots[1], directions[d]))\n",
    "        for i in range(2,len(knots)):\n",
    "            new_knots.extend(move(new_knots.pop(), knots[i]))\n",
    "        visited[new_knots[-1]] += 1\n",
    "        knots = new_knots"
   ]
  },
  {
   "cell_type": "code",
   "execution_count": 87,
   "metadata": {},
   "outputs": [
    {
     "data": {
      "text/plain": [
       "2434"
      ]
     },
     "execution_count": 87,
     "metadata": {},
     "output_type": "execute_result"
    }
   ],
   "source": [
    "len(visited.keys())"
   ]
  },
  {
   "cell_type": "code",
   "execution_count": null,
   "metadata": {},
   "outputs": [],
   "source": []
  }
 ],
 "metadata": {
  "kernelspec": {
   "display_name": "Python (data3)",
   "language": "python",
   "name": "data3"
  },
  "language_info": {
   "codemirror_mode": {
    "name": "ipython",
    "version": 3
   },
   "file_extension": ".py",
   "mimetype": "text/x-python",
   "name": "python",
   "nbconvert_exporter": "python",
   "pygments_lexer": "ipython3",
   "version": "3.9.7"
  }
 },
 "nbformat": 4,
 "nbformat_minor": 4
}
