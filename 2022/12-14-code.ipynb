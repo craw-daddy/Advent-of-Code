{
 "cells": [
  {
   "cell_type": "code",
   "execution_count": 1,
   "metadata": {},
   "outputs": [],
   "source": [
    "import numpy as np"
   ]
  },
  {
   "cell_type": "code",
   "execution_count": 129,
   "metadata": {},
   "outputs": [],
   "source": [
    "with open('input/12-14-input','r') as f:\n",
    "    data = [x.rstrip() for x in f]"
   ]
  },
  {
   "cell_type": "code",
   "execution_count": 139,
   "metadata": {
    "tags": []
   },
   "outputs": [],
   "source": [
    "data = [\n",
    "'498,4 -> 498,6 -> 496,6',\n",
    "'503,4 -> 502,4 -> 502,9 -> 494,9'\n",
    "]"
   ]
  },
  {
   "cell_type": "code",
   "execution_count": 140,
   "metadata": {},
   "outputs": [],
   "source": [
    "def print_cave(c):\n",
    "    print('\\n'.join([''.join(r) for r in cave]))"
   ]
  },
  {
   "cell_type": "code",
   "execution_count": 141,
   "metadata": {},
   "outputs": [],
   "source": [
    "new_data = []\n",
    "smallest_x = 100000\n",
    "largest_x = 0\n",
    "largest_y = 0\n",
    "\n",
    "# get the info about the rocks that will block things\n",
    "for line in data:\n",
    "    parts = line.split(' -> ')\n",
    "    new_data.append([eval(x) for x in parts])\n",
    "    smallest_x = min(smallest_x, min(x[0] for x in new_data[-1]))\n",
    "    largest_x = max(largest_x, max(x[0] for x in new_data[-1]))\n",
    "    largest_y = max(largest_y, max(x[1] for x in new_data[-1]))\n",
    "\n",
    "data = [ [(x[0] - smallest_x, x[1]) for x in part] for part in new_data] \n",
    "source = (500 - smallest_x, 0)\n",
    "\n",
    "cave = np.array([ ['.']*(1+largest_x-smallest_x) for i in range(1+largest_y)])\n",
    "\n",
    "#  construct the cave\n",
    "for path in data:\n",
    "    for start, finish in zip(path[:-1], path[1:]):\n",
    "        #start, finish = sorted(tuple([start, finish]))\n",
    "        #print(start, finish)\n",
    "        if start[0] == finish[0]:\n",
    "            s, f = min(start[1], finish[1]), max(start[1], finish[1])\n",
    "            cave[s:(f+1), start[0]] = '#'\n",
    "        elif start[1] == finish[1]:\n",
    "            s, f = min(start[0], finish[0]), max(start[0], finish[0])\n",
    "            cave[start[1], s:(f+1)] = '#'"
   ]
  },
  {
   "cell_type": "code",
   "execution_count": 142,
   "metadata": {},
   "outputs": [
    {
     "name": "stdout",
     "output_type": "stream",
     "text": [
      "..........\n",
      "..........\n",
      "..........\n",
      "..........\n",
      "....#...##\n",
      "....#...#.\n",
      "..###...#.\n",
      "........#.\n",
      "........#.\n",
      "#########.\n"
     ]
    }
   ],
   "source": [
    "print_cave(cave)"
   ]
  },
  {
   "cell_type": "code",
   "execution_count": 143,
   "metadata": {},
   "outputs": [
    {
     "data": {
      "text/plain": [
       "(6, 0)"
      ]
     },
     "execution_count": 143,
     "metadata": {},
     "output_type": "execute_result"
    }
   ],
   "source": [
    "source"
   ]
  },
  {
   "cell_type": "code",
   "execution_count": 144,
   "metadata": {},
   "outputs": [
    {
     "name": "stdout",
     "output_type": "stream",
     "text": [
      "8\n"
     ]
    }
   ],
   "source": [
    "finished_process = False\n",
    "total = 0\n",
    "\n",
    "while not finished_process:\n",
    "    start = source\n",
    "    #  This is where it wants to land in the same\n",
    "    #  column as the source.    \n",
    "    x = source[1]\n",
    "    y = max([z for z in range(cave.shape[0]) if cave[z,source[1]] == '.'])\n",
    "    \n",
    "    if cave[y+1, x] in ['#', 'o']:  #  rest on cave or sand, so\n",
    "                                    # check can it go right or left\n",
    "    else:  #  wants to rest on another piece of sand, so check\n",
    "           #  left and right\n",
    "        finished_process = True\n",
    "    \n",
    "    finished_process = True"
   ]
  },
  {
   "cell_type": "code",
   "execution_count": null,
   "metadata": {},
   "outputs": [],
   "source": []
  }
 ],
 "metadata": {
  "kernelspec": {
   "display_name": "Python 3 (ipykernel)",
   "language": "python",
   "name": "python3"
  },
  "language_info": {
   "codemirror_mode": {
    "name": "ipython",
    "version": 3
   },
   "file_extension": ".py",
   "mimetype": "text/x-python",
   "name": "python",
   "nbconvert_exporter": "python",
   "pygments_lexer": "ipython3",
   "version": "3.9.7"
  }
 },
 "nbformat": 4,
 "nbformat_minor": 4
}
