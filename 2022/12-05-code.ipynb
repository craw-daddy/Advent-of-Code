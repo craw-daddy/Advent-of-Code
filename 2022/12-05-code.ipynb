{
 "cells": [
  {
   "cell_type": "code",
   "execution_count": 1,
   "metadata": {},
   "outputs": [],
   "source": [
    "from collections import defaultdict"
   ]
  },
  {
   "cell_type": "markdown",
   "metadata": {},
   "source": [
    "### Part One"
   ]
  },
  {
   "cell_type": "code",
   "execution_count": 2,
   "metadata": {},
   "outputs": [],
   "source": [
    "with open('12-05-input', 'r') as f:\n",
    "    lines = [x for x in f]\n",
    "\n",
    "data = lines[:9][::-1]\n",
    "moves = lines[10:]\n",
    "\n",
    "stacks = defaultdict(list)\n",
    "\n",
    "numbers = [int(x) for x in data[0].split()]\n",
    "\n",
    "for x in data[1:]:\n",
    "    for i in range(len(numbers)):\n",
    "        temp = x + ' '*(36-len(x))\n",
    "        item = temp[1 + 4*i]\n",
    "        if item != ' ':\n",
    "            stacks[i+1].append(item)"
   ]
  },
  {
   "cell_type": "code",
   "execution_count": 3,
   "metadata": {},
   "outputs": [],
   "source": [
    "for move in moves:\n",
    "    number_moves = int(move.split(' from ')[0].split()[-1])\n",
    "    move_from = int(move.split(' from ')[1].split(' to ')[0])\n",
    "    move_to = int(move.split(' from ')[1].split(' to ')[1])\n",
    "    for i in range(number_moves):\n",
    "        stacks[move_to].append(stacks[move_from].pop())"
   ]
  },
  {
   "cell_type": "code",
   "execution_count": 4,
   "metadata": {},
   "outputs": [
    {
     "data": {
      "text/plain": [
       "'QGTHFZBHV'"
      ]
     },
     "execution_count": 4,
     "metadata": {},
     "output_type": "execute_result"
    }
   ],
   "source": [
    "''.join([s[-1] for s in stacks.values()])"
   ]
  },
  {
   "cell_type": "markdown",
   "metadata": {},
   "source": [
    "### Part Two"
   ]
  },
  {
   "cell_type": "code",
   "execution_count": 5,
   "metadata": {},
   "outputs": [],
   "source": [
    "with open('12-05-input', 'r') as f:\n",
    "    lines = [x for x in f]\n",
    "\n",
    "data = lines[:9][::-1]\n",
    "moves = lines[10:]\n",
    "\n",
    "stacks = defaultdict(list)\n",
    "\n",
    "numbers = [int(x) for x in data[0].split()]\n",
    "\n",
    "for x in data[1:]:\n",
    "    for i in range(len(numbers)):\n",
    "        temp = x + ' '*(36-len(x))\n",
    "        item = temp[1 + 4*i]\n",
    "        if item != ' ':\n",
    "            stacks[i+1].append(item)"
   ]
  },
  {
   "cell_type": "code",
   "execution_count": 6,
   "metadata": {},
   "outputs": [
    {
     "data": {
      "text/plain": [
       "['N', 'D', 'M', 'Q', 'B', 'P', 'Z']"
      ]
     },
     "execution_count": 6,
     "metadata": {},
     "output_type": "execute_result"
    }
   ],
   "source": [
    "stacks[1]"
   ]
  },
  {
   "cell_type": "code",
   "execution_count": 7,
   "metadata": {},
   "outputs": [
    {
     "data": {
      "text/plain": [
       "['B', 'P', 'Z']"
      ]
     },
     "execution_count": 7,
     "metadata": {},
     "output_type": "execute_result"
    }
   ],
   "source": [
    "stacks[1][-3:]"
   ]
  },
  {
   "cell_type": "code",
   "execution_count": 8,
   "metadata": {},
   "outputs": [],
   "source": [
    "for move in moves:\n",
    "    number_moves = int(move.split(' from ')[0].split()[-1])\n",
    "    move_from = int(move.split(' from ')[1].split(' to ')[0])\n",
    "    move_to = int(move.split(' from ')[1].split(' to ')[1])\n",
    "    stacks[move_to].extend(stacks[move_from][-number_moves:])\n",
    "    stacks[move_from] = stacks[move_from][:-number_moves]"
   ]
  },
  {
   "cell_type": "code",
   "execution_count": 9,
   "metadata": {},
   "outputs": [
    {
     "data": {
      "text/plain": [
       "'MGDMPSZTM'"
      ]
     },
     "execution_count": 9,
     "metadata": {},
     "output_type": "execute_result"
    }
   ],
   "source": [
    "''.join([s[-1] for s in stacks.values()])"
   ]
  },
  {
   "cell_type": "code",
   "execution_count": null,
   "metadata": {},
   "outputs": [],
   "source": []
  }
 ],
 "metadata": {
  "kernelspec": {
   "display_name": "Python (data3)",
   "language": "python",
   "name": "data3"
  },
  "language_info": {
   "codemirror_mode": {
    "name": "ipython",
    "version": 3
   },
   "file_extension": ".py",
   "mimetype": "text/x-python",
   "name": "python",
   "nbconvert_exporter": "python",
   "pygments_lexer": "ipython3",
   "version": "3.9.7"
  }
 },
 "nbformat": 4,
 "nbformat_minor": 4
}
