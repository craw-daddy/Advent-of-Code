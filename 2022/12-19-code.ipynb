{
 "cells": [
  {
   "cell_type": "code",
   "execution_count": 6,
   "metadata": {},
   "outputs": [],
   "source": [
    "with open('input/12-19-input','r') as f:\n",
    "    data = [x.rstrip() for x in f]"
   ]
  },
  {
   "cell_type": "code",
   "execution_count": 7,
   "metadata": {},
   "outputs": [
    {
     "data": {
      "text/plain": [
       "['Blueprint 1: Each ore robot costs 4 ore. Each clay robot costs 4 ore. Each obsidian robot costs 4 ore and 17 clay. Each geode robot costs 4 ore and 20 obsidian.',\n",
       " 'Blueprint 2: Each ore robot costs 3 ore. Each clay robot costs 4 ore. Each obsidian robot costs 3 ore and 17 clay. Each geode robot costs 3 ore and 8 obsidian.',\n",
       " 'Blueprint 3: Each ore robot costs 4 ore. Each clay robot costs 4 ore. Each obsidian robot costs 2 ore and 7 clay. Each geode robot costs 4 ore and 13 obsidian.',\n",
       " 'Blueprint 4: Each ore robot costs 4 ore. Each clay robot costs 4 ore. Each obsidian robot costs 2 ore and 10 clay. Each geode robot costs 3 ore and 14 obsidian.',\n",
       " 'Blueprint 5: Each ore robot costs 4 ore. Each clay robot costs 3 ore. Each obsidian robot costs 2 ore and 17 clay. Each geode robot costs 3 ore and 16 obsidian.',\n",
       " 'Blueprint 6: Each ore robot costs 4 ore. Each clay robot costs 4 ore. Each obsidian robot costs 4 ore and 16 clay. Each geode robot costs 2 ore and 15 obsidian.',\n",
       " 'Blueprint 7: Each ore robot costs 2 ore. Each clay robot costs 4 ore. Each obsidian robot costs 4 ore and 15 clay. Each geode robot costs 2 ore and 15 obsidian.',\n",
       " 'Blueprint 8: Each ore robot costs 2 ore. Each clay robot costs 4 ore. Each obsidian robot costs 4 ore and 19 clay. Each geode robot costs 2 ore and 18 obsidian.',\n",
       " 'Blueprint 9: Each ore robot costs 4 ore. Each clay robot costs 4 ore. Each obsidian robot costs 4 ore and 7 clay. Each geode robot costs 2 ore and 19 obsidian.',\n",
       " 'Blueprint 10: Each ore robot costs 3 ore. Each clay robot costs 4 ore. Each obsidian robot costs 4 ore and 6 clay. Each geode robot costs 3 ore and 16 obsidian.']"
      ]
     },
     "execution_count": 7,
     "metadata": {},
     "output_type": "execute_result"
    }
   ],
   "source": [
    "data[:10]"
   ]
  },
  {
   "cell_type": "code",
   "execution_count": null,
   "metadata": {},
   "outputs": [],
   "source": [
    "#  Store resources (and number of geodes opened) as a tuple\n",
    "#     (#ore, #clay, #obsidian, #geodes opened)\n",
    "#\n",
    "#  Store number of operating robots as\n",
    "#     (#ore-gathering robots, #clay-gathering robots, #obsidian-gathering robots, #geode-opening robots)\n",
    "#\n",
    "#  Store manufactuting costs as a dictionary?\n",
    "#   { type_of_robot : (#ore needed, #clay needed, #obsidian needed) }\n"
   ]
  },
  {
   "cell_type": "markdown",
   "metadata": {},
   "source": [
    "data = [\n",
    "'Blueprint 1: Each ore robot costs 4 ore. Each clay robot costs 2 ore. Each obsidian robot costs 3 ore and 14 clay. Each geode robot costs 2 ore and 7 obsidian.',\n",
    "'Blueprint 2: Each ore robot costs 2 ore. Each clay robot costs 3 ore. Each obsidian robot costs 3 ore and 8 clay. Each geode robot costs 3 ore and 12 obsidian.'\n",
    "]"
   ]
  },
  {
   "cell_type": "code",
   "execution_count": 8,
   "metadata": {},
   "outputs": [],
   "source": [
    "blueprints = {}\n",
    "\n",
    "for row in data:\n",
    "    number = int(row.split(':')[0].split('Blueprint ')[1])\n",
    "    ore_robot = (int(row.split(' ore.')[0].split(' costs ')[1]), 0, 0)\n",
    "    clay_robot = (int(row.split(' ore.')[1].split(' costs ')[1]), 0, 0)\n",
    "    obsidian_robot = (int(row.split(' obsidian robot costs ')[1].split()[0]), int(row.split(' obsidian robot costs ')[1].split()[3]) ,0)\n",
    "    geode_robot = (int(row.split(' geode robot costs ')[1].split()[0]), 0, int(row.split(' geode robot costs ')[1].split()[3]))\n",
    "    blueprints[number] = {'ore': ore_robot, 'clay': clay_robot, 'obsidian': obsidian_robot, 'geode': geode_robot}"
   ]
  },
  {
   "cell_type": "code",
   "execution_count": 9,
   "metadata": {},
   "outputs": [
    {
     "data": {
      "text/plain": [
       "30"
      ]
     },
     "execution_count": 9,
     "metadata": {},
     "output_type": "execute_result"
    }
   ],
   "source": [
    "len(blueprints)"
   ]
  },
  {
   "cell_type": "code",
   "execution_count": 10,
   "metadata": {},
   "outputs": [
    {
     "name": "stdout",
     "output_type": "stream",
     "text": [
      "1 0\n",
      "2 2\n",
      "3 3\n",
      "4 1\n",
      "5 0\n",
      "6 0\n",
      "7 2\n",
      "8 0\n",
      "9 0\n",
      "10 3\n",
      "11 0\n",
      "12 0\n",
      "13 0\n",
      "14 3\n",
      "15 14\n",
      "16 5\n",
      "17 1\n",
      "18 1\n",
      "19 0\n",
      "20 5\n",
      "21 4\n",
      "22 15\n",
      "23 0\n",
      "24 2\n",
      "25 0\n",
      "26 1\n",
      "27 8\n",
      "28 5\n",
      "29 0\n",
      "30 4\n"
     ]
    }
   ],
   "source": [
    "max_cracked = {}\n",
    "\n",
    "for blue_print_num, blueprint in blueprints.items():\n",
    "    configs = [ {'current_time' : 0, 'resources' : (0, 0, 0, 0), 'robots' : (1, 0, 0, 0)} ]\n",
    "    for minute in range(24):\n",
    "        new_configs = set()\n",
    "        while configs:\n",
    "            c = configs.pop()\n",
    "    \n",
    "            new_time = c['current_time'] + 1\n",
    "    \n",
    "            #  One option is to not make any new robots\n",
    "            new_resources = tuple([ x + y for x,y in zip(c['resources'], c['robots'])])\n",
    "            new_configs.add(tuple({'current_time': new_time, 'resources': new_resources, \n",
    "                                'robots': c['robots']}.items()))\n",
    "    \n",
    "            #  Do we have resources to make a new robot during this minute? \n",
    "            #  Check for geode cracking robot first, if so, make that one.\n",
    "            target = 'geode'\n",
    "            if all(c['resources'][x] >= blueprint[target][x] for x in range(0,3)):\n",
    "                new_resources = tuple([ x - y for x,y in zip(c['resources'], blueprint[target] + (0,))])\n",
    "                create_robots = tuple([0,0,0,1])\n",
    "                #  Find new resources produced in the next minute\n",
    "                new_resources = tuple([ x + y for x,y in zip(new_resources, c['robots'])])\n",
    "                #  Update the number of robots on hand for the next round\n",
    "                new_robots = tuple([ x + y for x,y in zip(c['robots'], create_robots)])\n",
    "    \n",
    "                new_configs.add(tuple({'current_time': new_time, 'resources': new_resources, \n",
    "                                    'robots': new_robots}.items()))\n",
    "            else:\n",
    "                for target in ['ore', 'clay', 'obsidian']:\n",
    "                    if all(c['resources'][x] >= blueprint[target][x] for x in range(0,3)):\n",
    "                        new_resources = tuple([ x - y for x,y in zip(c['resources'], blueprint[target] + (0,))])\n",
    "                        if target == 'ore':\n",
    "                            create_robots = tuple([1,0,0,0])\n",
    "                        elif target == 'clay':\n",
    "                            create_robots = tuple([0,1,0,0])\n",
    "                        elif target == 'obsidian':\n",
    "                            create_robots = tuple([0,0,1,0])\n",
    "                        else:\n",
    "                            print('Oops')\n",
    "                    else:\n",
    "                        new_resources = c['resources']\n",
    "                        create_robots = tuple([0,0,0,0])\n",
    "        \n",
    "                    #  Find new resources produced in the next minute\n",
    "                    new_resources = tuple([ x + y for x,y in zip(new_resources, c['robots'])])\n",
    "                    #  Update the number of robots on hand for the next round\n",
    "                    new_robots = tuple([ x + y for x,y in zip(c['robots'], create_robots)])\n",
    "    \n",
    "                    new_configs.add(tuple({'current_time': new_time, 'resources': new_resources, \n",
    "                                    'robots': new_robots}.items()))\n",
    "            #if new_time > blueprint['clay'][0]:\n",
    "            #    new_configs = set([x for x in new_configs if x[2][1][1] >= 1])\n",
    "            if any([x[2][1][2] >= 1 for x in new_configs]):\n",
    "                new_configs = set([x for x in new_configs if x[2][1][2] >= 1])\n",
    "            if any([x[2][1][3] >= 1 for x in new_configs]):\n",
    "                max_geodes = max([x[2][1][3] for x in new_configs]) \n",
    "                new_configs = set([x for x in new_configs if x[2][1][3] >= max_geodes])\n",
    "                \n",
    "        configs = [dict(x) for x in new_configs]\n",
    "    \n",
    "    max_geodes = max([x['resources'][-1] for x in configs])\n",
    "    max_cracked[blue_print_num] = max_geodes\n",
    "    print(blue_print_num, max_geodes)"
   ]
  },
  {
   "cell_type": "code",
   "execution_count": 11,
   "metadata": {},
   "outputs": [
    {
     "name": "stdout",
     "output_type": "stream",
     "text": [
      "{1: 0, 2: 2, 3: 3, 4: 1, 5: 0, 6: 0, 7: 2, 8: 0, 9: 0, 10: 3, 11: 0, 12: 0, 13: 0, 14: 3, 15: 14, 16: 5, 17: 1, 18: 1, 19: 0, 20: 5, 21: 4, 22: 15, 23: 0, 24: 2, 25: 0, 26: 1, 27: 8, 28: 5, 29: 0, 30: 4}\n",
      "1492\n"
     ]
    }
   ],
   "source": [
    "print(max_cracked)\n",
    "\n",
    "total_quality = sum(k*v for k,v in max_cracked.items())\n",
    "print(total_quality)"
   ]
  },
  {
   "cell_type": "code",
   "execution_count": null,
   "metadata": {},
   "outputs": [],
   "source": []
  }
 ],
 "metadata": {
  "kernelspec": {
   "display_name": "Python (data3)",
   "language": "python",
   "name": "data3"
  },
  "language_info": {
   "codemirror_mode": {
    "name": "ipython",
    "version": 3
   },
   "file_extension": ".py",
   "mimetype": "text/x-python",
   "name": "python",
   "nbconvert_exporter": "python",
   "pygments_lexer": "ipython3",
   "version": "3.9.7"
  }
 },
 "nbformat": 4,
 "nbformat_minor": 4
}
