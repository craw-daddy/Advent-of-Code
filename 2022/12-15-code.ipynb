{
 "cells": [
  {
   "cell_type": "code",
   "execution_count": 1,
   "metadata": {},
   "outputs": [],
   "source": [
    "import re\n",
    "\n",
    "from itertools import permutations"
   ]
  },
  {
   "cell_type": "code",
   "execution_count": 2,
   "metadata": {},
   "outputs": [],
   "source": [
    "with open('input/12-15-input', 'r') as f:\n",
    "    data = [x.strip() for x in f]"
   ]
  },
  {
   "cell_type": "markdown",
   "metadata": {},
   "source": [
    "data = [\n",
    "'Sensor at x=2, y=18: closest beacon is at x=-2, y=15',\n",
    "'Sensor at x=9, y=16: closest beacon is at x=10, y=16',\n",
    "'Sensor at x=13, y=2: closest beacon is at x=15, y=3',\n",
    "'Sensor at x=12, y=14: closest beacon is at x=10, y=16',\n",
    "'Sensor at x=10, y=20: closest beacon is at x=10, y=16',\n",
    "'Sensor at x=14, y=17: closest beacon is at x=10, y=16',\n",
    "'Sensor at x=8, y=7: closest beacon is at x=2, y=10',\n",
    "'Sensor at x=2, y=0: closest beacon is at x=2, y=10',\n",
    "'Sensor at x=0, y=11: closest beacon is at x=2, y=10',\n",
    "'Sensor at x=20, y=14: closest beacon is at x=25, y=17',\n",
    "'Sensor at x=17, y=20: closest beacon is at x=21, y=22',\n",
    "'Sensor at x=16, y=7: closest beacon is at x=15, y=3',\n",
    "'Sensor at x=14, y=3: closest beacon is at x=15, y=3',\n",
    "'Sensor at x=20, y=1: closest beacon is at x=15, y=3'\n",
    "]"
   ]
  },
  {
   "cell_type": "code",
   "execution_count": 3,
   "metadata": {},
   "outputs": [],
   "source": [
    "sensor_beacon = \\\n",
    "    [ re.search(r'x=([-\\d]+).+y=([-\\d]+).*x=([-\\d]+).*y=([-\\d]+)', r).groups() for r in data ]\n",
    "\n",
    "sensor_beacon = [ ((int(r[0]), int(r[1])), (int(r[2]), int(r[3]))) for r in sensor_beacon ]"
   ]
  },
  {
   "cell_type": "code",
   "execution_count": 4,
   "metadata": {},
   "outputs": [],
   "source": [
    "def manhattan(p1, p2):\n",
    "    return sum(abs(x - y) for x,y in zip(p1,p2))"
   ]
  },
  {
   "cell_type": "code",
   "execution_count": 5,
   "metadata": {},
   "outputs": [
    {
     "data": {
      "text/plain": [
       "[((2692921, 2988627), (2453611, 3029623)),\n",
       " ((1557973, 1620482), (1908435, 2403457)),\n",
       " ((278431, 3878878), (-1050422, 3218536)),\n",
       " ((1432037, 3317707), (2453611, 3029623)),\n",
       " ((3191434, 3564121), (3420256, 2939344)),\n",
       " ((3080887, 2781756), (3420256, 2939344)),\n",
       " ((3543287, 3060807), (3420256, 2939344)),\n",
       " ((2476158, 3949016), (2453611, 3029623)),\n",
       " ((3999769, 3985671), (3420256, 2939344)),\n",
       " ((2435331, 2200565), (1908435, 2403457)),\n",
       " ((3970047, 2036397), (3691788, 1874066)),\n",
       " ((2232167, 2750817), (2453611, 3029623)),\n",
       " ((157988, 333826), (-1236383, 477990)),\n",
       " ((1035254, 2261267), (1908435, 2403457)),\n",
       " ((1154009, 888885), (1070922, -543463)),\n",
       " ((2704724, 257848), (3428489, -741777)),\n",
       " ((3672526, 2651153), (3420256, 2939344)),\n",
       " ((2030614, 2603134), (1908435, 2403457)),\n",
       " ((2550448, 2781018), (2453611, 3029623)),\n",
       " ((3162759, 2196461), (3691788, 1874066)),\n",
       " ((463834, 1709480), (-208427, 2000000)),\n",
       " ((217427, 2725325), (-208427, 2000000)),\n",
       " ((3903198, 945190), (3691788, 1874066))]"
      ]
     },
     "execution_count": 5,
     "metadata": {},
     "output_type": "execute_result"
    }
   ],
   "source": [
    "sensor_beacon"
   ]
  },
  {
   "cell_type": "markdown",
   "metadata": {},
   "source": [
    "### Part 1"
   ]
  },
  {
   "cell_type": "code",
   "execution_count": 6,
   "metadata": {},
   "outputs": [],
   "source": [
    "target_row = 2000000"
   ]
  },
  {
   "cell_type": "code",
   "execution_count": 7,
   "metadata": {},
   "outputs": [],
   "source": [
    "max_dist = max(manhattan(sb[0], sb[1]) for sb in sensor_beacon)\n",
    "x_range = ( min( min(r[0][0], r[1][0]) for r in sensor_beacon ), max( max(r[0][0], r[1][0]) for r in sensor_beacon ) )"
   ]
  },
  {
   "cell_type": "code",
   "execution_count": 8,
   "metadata": {},
   "outputs": [
    {
     "name": "stdout",
     "output_type": "stream",
     "text": [
      "1989195\n",
      "(-1236383, 3999769)\n"
     ]
    }
   ],
   "source": [
    "print(max_dist)\n",
    "print(x_range)"
   ]
  },
  {
   "cell_type": "code",
   "execution_count": 9,
   "metadata": {},
   "outputs": [],
   "source": [
    "check = range(x_range[0]-max_dist, x_range[1]+1+max_dist)\n",
    "covered = { i : False for i in check }\n",
    "\n",
    "for x in check:\n",
    "    for sb in sensor_beacon:\n",
    "        if manhattan((x, target_row), sb[0]) <= manhattan(sb[0], sb[1]):\n",
    "            covered[x] = True"
   ]
  },
  {
   "cell_type": "code",
   "execution_count": 10,
   "metadata": {},
   "outputs": [
    {
     "data": {
      "text/plain": [
       "4582667"
      ]
     },
     "execution_count": 10,
     "metadata": {},
     "output_type": "execute_result"
    }
   ],
   "source": [
    "sum(v for v in covered.values()) - len(set([sb[1] for sb in sensor_beacon if x_range[0] <= sb[1][0] <= x_range[1] and sb[1][1] == target_row and covered[sb[1][0]]]))"
   ]
  },
  {
   "cell_type": "markdown",
   "metadata": {},
   "source": [
    "###  Part 2"
   ]
  },
  {
   "cell_type": "code",
   "execution_count": null,
   "metadata": {},
   "outputs": [],
   "source": [
    "upper_bound = 4000000\n",
    "interval = range(0,upper_bound+1)\n",
    "possible = set()\n",
    "for location in permutations(interval, 2):\n",
    "    for sensor, beacon in sensor_beacon:\n",
    "        if manhattan(location, sensor) <= manhattan(sensor, beacon):\n",
    "            break\n",
    "    else:\n",
    "        possible.add(location)\n",
    "        \n",
    "    if len(possible) > 0:\n",
    "        break"
   ]
  },
  {
   "cell_type": "code",
   "execution_count": null,
   "metadata": {},
   "outputs": [],
   "source": [
    "possible"
   ]
  },
  {
   "cell_type": "code",
   "execution_count": null,
   "metadata": {},
   "outputs": [],
   "source": [
    "frequency = "
   ]
  }
 ],
 "metadata": {
  "kernelspec": {
   "display_name": "Python (data3)",
   "language": "python",
   "name": "data3"
  },
  "language_info": {
   "codemirror_mode": {
    "name": "ipython",
    "version": 3
   },
   "file_extension": ".py",
   "mimetype": "text/x-python",
   "name": "python",
   "nbconvert_exporter": "python",
   "pygments_lexer": "ipython3",
   "version": "3.9.7"
  }
 },
 "nbformat": 4,
 "nbformat_minor": 4
}
