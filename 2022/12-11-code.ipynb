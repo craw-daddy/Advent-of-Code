{
 "cells": [
  {
   "cell_type": "code",
   "execution_count": 1,
   "metadata": {},
   "outputs": [],
   "source": [
    "import operator"
   ]
  },
  {
   "cell_type": "code",
   "execution_count": 2,
   "metadata": {
    "tags": []
   },
   "outputs": [],
   "source": [
    "with open('input/12-11-input','r') as f:\n",
    "    data = [x.rstrip() for x in f]"
   ]
  },
  {
   "cell_type": "markdown",
   "metadata": {},
   "source": [
    "###  Part One"
   ]
  },
  {
   "cell_type": "code",
   "execution_count": 3,
   "metadata": {},
   "outputs": [],
   "source": [
    "monkeys = []\n",
    "\n",
    "for i in range((1+len(data))//7): \n",
    "    items = [int(x) for x in data[i*7+1].split(': ')[1].split(',')]\n",
    "    operation = data[i*7+2].split('old ')[1][0]\n",
    "    number = data[i*7+2].split(operation)[1].strip()\n",
    "    test = int(data[i*7+3].split('by ')[1])\n",
    "    true = int(data[i*7+4].split('monkey ')[1])\n",
    "    false = int(data[i*7+5].split('monkey ')[1])\n",
    "    \n",
    "    if operation == '+':\n",
    "        operation = operator.add\n",
    "    elif operation == '*':\n",
    "        operation = operator.mul\n",
    "    else:\n",
    "        print('Oops')\n",
    "    try:\n",
    "        number = int(number)\n",
    "    except ValueError:\n",
    "        pass\n",
    "    monkey_dict = dict(zip(['items', 'operation', 'number', 'test', True, False, 'inspections'],\n",
    "                       [items, operation, number, test, true, false, 0]))\n",
    "    monkeys.append(monkey_dict)"
   ]
  },
  {
   "cell_type": "code",
   "execution_count": 4,
   "metadata": {},
   "outputs": [],
   "source": [
    "for rounds in range(20):\n",
    "    for m in range(len(monkeys)):  #  each monkey has a turn\n",
    "        monkey = monkeys[m]\n",
    "        for old in monkey['items']:\n",
    "            monkey['inspections'] += 1\n",
    "            if isinstance(monkey['number'], str):\n",
    "                new_worry = monkey['operation'](old, old) // 3\n",
    "            else:\n",
    "                new_worry = monkey['operation'](old, monkey['number']) // 3\n",
    "            target = monkey[new_worry % monkey['test'] == 0]\n",
    "            monkeys[target]['items'].append(new_worry)\n",
    "        monkey['items'] = []"
   ]
  },
  {
   "cell_type": "code",
   "execution_count": 5,
   "metadata": {},
   "outputs": [
    {
     "data": {
      "text/plain": [
       "54036"
      ]
     },
     "execution_count": 5,
     "metadata": {},
     "output_type": "execute_result"
    }
   ],
   "source": [
    "top = sorted([m['inspections'] for m in monkeys], reverse=True)\n",
    "\n",
    "top[0]*top[1]"
   ]
  },
  {
   "cell_type": "markdown",
   "metadata": {},
   "source": [
    "###  Part 2"
   ]
  },
  {
   "cell_type": "markdown",
   "metadata": {},
   "source": [
    "Reset the monkeys to their starting points, because the only things that have changed are that the worry values aren't divided by 3, and the number of rounds has increased.  "
   ]
  },
  {
   "cell_type": "code",
   "execution_count": 6,
   "metadata": {},
   "outputs": [],
   "source": [
    "monkeys = []\n",
    "\n",
    "for i in range((1+len(data))//7): \n",
    "    items = [int(x) for x in data[i*7+1].split(': ')[1].split(',')]\n",
    "    operation = data[i*7+2].split('old ')[1][0]\n",
    "    number = data[i*7+2].split(operation)[1].strip()\n",
    "    test = int(data[i*7+3].split('by ')[1])\n",
    "    true = int(data[i*7+4].split('monkey ')[1])\n",
    "    false = int(data[i*7+5].split('monkey ')[1])\n",
    "    \n",
    "    if operation == '+':\n",
    "        operation = operator.add\n",
    "    elif operation == '*':\n",
    "        operation = operator.mul\n",
    "    else:\n",
    "        print('Oops')\n",
    "    try:\n",
    "        number = int(number)\n",
    "    except ValueError:\n",
    "        pass\n",
    "    monkey_dict = dict(zip(['items', 'operation', 'number', 'test', True, False, 'inspections'],\n",
    "                       [items, operation, number, test, true, false, 0]))\n",
    "    monkeys.append(monkey_dict)"
   ]
  },
  {
   "cell_type": "code",
   "execution_count": 7,
   "metadata": {},
   "outputs": [],
   "source": [
    "from functools import reduce"
   ]
  },
  {
   "cell_type": "code",
   "execution_count": 8,
   "metadata": {},
   "outputs": [],
   "source": [
    "upper = reduce(lambda x,y: x*y, [m['test'] for m in monkeys])"
   ]
  },
  {
   "cell_type": "code",
   "execution_count": 9,
   "metadata": {},
   "outputs": [],
   "source": [
    "for rounds in range(10000):\n",
    "    for m in range(len(monkeys)):  #  each monkey has a turn\n",
    "        monkey = monkeys[m]\n",
    "        for old in monkey['items']:\n",
    "            monkey['inspections'] += 1\n",
    "            if isinstance(monkey['number'], str):\n",
    "                new_worry = monkey['operation'](old, old) % upper\n",
    "            else:\n",
    "                new_worry = monkey['operation'](old, monkey['number']) % upper\n",
    "            while new_worry > upper:\n",
    "                new_worry -= upper\n",
    "            target = monkey[new_worry % monkey['test'] == 0]\n",
    "            monkeys[target]['items'].append(new_worry)\n",
    "        monkey['items'] = []"
   ]
  },
  {
   "cell_type": "code",
   "execution_count": 10,
   "metadata": {},
   "outputs": [
    {
     "data": {
      "text/plain": [
       "13237873355"
      ]
     },
     "execution_count": 10,
     "metadata": {},
     "output_type": "execute_result"
    }
   ],
   "source": [
    "top = sorted([m['inspections'] for m in monkeys], reverse=True)\n",
    "\n",
    "top[0]*top[1]"
   ]
  },
  {
   "cell_type": "code",
   "execution_count": null,
   "metadata": {},
   "outputs": [],
   "source": []
  }
 ],
 "metadata": {
  "kernelspec": {
   "display_name": "Python (data3)",
   "language": "python",
   "name": "data3"
  },
  "language_info": {
   "codemirror_mode": {
    "name": "ipython",
    "version": 3
   },
   "file_extension": ".py",
   "mimetype": "text/x-python",
   "name": "python",
   "nbconvert_exporter": "python",
   "pygments_lexer": "ipython3",
   "version": "3.9.7"
  }
 },
 "nbformat": 4,
 "nbformat_minor": 4
}
