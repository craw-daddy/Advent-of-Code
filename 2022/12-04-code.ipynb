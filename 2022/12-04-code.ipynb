{
 "cells": [
  {
   "cell_type": "code",
   "execution_count": 1,
   "metadata": {},
   "outputs": [],
   "source": [
    "with open('12-04-input', 'r') as f:\n",
    "    lines = [x.strip() for x in f]"
   ]
  },
  {
   "cell_type": "code",
   "execution_count": 2,
   "metadata": {},
   "outputs": [],
   "source": [
    "pairs = [z.split(',') for z in lines]"
   ]
  },
  {
   "cell_type": "markdown",
   "metadata": {},
   "source": [
    "### Part One"
   ]
  },
  {
   "cell_type": "code",
   "execution_count": 3,
   "metadata": {},
   "outputs": [
    {
     "data": {
      "text/plain": [
       "475"
      ]
     },
     "execution_count": 3,
     "metadata": {},
     "output_type": "execute_result"
    }
   ],
   "source": [
    "fully_contains = 0\n",
    "\n",
    "for p in pairs:\n",
    "    first = tuple(int(w) for w in p[0].split('-'))\n",
    "    second = tuple(int(w) for w in p[1].split('-'))\n",
    "    if ((first[0] >= second[0]) and (first[1] <= second[1])) or\\\n",
    "       ((second[0] >= first[0]) and (second[1] <= first[1])):\n",
    "            fully_contains += 1\n",
    "            \n",
    "fully_contains"
   ]
  },
  {
   "cell_type": "markdown",
   "metadata": {},
   "source": [
    "### Part Two"
   ]
  },
  {
   "cell_type": "code",
   "execution_count": 4,
   "metadata": {},
   "outputs": [
    {
     "data": {
      "text/plain": [
       "825"
      ]
     },
     "execution_count": 4,
     "metadata": {},
     "output_type": "execute_result"
    }
   ],
   "source": [
    "overlap = 0\n",
    "\n",
    "for p in pairs:\n",
    "    first = tuple(int(w) for w in p[0].split('-'))\n",
    "    first = set(range(first[0], first[1]+1))\n",
    "    second = tuple(int(w) for w in p[1].split('-'))\n",
    "    second = set(range(second[0], second[1]+1))\n",
    "    if first.intersection(second):\n",
    "            overlap += 1\n",
    "overlap"
   ]
  },
  {
   "cell_type": "code",
   "execution_count": null,
   "metadata": {},
   "outputs": [],
   "source": []
  }
 ],
 "metadata": {
  "kernelspec": {
   "display_name": "Python (data3)",
   "language": "python",
   "name": "data3"
  },
  "language_info": {
   "codemirror_mode": {
    "name": "ipython",
    "version": 3
   },
   "file_extension": ".py",
   "mimetype": "text/x-python",
   "name": "python",
   "nbconvert_exporter": "python",
   "pygments_lexer": "ipython3",
   "version": "3.9.7"
  }
 },
 "nbformat": 4,
 "nbformat_minor": 4
}
