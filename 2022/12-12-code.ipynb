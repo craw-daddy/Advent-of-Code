{
 "cells": [
  {
   "cell_type": "code",
   "execution_count": 1,
   "metadata": {},
   "outputs": [],
   "source": [
    "from collections import deque\n",
    "\n",
    "import numpy as np"
   ]
  },
  {
   "cell_type": "code",
   "execution_count": 2,
   "metadata": {},
   "outputs": [],
   "source": [
    "with open('input/12-12-input','r') as f:\n",
    "    data = [x.rstrip() for x in f]"
   ]
  },
  {
   "cell_type": "markdown",
   "metadata": {
    "tags": []
   },
   "source": [
    "###  Part One\n",
    "\n",
    "Find the start and end points of the search.  Change those string values to be 'a' and 'z', respectively, then convert into a numpy array of integers so that we can do the searching more easily with respect to checking the elevation conditions.  "
   ]
  },
  {
   "cell_type": "code",
   "execution_count": 3,
   "metadata": {
    "tags": []
   },
   "outputs": [
    {
     "data": {
      "text/plain": [
       "[20]"
      ]
     },
     "execution_count": 3,
     "metadata": {},
     "output_type": "execute_result"
    }
   ],
   "source": [
    "[i for i, x in enumerate(data) if 'S' in x] "
   ]
  },
  {
   "cell_type": "code",
   "execution_count": 4,
   "metadata": {},
   "outputs": [
    {
     "data": {
      "text/plain": [
       "'SbaaaccccccaaacaaaccccccccaaaaaaaaacaaaaaaaaacccccccccccccccccccccccccaaaaacccccccccccaaaaaaaaaaaaacaaaccaagggmmmtttxxxEzzzzyyyvvppplllccccccccc'"
      ]
     },
     "execution_count": 4,
     "metadata": {},
     "output_type": "execute_result"
    }
   ],
   "source": [
    "data[20]"
   ]
  },
  {
   "cell_type": "code",
   "execution_count": 5,
   "metadata": {},
   "outputs": [],
   "source": [
    "start = (20,0)"
   ]
  },
  {
   "cell_type": "markdown",
   "metadata": {},
   "source": [
    "The target square is actually on the same row as the start.  "
   ]
  },
  {
   "cell_type": "code",
   "execution_count": 6,
   "metadata": {},
   "outputs": [
    {
     "data": {
      "text/plain": [
       "[119]"
      ]
     },
     "execution_count": 6,
     "metadata": {},
     "output_type": "execute_result"
    }
   ],
   "source": [
    "[i for i,x in enumerate(data[20]) if x == 'E']"
   ]
  },
  {
   "cell_type": "code",
   "execution_count": 7,
   "metadata": {},
   "outputs": [],
   "source": [
    "target = (20,119)"
   ]
  },
  {
   "cell_type": "code",
   "execution_count": 8,
   "metadata": {},
   "outputs": [],
   "source": [
    "data[20] = 'a' + data[20][1:119] + 'z' + data[20][120:]"
   ]
  },
  {
   "cell_type": "code",
   "execution_count": 9,
   "metadata": {
    "tags": []
   },
   "outputs": [],
   "source": [
    "terrain = np.array([[ord(c) - ord('a') for c in list(x)] for x in data])"
   ]
  },
  {
   "cell_type": "markdown",
   "metadata": {},
   "source": [
    "Now we can do Dijkstra's algorithm for the shortest path, respecting the restriction that we can only increase the elevation by at most one, but can decrease by any amount.  "
   ]
  },
  {
   "cell_type": "code",
   "execution_count": 10,
   "metadata": {},
   "outputs": [],
   "source": [
    "shortest = np.zeros_like(terrain)\n",
    "shortest[:,:] = 10000000\n",
    "shortest[start] = 0\n",
    "\n",
    "visited = np.array([[False for i in range(shortest.shape[1])] for j in range(shortest.shape[0])])\n",
    "visited[start] = True\n",
    "\n",
    "queue = deque()\n",
    "queue.append(start)\n",
    "\n",
    "while queue:\n",
    "    current = queue.popleft()\n",
    "    row, col = current\n",
    "    up = (row-1, col)\n",
    "    down = (row+1, col)\n",
    "    left = (row, col-1)\n",
    "    right = (row, col+1)\n",
    "    for v in [up, down, left, right]:\n",
    "        if  (terrain.shape[0] > v[0] >= 0) \\\n",
    "        and (terrain.shape[1] > v[1] >= 0) \\\n",
    "        and (not visited[v]) \\\n",
    "        and (terrain[v] - terrain[current] <= 1):\n",
    "            visited[v] = True\n",
    "            shortest[v] = shortest[current] + 1\n",
    "            queue.append(v)"
   ]
  },
  {
   "cell_type": "code",
   "execution_count": 11,
   "metadata": {},
   "outputs": [
    {
     "data": {
      "text/plain": [
       "423"
      ]
     },
     "execution_count": 11,
     "metadata": {},
     "output_type": "execute_result"
    }
   ],
   "source": [
    "shortest[target]"
   ]
  },
  {
   "cell_type": "markdown",
   "metadata": {},
   "source": [
    "###  Part Two\n",
    "\n",
    "Run Dijkstra again, but with any of the starting points of elevation 'a'.  Could go for a version of the all-pairs shortest paths, but seems like too much trouble in this case.  "
   ]
  },
  {
   "cell_type": "code",
   "execution_count": 12,
   "metadata": {},
   "outputs": [],
   "source": [
    "starting_points = [(x,y) for x in range(len(data)) for y in range(len(data[0])) if data[x][y] == 'a']"
   ]
  },
  {
   "cell_type": "code",
   "execution_count": 13,
   "metadata": {},
   "outputs": [
    {
     "data": {
      "text/plain": [
       "1687"
      ]
     },
     "execution_count": 13,
     "metadata": {},
     "output_type": "execute_result"
    }
   ],
   "source": [
    "len(starting_points)"
   ]
  },
  {
   "cell_type": "code",
   "execution_count": 14,
   "metadata": {},
   "outputs": [],
   "source": [
    "shortest_found = 10000000\n",
    "\n",
    "for start in starting_points:\n",
    "    shortest = np.zeros_like(terrain)\n",
    "    shortest[:,:] = 10000000\n",
    "    shortest[start] = 0\n",
    "\n",
    "    visited = np.array([[False for i in range(shortest.shape[1])] for j in range(shortest.shape[0])])\n",
    "    visited[start] = True\n",
    "\n",
    "    queue = deque()\n",
    "    queue.append(start)\n",
    "\n",
    "    while queue:\n",
    "        current = queue.popleft()\n",
    "        row, col = current\n",
    "        up = (row-1, col)\n",
    "        down = (row+1, col)\n",
    "        left = (row, col-1)\n",
    "        right = (row, col+1)\n",
    "        for v in [up, down, left, right]:\n",
    "            if  (terrain.shape[0] > v[0] >= 0) \\\n",
    "            and (terrain.shape[1] > v[1] >= 0) \\\n",
    "            and (not visited[v]) \\\n",
    "            and (terrain[v] - terrain[current] <= 1):\n",
    "                visited[v] = True\n",
    "                shortest[v] = shortest[current] + 1\n",
    "                queue.append(v)\n",
    "                \n",
    "    shortest_found = min(shortest_found, shortest[target])"
   ]
  },
  {
   "cell_type": "code",
   "execution_count": 15,
   "metadata": {},
   "outputs": [
    {
     "data": {
      "text/plain": [
       "416"
      ]
     },
     "execution_count": 15,
     "metadata": {},
     "output_type": "execute_result"
    }
   ],
   "source": [
    "shortest_found"
   ]
  },
  {
   "cell_type": "code",
   "execution_count": null,
   "metadata": {},
   "outputs": [],
   "source": []
  }
 ],
 "metadata": {
  "kernelspec": {
   "display_name": "Python (data3)",
   "language": "python",
   "name": "data3"
  },
  "language_info": {
   "codemirror_mode": {
    "name": "ipython",
    "version": 3
   },
   "file_extension": ".py",
   "mimetype": "text/x-python",
   "name": "python",
   "nbconvert_exporter": "python",
   "pygments_lexer": "ipython3",
   "version": "3.9.7"
  }
 },
 "nbformat": 4,
 "nbformat_minor": 4
}
