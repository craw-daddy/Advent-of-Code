{
 "cells": [
  {
   "cell_type": "code",
   "execution_count": 1,
   "metadata": {},
   "outputs": [],
   "source": [
    "from itertools import combinations, product"
   ]
  },
  {
   "cell_type": "code",
   "execution_count": 2,
   "metadata": {},
   "outputs": [],
   "source": [
    "with open('input/12-18-input', 'r') as f:\n",
    "    data = [x.strip() for x in f]"
   ]
  },
  {
   "cell_type": "markdown",
   "metadata": {},
   "source": [
    "data = ['2,2,2',\n",
    "'1,2,2',\n",
    "'3,2,2',\n",
    "'2,1,2',\n",
    "'2,3,2',\n",
    "'2,2,1',\n",
    "'2,2,3',\n",
    "'2,2,4',\n",
    "'2,2,6',\n",
    "'1,2,5',\n",
    "'3,2,5',\n",
    "'2,1,5',\n",
    "'2,3,5'\n",
    "]"
   ]
  },
  {
   "cell_type": "code",
   "execution_count": 3,
   "metadata": {},
   "outputs": [],
   "source": [
    "def manhattan(c1, c2):\n",
    "    return sum(abs(x-y) for x,y in zip(c1,c2))"
   ]
  },
  {
   "cell_type": "markdown",
   "metadata": {},
   "source": [
    "###  Part 1"
   ]
  },
  {
   "cell_type": "code",
   "execution_count": 4,
   "metadata": {},
   "outputs": [
    {
     "data": {
      "text/plain": [
       "4300"
      ]
     },
     "execution_count": 4,
     "metadata": {},
     "output_type": "execute_result"
    }
   ],
   "source": [
    "coords = [[int(n) for n in row.split(',')] for row in data]\n",
    "\n",
    "shared_sides = 0\n",
    "\n",
    "for i, j in combinations(coords,2):\n",
    "    if manhattan(i,j) == 1:\n",
    "        shared_sides += 1\n",
    "\n",
    "total_surface_area = 6*len(coords) - 2*shared_sides  #  6 sides per cube, each shared side reduces surface area by 2\n",
    "total_surface_area"
   ]
  },
  {
   "cell_type": "markdown",
   "metadata": {},
   "source": [
    "###  Part 2"
   ]
  },
  {
   "cell_type": "code",
   "execution_count": 5,
   "metadata": {},
   "outputs": [
    {
     "data": {
      "text/plain": [
       "((0, 21), (0, 21), (0, 21))"
      ]
     },
     "execution_count": 5,
     "metadata": {},
     "output_type": "execute_result"
    }
   ],
   "source": [
    "first = min(p[0] for p in coords), max(p[0] for p in coords)\n",
    "second = min(p[1] for p in coords), max(p[1] for p in coords)\n",
    "third = min(p[2] for p in coords), max(p[2] for p in coords)\n",
    "\n",
    "first, second, third"
   ]
  },
  {
   "cell_type": "markdown",
   "metadata": {},
   "source": [
    "So the collection of cubes is inside of a larger cube of side length 21 (or 22, depending upon how you interpret the coordinates as a corner or center of each cube).  "
   ]
  },
  {
   "cell_type": "code",
   "execution_count": 6,
   "metadata": {},
   "outputs": [
    {
     "data": {
      "text/plain": [
       "2893"
      ]
     },
     "execution_count": 6,
     "metadata": {},
     "output_type": "execute_result"
    }
   ],
   "source": [
    "len(data)"
   ]
  },
  {
   "cell_type": "markdown",
   "metadata": {},
   "source": [
    "**Idea:**\n",
    "1. Find the collection of \"absent cubes\" that are around the outside of the region.  (There may be several holes, or a hole, with additional lava inside, with a hole inside that, etc.)  \n",
    "2. Add the remaining cubes to the lava that is already there (i.e. fill in the holes), then find the surface area as before, and that will, by definition, be the external surface area since the holes have been filled in.  "
   ]
  },
  {
   "cell_type": "code",
   "execution_count": 7,
   "metadata": {},
   "outputs": [],
   "source": [
    "absent = []\n",
    "for x in product(range(22), repeat=3):\n",
    "    if list(x) not in coords:\n",
    "        absent.append(x)"
   ]
  },
  {
   "cell_type": "code",
   "execution_count": 8,
   "metadata": {},
   "outputs": [],
   "source": [
    "absent_boundary = [x for x in absent if (any(y == 0 for y in x) or any(y == 21 for y in x))]"
   ]
  },
  {
   "cell_type": "code",
   "execution_count": 9,
   "metadata": {},
   "outputs": [],
   "source": [
    "while absent_boundary:\n",
    "    visited = { v : False for v in absent }\n",
    "    stack = [absent_boundary[0]]\n",
    "    visited[stack[0]] = True\n",
    "    while stack:\n",
    "        v = stack.pop()\n",
    "        for w in absent:\n",
    "            if not visited[w] and manhattan(v,w) == 1:\n",
    "                stack.append(w)\n",
    "                visited[w] = True\n",
    "    \n",
    "    absent = [v for v in absent if visited[v] == False]\n",
    "    absent_boundary = [v for v in absent_boundary if visited[v] == False]"
   ]
  },
  {
   "cell_type": "code",
   "execution_count": 10,
   "metadata": {},
   "outputs": [
    {
     "data": {
      "text/plain": [
       "2490"
      ]
     },
     "execution_count": 10,
     "metadata": {},
     "output_type": "execute_result"
    }
   ],
   "source": [
    "shared_sides = 0\n",
    "\n",
    "for i, j in combinations(coords+absent,2):\n",
    "    if manhattan(i,j) == 1:\n",
    "        shared_sides += 1\n",
    "\n",
    "total_surface_area = 6*len(coords+absent) - 2*shared_sides  #  6 sides per cube, each shared side reduces surface area by 2\n",
    "total_surface_area"
   ]
  },
  {
   "cell_type": "code",
   "execution_count": null,
   "metadata": {},
   "outputs": [],
   "source": []
  }
 ],
 "metadata": {
  "kernelspec": {
   "display_name": "Python (data3)",
   "language": "python",
   "name": "data3"
  },
  "language_info": {
   "codemirror_mode": {
    "name": "ipython",
    "version": 3
   },
   "file_extension": ".py",
   "mimetype": "text/x-python",
   "name": "python",
   "nbconvert_exporter": "python",
   "pygments_lexer": "ipython3",
   "version": "3.9.7"
  }
 },
 "nbformat": 4,
 "nbformat_minor": 4
}
