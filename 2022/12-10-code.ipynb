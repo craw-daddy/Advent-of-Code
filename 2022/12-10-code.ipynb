{
 "cells": [
  {
   "cell_type": "code",
   "execution_count": 1,
   "metadata": {
    "tags": []
   },
   "outputs": [],
   "source": [
    "with open('12-10-input','r') as f:\n",
    "    data = [x.rstrip() for x in f]"
   ]
  },
  {
   "cell_type": "markdown",
   "metadata": {},
   "source": [
    "### Part One"
   ]
  },
  {
   "cell_type": "code",
   "execution_count": 2,
   "metadata": {
    "tags": []
   },
   "outputs": [],
   "source": [
    "register = [1]\n",
    "\n",
    "for d in data:\n",
    "    command = d.split()[0]\n",
    "    if command == 'addx':\n",
    "        register.extend([register[-1], register[-1] + int(d.split()[1])])\n",
    "    else:  #  noop\n",
    "        register.extend([register[-1]])"
   ]
  },
  {
   "cell_type": "markdown",
   "metadata": {},
   "source": [
    "The value of the register *during* a cycle is the same as the value at the end of the previous cycle.  "
   ]
  },
  {
   "cell_type": "code",
   "execution_count": 3,
   "metadata": {},
   "outputs": [],
   "source": [
    "signal_strength = [x*register[x-1] for x in range(20, len(register), 40)]"
   ]
  },
  {
   "cell_type": "code",
   "execution_count": 4,
   "metadata": {},
   "outputs": [
    {
     "data": {
      "text/plain": [
       "11780"
      ]
     },
     "execution_count": 4,
     "metadata": {},
     "output_type": "execute_result"
    }
   ],
   "source": [
    "sum(signal_strength)"
   ]
  },
  {
   "cell_type": "markdown",
   "metadata": {},
   "source": [
    "### Part Two"
   ]
  },
  {
   "cell_type": "code",
   "execution_count": 5,
   "metadata": {},
   "outputs": [
    {
     "data": {
      "text/plain": [
       "240"
      ]
     },
     "execution_count": 5,
     "metadata": {},
     "output_type": "execute_result"
    }
   ],
   "source": [
    "len(register[:-1])"
   ]
  },
  {
   "cell_type": "code",
   "execution_count": 6,
   "metadata": {},
   "outputs": [],
   "source": [
    "chars = []\n",
    "\n",
    "for cycle, pos in enumerate(register[:-1]):\n",
    "    # pos is the position of the center of the sprite\n",
    "    pixel = cycle % 40\n",
    "    if set([pixel]).intersection([pos-1, pos, pos+1]):\n",
    "        chars.append('#')\n",
    "    else:\n",
    "        chars.append('.')"
   ]
  },
  {
   "cell_type": "code",
   "execution_count": 7,
   "metadata": {},
   "outputs": [],
   "source": [
    "output = [''.join(chars[0+i*40:(i+1)*40]) for i in range(len(chars)//40)]"
   ]
  },
  {
   "cell_type": "code",
   "execution_count": 8,
   "metadata": {},
   "outputs": [
    {
     "data": {
      "text/plain": [
       "['###..####.#..#.#....###...##..#..#..##..',\n",
       " '#..#....#.#..#.#....#..#.#..#.#..#.#..#.',\n",
       " '#..#...#..#..#.#....###..#..#.#..#.#..#.',\n",
       " '###...#...#..#.#....#..#.####.#..#.####.',\n",
       " '#....#....#..#.#....#..#.#..#.#..#.#..#.',\n",
       " '#....####..##..####.###..#..#..##..#..#.']"
      ]
     },
     "execution_count": 8,
     "metadata": {},
     "output_type": "execute_result"
    }
   ],
   "source": [
    "output"
   ]
  },
  {
   "cell_type": "code",
   "execution_count": 9,
   "metadata": {},
   "outputs": [
    {
     "data": {
      "text/plain": [
       "'PZULBAUA'"
      ]
     },
     "execution_count": 9,
     "metadata": {},
     "output_type": "execute_result"
    }
   ],
   "source": [
    "'PZULBAUA'"
   ]
  }
 ],
 "metadata": {
  "kernelspec": {
   "display_name": "Python (data3)",
   "language": "python",
   "name": "data3"
  },
  "language_info": {
   "codemirror_mode": {
    "name": "ipython",
    "version": 3
   },
   "file_extension": ".py",
   "mimetype": "text/x-python",
   "name": "python",
   "nbconvert_exporter": "python",
   "pygments_lexer": "ipython3",
   "version": "3.9.7"
  }
 },
 "nbformat": 4,
 "nbformat_minor": 4
}
