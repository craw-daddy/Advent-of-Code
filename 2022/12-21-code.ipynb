{
 "cells": [
  {
   "cell_type": "code",
   "execution_count": 1,
   "metadata": {},
   "outputs": [],
   "source": [
    "import re"
   ]
  },
  {
   "cell_type": "code",
   "execution_count": 2,
   "metadata": {
    "tags": []
   },
   "outputs": [],
   "source": [
    "with open('input/12-21-input', 'r') as f:\n",
    "    data = [x.strip() for x in f]"
   ]
  },
  {
   "cell_type": "markdown",
   "metadata": {},
   "source": [
    "data = [\n",
    "'root: pppw + sjmn',\n",
    "'dbpl: 5',\n",
    "'cczh: sllz + lgvd',\n",
    "'zczc: 2',\n",
    "'ptdq: humn - dvpt',\n",
    "'dvpt: 3',\n",
    "'lfqf: 4',\n",
    "'humn: 5',\n",
    "'ljgn: 2',\n",
    "'sjmn: drzm * dbpl',\n",
    "'sllz: 4',\n",
    "'pppw: cczh / lfqf',\n",
    "'lgvd: ljgn * ptdq',\n",
    "'drzm: hmdt - zczc',\n",
    "'hmdt: 32'\n",
    "]"
   ]
  },
  {
   "cell_type": "markdown",
   "metadata": {},
   "source": [
    "###  Part 1"
   ]
  },
  {
   "cell_type": "code",
   "execution_count": 3,
   "metadata": {},
   "outputs": [],
   "source": [
    "commands = { s.split(': ')[0] : s.split(': ')[1] for s in data}"
   ]
  },
  {
   "cell_type": "code",
   "execution_count": 4,
   "metadata": {},
   "outputs": [],
   "source": [
    "for k, v in commands.items():\n",
    "    try:\n",
    "        commands[k] = int(v)\n",
    "    except ValueError:\n",
    "        pass"
   ]
  },
  {
   "cell_type": "code",
   "execution_count": 5,
   "metadata": {},
   "outputs": [
    {
     "data": {
      "text/plain": [
       "82225382988628"
      ]
     },
     "execution_count": 5,
     "metadata": {},
     "output_type": "execute_result"
    }
   ],
   "source": [
    "while any(isinstance(v, str) for v in commands.values()):\n",
    "    for k, v in commands.items():\n",
    "        if isinstance(v, str):\n",
    "            stuff = re.split(r' ([+-/*//]) ', v)\n",
    "            if isinstance(commands[stuff[0]], int) and isinstance(commands[stuff[2]], int):\n",
    "                commands[k] = int(eval(f'{str(commands[stuff[0]]) + stuff[1] + str(commands[stuff[2]])}'))\n",
    "                \n",
    "commands['root']"
   ]
  },
  {
   "cell_type": "markdown",
   "metadata": {},
   "source": [
    "###  Part 2\n",
    "\n",
    "Let's cheat to some extent and use the `sympy` package to do the solving for us.  "
   ]
  },
  {
   "cell_type": "code",
   "execution_count": 6,
   "metadata": {},
   "outputs": [],
   "source": [
    "with open('input/12-21-input', 'r') as f:\n",
    "    data = [x.strip() for x in f]\n",
    "\n",
    "commands = { s.split(': ')[0] : s.split(': ')[1] for s in data}\n",
    "\n",
    "del commands['humn']\n",
    "\n",
    "commands['root'] = commands['root'].replace('+', '=')\n",
    "\n",
    "for k, v in commands.items():\n",
    "    try:\n",
    "        commands[k] = int(v)\n",
    "    except ValueError:\n",
    "        pass\n",
    "\n",
    "old_commands = commands.copy()\n",
    "\n",
    "while len(old_commands) > 0:\n",
    "    old_commands = commands.copy()\n",
    "    for k, v in old_commands.items():\n",
    "        if k == 'root' or (isinstance(v, str) and 'humn' in v):\n",
    "            pass\n",
    "        elif isinstance(v, str):\n",
    "            stuff = re.split(r' ([+-/*//]) ', v)\n",
    "            if isinstance(old_commands[stuff[0]], int) and isinstance(old_commands[stuff[2]], int):\n",
    "                commands[k] = int(eval(f'{str(old_commands[stuff[0]]) + stuff[1] + str(old_commands[stuff[2]])}'))\n",
    "                \n",
    "    if commands == old_commands:\n",
    "        old_commands = {}"
   ]
  },
  {
   "cell_type": "code",
   "execution_count": 7,
   "metadata": {},
   "outputs": [],
   "source": [
    "first = commands[commands['root'].split(' = ')[0]]\n",
    "second = commands[commands['root'].split(' = ')[1]]\n",
    "\n",
    "target = first if isinstance(first, int) else second\n",
    "eqn = first if isinstance(first, str) else second"
   ]
  },
  {
   "cell_type": "code",
   "execution_count": 8,
   "metadata": {},
   "outputs": [],
   "source": [
    "from sympy.solvers import solve\n",
    "from sympy import Symbol"
   ]
  },
  {
   "cell_type": "code",
   "execution_count": 9,
   "metadata": {},
   "outputs": [],
   "source": [
    "equations = [eqn + ' - ' + str(target)] + \\\n",
    "            [ k + ' - (' + v + ')' for k,v in commands.items() if isinstance(v, str) and k != 'root']"
   ]
  },
  {
   "cell_type": "code",
   "execution_count": 10,
   "metadata": {},
   "outputs": [],
   "source": [
    "eqns_to_solve = []\n",
    "\n",
    "for eq in equations:\n",
    "    new_eq = eq\n",
    "    parts = re.findall('[a-z]+', eq)\n",
    "    for symbol in parts:\n",
    "        if (symbol != 'humn') and isinstance(commands[symbol], int):\n",
    "            new_eq = new_eq.replace(symbol, str(commands[symbol]))\n",
    "    eqns_to_solve.append(new_eq)"
   ]
  },
  {
   "cell_type": "code",
   "execution_count": 11,
   "metadata": {},
   "outputs": [
    {
     "data": {
      "text/latex": [
       "$\\displaystyle 3429411069028$"
      ],
      "text/plain": [
       "3429411069028"
      ]
     },
     "execution_count": 11,
     "metadata": {},
     "output_type": "execute_result"
    }
   ],
   "source": [
    "solve(eqns_to_solve)[Symbol('humn')]"
   ]
  },
  {
   "cell_type": "code",
   "execution_count": null,
   "metadata": {},
   "outputs": [],
   "source": []
  }
 ],
 "metadata": {
  "kernelspec": {
   "display_name": "Python (data3)",
   "language": "python",
   "name": "data3"
  },
  "language_info": {
   "codemirror_mode": {
    "name": "ipython",
    "version": 3
   },
   "file_extension": ".py",
   "mimetype": "text/x-python",
   "name": "python",
   "nbconvert_exporter": "python",
   "pygments_lexer": "ipython3",
   "version": "3.9.7"
  }
 },
 "nbformat": 4,
 "nbformat_minor": 4
}
