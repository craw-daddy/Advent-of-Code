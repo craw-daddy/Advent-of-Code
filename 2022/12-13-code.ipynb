{
 "cells": [
  {
   "cell_type": "code",
   "execution_count": 1,
   "metadata": {},
   "outputs": [],
   "source": [
    "with open('input/12-13-input','r') as f:\n",
    "    data = [x.rstrip() for x in f]"
   ]
  },
  {
   "cell_type": "markdown",
   "metadata": {},
   "source": [
    "### Part One\n",
    "\n",
    "We can use `eval` to easily convert the strings into Python lists, and then work on processing those according to the rules given.  "
   ]
  },
  {
   "cell_type": "code",
   "execution_count": 2,
   "metadata": {},
   "outputs": [],
   "source": [
    "def compare(packet_1, packet_2):\n",
    "    '''packet_1 and packet_2 could both be ints, both be list, or one of each type\n",
    "\n",
    "    We use a recursive type of approach.  The only possible ambiguity is\n",
    "    when we encounter two integers which are the same, in which case we have\n",
    "    to test the remainder of the list to which those two ints belong.\n",
    "    \n",
    "    We return True is the packets are in the correct order, otherwise we return False.\n",
    "    Note that the problem seems to assume that two given packets are never identical.'''\n",
    "    if isinstance(packet_1, int) and isinstance(packet_2, int):\n",
    "        if packet_1 < packet_2:\n",
    "            return True\n",
    "        elif packet_1 > packet_2:\n",
    "            return False\n",
    "        else:  #  two ints are equal, so not done yet\n",
    "            return None #  no conclusion yet\n",
    "        \n",
    "    if isinstance(packet_1, list) and isinstance(packet_2, list):\n",
    "        if len(packet_1) == 0 and len(packet_2) > 0:\n",
    "            return True\n",
    "        elif len(packet_2) == 0 and len(packet_1) > 0: \n",
    "            return False\n",
    "        elif len(packet_1) == 0 and len(packet_2) == 0:\n",
    "            return None\n",
    "        else:\n",
    "            left = packet_1[0]\n",
    "            right = packet_2[0]\n",
    "            temp = compare(left, right)\n",
    "            if temp is not None:\n",
    "                return temp\n",
    "            else:\n",
    "                return compare(packet_1[1:], packet_2[1:])\n",
    "            \n",
    "    if isinstance(packet_1, list) and isinstance(packet_2, int):\n",
    "        return compare(packet_1, [packet_2])\n",
    "    \n",
    "    if isinstance(packet_1, int) and isinstance(packet_2, list):\n",
    "        return compare([packet_1], packet_2)\n",
    "    \n",
    "    return 'Not done'  #  if we get here, some case has arisen \n",
    "                       #  that we haven't considered or encountered (yet)"
   ]
  },
  {
   "cell_type": "code",
   "execution_count": 3,
   "metadata": {},
   "outputs": [],
   "source": [
    "assert compare([1, 1, 3, 1, 1],[1, 1, 5, 1, 1]) == True\n",
    "assert compare([[1],[2, 3 ,4]], [[1], 4]) == True\n",
    "assert compare([9],[[8, 7, 6]]) == False\n",
    "assert compare([[4, 4],4, 4], [[4, 4],4, 4, 4]) == True\n",
    "assert compare([7, 7, 7, 7], [7, 7, 7]) == False\n",
    "assert compare([], [3]) == True\n",
    "assert compare([[[]]], [[]]) == False\n",
    "assert compare([1,[2,[3,[4,[5,6,7]]]],8,9], [1,[2,[3,[4,[5,6,0]]]],8,9]) == False"
   ]
  },
  {
   "cell_type": "code",
   "execution_count": 4,
   "metadata": {
    "tags": []
   },
   "outputs": [
    {
     "data": {
      "text/plain": [
       "5252"
      ]
     },
     "execution_count": 4,
     "metadata": {},
     "output_type": "execute_result"
    }
   ],
   "source": [
    "total = 0\n",
    "\n",
    "for i in range(0, len(data), 3):\n",
    "    first = eval(data[i])\n",
    "    second = eval(data[i+1]) \n",
    "    if compare(first, second):\n",
    "        total += i//3 + 1\n",
    "        \n",
    "total"
   ]
  },
  {
   "cell_type": "markdown",
   "metadata": {},
   "source": [
    "###  Part Two\n",
    "\n",
    "We need to add the two \"divider packets\" to the list of packets, then sort (according to the defined order), and find the indices of the divider packets to find the \"decoder key\".  Our `compare` method can be used to sort, but we need to reverse the Boolean value as it returns `True` if the first (left) value is smaller than the second (right) value in a custom sort method.\n",
    "\n",
    "We write the custom sort method to return an integer value, and then convert that custom sort method into a \"key\" using a method from `functools` to do that for us.  "
   ]
  },
  {
   "cell_type": "code",
   "execution_count": 5,
   "metadata": {},
   "outputs": [],
   "source": [
    "packets = [eval(x) for x in data if x != ''] + [[[2]], [[6]]]"
   ]
  },
  {
   "cell_type": "code",
   "execution_count": 6,
   "metadata": {},
   "outputs": [],
   "source": [
    "import functools"
   ]
  },
  {
   "cell_type": "code",
   "execution_count": 7,
   "metadata": {},
   "outputs": [],
   "source": [
    "def compare_int(x,y):\n",
    "    if compare(x,y):\n",
    "        return -1\n",
    "    else: \n",
    "        return 1"
   ]
  },
  {
   "cell_type": "code",
   "execution_count": 8,
   "metadata": {},
   "outputs": [],
   "source": [
    "sorted_packets = sorted(packets, key=functools.cmp_to_key(compare_int))"
   ]
  },
  {
   "cell_type": "code",
   "execution_count": 9,
   "metadata": {},
   "outputs": [
    {
     "data": {
      "text/plain": [
       "20592"
      ]
     },
     "execution_count": 9,
     "metadata": {},
     "output_type": "execute_result"
    }
   ],
   "source": [
    "(sorted_packets.index([[2]]) + 1) * (sorted_packets.index([[6]]) + 1)"
   ]
  },
  {
   "cell_type": "code",
   "execution_count": null,
   "metadata": {},
   "outputs": [],
   "source": []
  }
 ],
 "metadata": {
  "kernelspec": {
   "display_name": "Python (data3)",
   "language": "python",
   "name": "data3"
  },
  "language_info": {
   "codemirror_mode": {
    "name": "ipython",
    "version": 3
   },
   "file_extension": ".py",
   "mimetype": "text/x-python",
   "name": "python",
   "nbconvert_exporter": "python",
   "pygments_lexer": "ipython3",
   "version": "3.9.7"
  }
 },
 "nbformat": 4,
 "nbformat_minor": 4
}
