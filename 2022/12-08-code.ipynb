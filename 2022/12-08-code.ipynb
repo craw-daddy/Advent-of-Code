{
 "cells": [
  {
   "cell_type": "code",
   "execution_count": 1,
   "metadata": {},
   "outputs": [],
   "source": [
    "import numpy as np"
   ]
  },
  {
   "cell_type": "code",
   "execution_count": 2,
   "metadata": {},
   "outputs": [],
   "source": [
    "with open('12-08-input', 'r') as f:\n",
    "    data = [x.strip() for x in f]"
   ]
  },
  {
   "cell_type": "code",
   "execution_count": 3,
   "metadata": {
    "tags": []
   },
   "outputs": [],
   "source": [
    "data = np.array([[int(x) for x in list(line)] for line in data])"
   ]
  },
  {
   "cell_type": "markdown",
   "metadata": {},
   "source": [
    "### Part One"
   ]
  },
  {
   "cell_type": "code",
   "execution_count": 4,
   "metadata": {
    "tags": []
   },
   "outputs": [],
   "source": [
    "visible = np.zeros_like(data)\n",
    "\n",
    "visible[0] = 1\n",
    "visible[-1] = 1\n",
    "visible[:,0] = 1\n",
    "visible[:,-1] = 1"
   ]
  },
  {
   "cell_type": "code",
   "execution_count": 5,
   "metadata": {},
   "outputs": [],
   "source": [
    "# Check same row from left, same col from top, \n",
    "# same row from right, same col from bottom\n",
    "for i in range(1, visible.shape[0]-1):\n",
    "    for j in range(1, visible.shape[1]-1):\n",
    "        visible[i,j] = all(data[i,:j] < data[i,j]) or\\\n",
    "               all(data[:i,j] < data[i,j]) or\\\n",
    "               all(data[i+1:,j] < data[i,j]) or\\\n",
    "               all(data[i,j+1:] < data[i,j])"
   ]
  },
  {
   "cell_type": "code",
   "execution_count": 6,
   "metadata": {},
   "outputs": [
    {
     "data": {
      "text/plain": [
       "1805"
      ]
     },
     "execution_count": 6,
     "metadata": {},
     "output_type": "execute_result"
    }
   ],
   "source": [
    "visible.sum()"
   ]
  },
  {
   "cell_type": "markdown",
   "metadata": {},
   "source": [
    "### Part Two"
   ]
  },
  {
   "cell_type": "code",
   "execution_count": 7,
   "metadata": {},
   "outputs": [],
   "source": [
    "max_scenic_score = 0\n",
    "\n",
    "for i in range(data.shape[0]):\n",
    "    for j in range(data.shape[1]):\n",
    "        below = min([data.shape[1]-1] + [k for k in range(i+1,data.shape[1]) if data[k,j] >= data[i,j]]) - i\n",
    "        above = i - max([0] + [k for k in range(i-1,-1,-1) if data[k,j] >= data[i,j]])\n",
    "        left = j - max([0] + [k for k in range(j-1,-1,-1) if data[i,k] >= data[i,j]])\n",
    "        right = min([data.shape[0]-1] + [k for k in range(j+1, data.shape[0]) if data[i,k] >= data[i,j]]) - j\n",
    "        max_scenic_score = max(max_scenic_score, below*above*left*right)"
   ]
  },
  {
   "cell_type": "code",
   "execution_count": 8,
   "metadata": {},
   "outputs": [
    {
     "data": {
      "text/plain": [
       "444528"
      ]
     },
     "execution_count": 8,
     "metadata": {},
     "output_type": "execute_result"
    }
   ],
   "source": [
    "max_scenic_score"
   ]
  }
 ],
 "metadata": {
  "kernelspec": {
   "display_name": "Python (data3)",
   "language": "python",
   "name": "data3"
  },
  "language_info": {
   "codemirror_mode": {
    "name": "ipython",
    "version": 3
   },
   "file_extension": ".py",
   "mimetype": "text/x-python",
   "name": "python",
   "nbconvert_exporter": "python",
   "pygments_lexer": "ipython3",
   "version": "3.9.7"
  }
 },
 "nbformat": 4,
 "nbformat_minor": 4
}
