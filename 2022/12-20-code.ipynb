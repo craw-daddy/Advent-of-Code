{
 "cells": [
  {
   "cell_type": "code",
   "execution_count": 1,
   "metadata": {},
   "outputs": [],
   "source": [
    "with open('input/12-20-input', 'r') as f:\n",
    "    data = [int(x) for x in f]"
   ]
  },
  {
   "cell_type": "markdown",
   "metadata": {},
   "source": [
    "### Part 1"
   ]
  },
  {
   "cell_type": "code",
   "execution_count": 2,
   "metadata": {},
   "outputs": [
    {
     "data": {
      "text/plain": [
       "8302"
      ]
     },
     "execution_count": 2,
     "metadata": {},
     "output_type": "execute_result"
    }
   ],
   "source": [
    "initial_data = data.copy()\n",
    "location = list(range(len(initial_data)))\n",
    "\n",
    "current = data.copy()\n",
    "\n",
    "for i in range(len(location)):\n",
    "    #  Get the number that was in the original position, as that's the one that we want to move\n",
    "    num = initial_data[i]\n",
    "    #  Where is that number now in the new list?  \n",
    "    start = location.index(i)\n",
    "    end = (start + num)  % (len(location) - 1) #  ending location index\n",
    "    temp = location[:start] + location[start+1:]\n",
    "    location = temp[:end] + [i] + temp[end:]\n",
    "    \n",
    "current = [initial_data[x] for x in location]\n",
    "zero = current.index(0)\n",
    "\n",
    "first = (zero + 1000) % len(current)\n",
    "second = (zero + 2000) % len(current)\n",
    "third = (zero + 3000) % len(current)\n",
    "\n",
    "current[first] + current[second] + current[third]"
   ]
  },
  {
   "cell_type": "markdown",
   "metadata": {},
   "source": [
    "###  Part 2"
   ]
  },
  {
   "cell_type": "code",
   "execution_count": 3,
   "metadata": {},
   "outputs": [
    {
     "data": {
      "text/plain": [
       "656575624777"
      ]
     },
     "execution_count": 3,
     "metadata": {},
     "output_type": "execute_result"
    }
   ],
   "source": [
    "initial_data = [811589153*x for x in data]\n",
    "location = list(range(len(initial_data)))\n",
    "\n",
    "current = data.copy()\n",
    "\n",
    "for _ in range(10):\n",
    "    for i in range(len(location)):\n",
    "        #  Get the number that was in the original position, as that's the one that we want to move\n",
    "        num = initial_data[i]\n",
    "        #  Where is that number now in the new list?  \n",
    "        start = location.index(i)\n",
    "        end = (start + num)  % (len(location) - 1) #  ending location index\n",
    "        temp = location[:start] + location[start+1:]\n",
    "        location = temp[:end] + [i] + temp[end:]\n",
    "    \n",
    "current = [initial_data[x] for x in location]\n",
    "zero = current.index(0)\n",
    "\n",
    "first = (zero + 1000) % len(current)\n",
    "second = (zero + 2000) % len(current)\n",
    "third = (zero + 3000) % len(current)\n",
    "\n",
    "current[first] + current[second] + current[third]"
   ]
  },
  {
   "cell_type": "code",
   "execution_count": null,
   "metadata": {},
   "outputs": [],
   "source": []
  }
 ],
 "metadata": {
  "kernelspec": {
   "display_name": "Python (data3)",
   "language": "python",
   "name": "data3"
  },
  "language_info": {
   "codemirror_mode": {
    "name": "ipython",
    "version": 3
   },
   "file_extension": ".py",
   "mimetype": "text/x-python",
   "name": "python",
   "nbconvert_exporter": "python",
   "pygments_lexer": "ipython3",
   "version": "3.9.7"
  }
 },
 "nbformat": 4,
 "nbformat_minor": 4
}
