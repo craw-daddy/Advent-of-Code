{
 "cells": [
  {
   "cell_type": "code",
   "execution_count": 1,
   "metadata": {},
   "outputs": [],
   "source": [
    "from collections import defaultdict"
   ]
  },
  {
   "cell_type": "code",
   "execution_count": 2,
   "metadata": {
    "tags": []
   },
   "outputs": [],
   "source": [
    "with open('12-07-input','r') as f:\n",
    "    lines = [x for x in f]"
   ]
  },
  {
   "cell_type": "code",
   "execution_count": 3,
   "metadata": {},
   "outputs": [
    {
     "data": {
      "text/plain": [
       "['$ cd /\\n',\n",
       " '$ ls\\n',\n",
       " 'dir bfqzjjct\\n',\n",
       " 'dir cgcqpjpn\\n',\n",
       " 'dir frrjh\\n',\n",
       " 'dir jjl\\n',\n",
       " '293559 jztrccm.hvd\\n',\n",
       " 'dir mqvn\\n',\n",
       " '$ cd bfqzjjct\\n',\n",
       " '$ ls\\n']"
      ]
     },
     "execution_count": 3,
     "metadata": {},
     "output_type": "execute_result"
    }
   ],
   "source": [
    "lines[:10]"
   ]
  },
  {
   "cell_type": "markdown",
   "metadata": {},
   "source": [
    "### Part One"
   ]
  },
  {
   "cell_type": "code",
   "execution_count": 4,
   "metadata": {},
   "outputs": [],
   "source": [
    "adj_list = defaultdict(list)\n",
    "\n",
    "vertices = {'/': {'parent': None, 'kind': 'dir', 'size': 0 }}\n",
    "\n",
    "working_dir = ['/']\n",
    "current_dir = working_dir[-1]\n",
    "\n",
    "#  Build the file system as a tree-type of structure\n",
    "\n",
    "for command in lines:\n",
    "    parts = [x.strip() for x in command.split()]\n",
    "    if command[0] == '$':\n",
    "        if parts[1] == 'cd':\n",
    "            if parts[2] == '..':\n",
    "                working_dir.pop()\n",
    "                current_dir = working_dir[-1]\n",
    "            elif parts[2] == '/':\n",
    "                working_dir = ['/']\n",
    "                current_dir == '/'\n",
    "            else:\n",
    "                new_dir = current_dir + '/' + parts[2]\n",
    "                if new_dir not in vertices:\n",
    "                    print(f'Adding directory {new_dir}')\n",
    "                    vertices[new_dir] = {'parent': current_dir, 'kind': 'dir', 'size': 0}\n",
    "                working_dir.append(new_dir)\n",
    "                current_dir = new_dir\n",
    "        elif parts[1] == 'ls':\n",
    "            continue\n",
    "        else:\n",
    "            raise ValueError(f'Unknown command encountered {command}')\n",
    "    elif command[0] == 'd':  # Encountered a subdirectory\n",
    "        new_dir = current_dir + '/' + parts[1]\n",
    "        if new_dir not in vertices:\n",
    "            vertices[new_dir] = {'parent': current_dir, 'kind': 'dir', 'size':0}\n",
    "            adj_list[current_dir].append(new_dir)\n",
    "    elif command[0] in '0123456789':\n",
    "        new_file = current_dir + '/' + parts[1]\n",
    "        if new_file not in vertices:\n",
    "            vertices[new_file] = {'parent': current_dir, 'kind': 'file', 'size': int(parts[0])}\n",
    "            adj_list[current_dir].append(new_file)\n",
    "    else:\n",
    "        raise ValueError(f'Unknown command encountered {command}')  "
   ]
  },
  {
   "cell_type": "markdown",
   "metadata": {},
   "source": [
    "###  Depth-first search"
   ]
  },
  {
   "cell_type": "code",
   "execution_count": 5,
   "metadata": {},
   "outputs": [],
   "source": [
    "visited = defaultdict(lambda: False)\n",
    "visited['/'] = True\n",
    "\n",
    "stack = ['/']\n",
    "\n",
    "while stack:\n",
    "    top = stack[-1]\n",
    "    for v in adj_list[top]:\n",
    "        if (not visited[v]) and (vertices[v]['kind'] == 'file'):\n",
    "            vertices[vertices[v]['parent']]['size'] += vertices[v]['size']\n",
    "            visited[v] = True\n",
    "        elif (not visited[v]):\n",
    "            visited[v] = True\n",
    "            stack.append(v)\n",
    "            break\n",
    "    if top == stack[-1]:\n",
    "        if vertices[top]['parent']:\n",
    "            vertices[vertices[top]['parent']]['size'] += vertices[top]['size']\n",
    "        stack.pop()"
   ]
  },
  {
   "cell_type": "code",
   "execution_count": 6,
   "metadata": {},
   "outputs": [
    {
     "data": {
      "text/plain": [
       "1453349"
      ]
     },
     "execution_count": 6,
     "metadata": {},
     "output_type": "execute_result"
    }
   ],
   "source": [
    "sum([vertices[v]['size'] for v in vertices if vertices[v]['kind'] == 'dir' and vertices[v]['size'] <= 100000])"
   ]
  },
  {
   "cell_type": "markdown",
   "metadata": {},
   "source": [
    "### Part Two"
   ]
  },
  {
   "cell_type": "code",
   "execution_count": 7,
   "metadata": {
    "tags": []
   },
   "outputs": [
    {
     "data": {
      "text/plain": [
       "{'parent': None, 'kind': 'dir', 'size': 42586708}"
      ]
     },
     "execution_count": 7,
     "metadata": {},
     "output_type": "execute_result"
    }
   ],
   "source": [
    "vertices['/']"
   ]
  },
  {
   "cell_type": "code",
   "execution_count": 8,
   "metadata": {},
   "outputs": [],
   "source": [
    "total_space = 70000000"
   ]
  },
  {
   "cell_type": "code",
   "execution_count": 9,
   "metadata": {},
   "outputs": [],
   "source": [
    "unused_space = total_space - vertices['/']['size']"
   ]
  },
  {
   "cell_type": "code",
   "execution_count": 10,
   "metadata": {},
   "outputs": [],
   "source": [
    "needed_space = 30000000 - unused_space"
   ]
  },
  {
   "cell_type": "code",
   "execution_count": 11,
   "metadata": {},
   "outputs": [
    {
     "data": {
      "text/plain": [
       "2948823"
      ]
     },
     "execution_count": 11,
     "metadata": {},
     "output_type": "execute_result"
    }
   ],
   "source": [
    "min([vertices[v]['size'] for v in vertices if vertices[v]['size'] >= needed_space])"
   ]
  },
  {
   "cell_type": "code",
   "execution_count": null,
   "metadata": {},
   "outputs": [],
   "source": []
  }
 ],
 "metadata": {
  "kernelspec": {
   "display_name": "Python (data3)",
   "language": "python",
   "name": "data3"
  },
  "language_info": {
   "codemirror_mode": {
    "name": "ipython",
    "version": 3
   },
   "file_extension": ".py",
   "mimetype": "text/x-python",
   "name": "python",
   "nbconvert_exporter": "python",
   "pygments_lexer": "ipython3",
   "version": "3.9.7"
  }
 },
 "nbformat": 4,
 "nbformat_minor": 4
}
