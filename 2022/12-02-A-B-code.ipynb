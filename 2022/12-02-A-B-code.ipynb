{
 "cells": [
  {
   "cell_type": "code",
   "execution_count": 1,
   "metadata": {},
   "outputs": [],
   "source": [
    "with open('12-02-A-input', 'r') as f:\n",
    "    lines = f.readlines()"
   ]
  },
  {
   "cell_type": "markdown",
   "metadata": {},
   "source": [
    "A means Rock, B means Paper, C means Scissors.\n",
    "\n",
    "X means Rock, Y means Paper, Z means Scissors."
   ]
  },
  {
   "cell_type": "code",
   "execution_count": 2,
   "metadata": {},
   "outputs": [],
   "source": [
    "choice = {'X': 1, 'Y': 2, 'Z': 3}\n",
    "\n",
    "your_score = {('A', 'X'): 3, ('A', 'Y'): 6, ('A', 'Z'): 0,\n",
    "              ('B', 'X'): 0, ('B', 'Y'): 3, ('B', 'Z'): 6,\n",
    "              ('C', 'X'): 6, ('C', 'Y'): 0, ('C', 'Z'): 3 \n",
    "             }"
   ]
  },
  {
   "cell_type": "code",
   "execution_count": 3,
   "metadata": {},
   "outputs": [],
   "source": [
    "total = 0\n",
    "for z in lines:\n",
    "    turn = z.strip().split()\n",
    "    total += your_score[(turn[0], turn[1])] + choice[turn[1]]"
   ]
  },
  {
   "cell_type": "code",
   "execution_count": 4,
   "metadata": {},
   "outputs": [
    {
     "data": {
      "text/plain": [
       "15523"
      ]
     },
     "execution_count": 4,
     "metadata": {},
     "output_type": "execute_result"
    }
   ],
   "source": [
    "total"
   ]
  },
  {
   "cell_type": "markdown",
   "metadata": {},
   "source": [
    "X means you need to lose, Y means you need to end the round in a draw, and Z means you need to win.\n",
    "\n",
    "Let's remap (A, X), meaning (Rock, lose) to (A, Y), etc, and use the previous dictionaries."
   ]
  },
  {
   "cell_type": "code",
   "execution_count": 5,
   "metadata": {},
   "outputs": [],
   "source": [
    "remap = { ('A','X'): ('A','Z'), ('A','Y'): ('A','X'), ('A','Z'): ('A','Y'),\n",
    "          ('B','X'): ('B','X'), ('B','Y'): ('B','Y'), ('B','Z'): ('B','Z'),\n",
    "          ('C','X'): ('C','Y'), ('C','Y'): ('C','Z'), ('C','Z'): ('C','X')\n",
    "        }         "
   ]
  },
  {
   "cell_type": "code",
   "execution_count": 6,
   "metadata": {},
   "outputs": [],
   "source": [
    "total = 0\n",
    "for z in lines:\n",
    "    turn = remap[(tuple(z.strip().split()))]\n",
    "    total += your_score[(turn[0], turn[1])] + choice[turn[1]]"
   ]
  },
  {
   "cell_type": "code",
   "execution_count": 7,
   "metadata": {},
   "outputs": [
    {
     "data": {
      "text/plain": [
       "15702"
      ]
     },
     "execution_count": 7,
     "metadata": {},
     "output_type": "execute_result"
    }
   ],
   "source": [
    "total"
   ]
  },
  {
   "cell_type": "code",
   "execution_count": null,
   "metadata": {},
   "outputs": [],
   "source": []
  }
 ],
 "metadata": {
  "kernelspec": {
   "display_name": "Python (data3)",
   "language": "python",
   "name": "data3"
  },
  "language_info": {
   "codemirror_mode": {
    "name": "ipython",
    "version": 3
   },
   "file_extension": ".py",
   "mimetype": "text/x-python",
   "name": "python",
   "nbconvert_exporter": "python",
   "pygments_lexer": "ipython3",
   "version": "3.9.7"
  }
 },
 "nbformat": 4,
 "nbformat_minor": 4
}
