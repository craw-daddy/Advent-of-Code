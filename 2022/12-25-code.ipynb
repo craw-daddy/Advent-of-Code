{
 "cells": [
  {
   "cell_type": "code",
   "execution_count": 1,
   "metadata": {},
   "outputs": [],
   "source": [
    "with open('input/12-25-input','r') as f:\n",
    "    data = [x.strip() for x in f]"
   ]
  },
  {
   "cell_type": "code",
   "execution_count": 2,
   "metadata": {},
   "outputs": [],
   "source": [
    "def SNAFU_to_decimal(s):\n",
    "    SNAFU_digits = list(s)\n",
    "    decimal = 0\n",
    "    for power, digit in enumerate(SNAFU_digits[::-1]):\n",
    "        if digit in ['0', '1', '2']:\n",
    "            decimal += 5**power*int(digit)\n",
    "        elif digit == '-':\n",
    "            decimal += 5**power*(-1)\n",
    "        elif digit == '=':\n",
    "            decimal += 5**power*(-2)\n",
    "    \n",
    "    return decimal"
   ]
  },
  {
   "cell_type": "code",
   "execution_count": 3,
   "metadata": {},
   "outputs": [],
   "source": [
    "def decimal_to_SNAFU(n):\n",
    "    '''First convert to base 5 notation, then we have to account\n",
    "    for the \"digits\" being 0, 1, 2, -, and =, which involves a\n",
    "    conversion of 3 to \"1=\" and 4 to \"1-\" (with carries as\n",
    "    appropriate).'''\n",
    "    s = ''\n",
    "    while n != 0:\n",
    "        power = 1\n",
    "        rem = n % (5**power)\n",
    "        n = n//5**power\n",
    "        s = s + str(rem)\n",
    "\n",
    "    #  We have the base 5 representation (saved in reverse order),\n",
    "    #  and now have to convert to the SNAFU representation.    \n",
    "    final = ''\n",
    "    while s:\n",
    "        if s[0] in ['0', '1', '2']:\n",
    "            final = final + s[0]\n",
    "            s = s[1:]\n",
    "        elif s[0] == '3':\n",
    "            final = final + '='\n",
    "            if len(s) > 1:\n",
    "                s = str(int(s[1]) + 1) + s[2:]\n",
    "            else:\n",
    "                s = str(1)\n",
    "        elif s[0] == '4':\n",
    "            final = final + '-'\n",
    "            if len(s) > 1:\n",
    "                s = str(int(s[1]) + 1) + s[2:]\n",
    "            else:\n",
    "                s = str(1)\n",
    "        elif s[0] == '5':\n",
    "            final = final + '0'\n",
    "            if len(s) > 1: \n",
    "                s = str(int(s[1]) + 1) + s[2:]\n",
    "            else:\n",
    "                s = str(1)\n",
    " \n",
    "    return final[::-1]"
   ]
  },
  {
   "cell_type": "code",
   "execution_count": 4,
   "metadata": {},
   "outputs": [
    {
     "name": "stdout",
     "output_type": "stream",
     "text": [
      "2-2=12=1-=-1=000=222\n"
     ]
    }
   ],
   "source": [
    "total = 0\n",
    "\n",
    "for s in data:\n",
    "    decimal = SNAFU_to_decimal(s)\n",
    "    total += decimal\n",
    "    \n",
    "print(decimal_to_SNAFU(total))"
   ]
  },
  {
   "cell_type": "code",
   "execution_count": null,
   "metadata": {},
   "outputs": [],
   "source": []
  }
 ],
 "metadata": {
  "kernelspec": {
   "display_name": "Python (data3)",
   "language": "python",
   "name": "data3"
  },
  "language_info": {
   "codemirror_mode": {
    "name": "ipython",
    "version": 3
   },
   "file_extension": ".py",
   "mimetype": "text/x-python",
   "name": "python",
   "nbconvert_exporter": "python",
   "pygments_lexer": "ipython3",
   "version": "3.9.7"
  }
 },
 "nbformat": 4,
 "nbformat_minor": 4
}
