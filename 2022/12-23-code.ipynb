{
 "cells": [
  {
   "cell_type": "code",
   "execution_count": 1,
   "metadata": {},
   "outputs": [],
   "source": [
    "from collections import Counter\n",
    "from functools import reduce\n",
    "from datetime import datetime\n",
    "\n",
    "import numpy as np"
   ]
  },
  {
   "cell_type": "code",
   "execution_count": 2,
   "metadata": {},
   "outputs": [],
   "source": [
    "with open('input/12-23-input', 'r') as f:\n",
    "    data = [x.strip() for x in f]"
   ]
  },
  {
   "cell_type": "markdown",
   "metadata": {},
   "source": [
    "data = [\n",
    "'....#..',\n",
    "'..###.#',\n",
    "'#...#.#',\n",
    "'.#...##',\n",
    "'#.###..',\n",
    "'##.#.##',\n",
    "'.#..#..'\n",
    "]"
   ]
  },
  {
   "cell_type": "code",
   "execution_count": 3,
   "metadata": {},
   "outputs": [],
   "source": [
    "def pad(M):\n",
    "    #  Pads a numpy array with a ring of 0s, i.e. adds a new top row, new bottom row, \n",
    "    #  new first column, and new last column of zeros.\n",
    "    dim = M.shape\n",
    "    return np.r_['0,2', [0]*(dim[1]+2), np.c_[np.zeros(dim[0]), M, np.zeros(dim[0])], [0]*(dim[1]+2)]"
   ]
  },
  {
   "cell_type": "code",
   "execution_count": 4,
   "metadata": {
    "tags": []
   },
   "outputs": [],
   "source": [
    "def trim(M):\n",
    "    #  Trims the numpy array of outer rows/columns of zeros\n",
    "    result = M.copy()\n",
    "    while np.all(result[0, :] == 0):\n",
    "            result = result[1:, :]\n",
    "    while np.all(result[-1, :] == 0):\n",
    "        result = result[:-1, :]\n",
    "    while np.all(result[:, 0] == 0):\n",
    "        result = result[:, 1:]\n",
    "    while np.all(result[:, -1] == 0):\n",
    "        result = result[:, :-1]\n",
    "    return result"
   ]
  },
  {
   "cell_type": "markdown",
   "metadata": {},
   "source": [
    "###  Part 1"
   ]
  },
  {
   "cell_type": "code",
   "execution_count": 5,
   "metadata": {
    "tags": []
   },
   "outputs": [],
   "source": [
    "positions = np.array([ [0 if x == '.' else 1 for x in y] for y in data])\n",
    "directions = ['N', 'S', 'W', 'E']\n",
    "\n",
    "for _ in range(10):\n",
    "    positions = pad(positions)\n",
    "    elves = zip(np.nonzero(positions)[0].tolist(), np.nonzero(positions)[1].tolist())\n",
    "    #  Track the starting position and the desired end position for each elf\n",
    "    goal = {}\n",
    "    for row, col in elves:\n",
    "        window = positions[row-1:row+2, col-1:col+2].copy()\n",
    "        #  Initially assume that the elf doesn't want to move\n",
    "        goal[(row, col)] = (row, col)\n",
    "        if window.sum() == 1:  #  no neighbors, so will stay in the same place\n",
    "            pass\n",
    "        else:  #  elf wants to move\n",
    "            done = False\n",
    "            for d in directions:\n",
    "                if d == 'N' and not done:\n",
    "                    north = window[0, :].sum()\n",
    "                    if north == 0:\n",
    "                        done = True\n",
    "                        goal[(row, col)] = (row-1, col)\n",
    "                if d == 'S' and not done:\n",
    "                    south = window[2, :].sum()\n",
    "                    if south == 0:\n",
    "                        done = True\n",
    "                        goal[(row, col)] = (row+1, col)\n",
    "                if d == 'W' and not done:\n",
    "                    west = window[:, 0].sum()\n",
    "                    if west == 0:\n",
    "                        done = True\n",
    "                        goal[(row, col)] = (row, col-1)\n",
    "                if d == 'E' and not done:\n",
    "                    east = window[:, 2].sum()\n",
    "                    if east == 0:\n",
    "                        done = True\n",
    "                        goal[(row, col)] = (row, col+1)\n",
    "                        \n",
    "    wants = [k for k, v in Counter(goal.values()).items() if v == 1]\n",
    "    valid_moves = { x: y for x,y in goal.items() if y in wants and x != y }\n",
    "    for k, v in valid_moves.items():\n",
    "        positions[k] = 0\n",
    "        positions[v] = 1             \n",
    "    \n",
    "    #  Update list of considered directions\n",
    "    directions = directions[1:] + [directions[0]]"
   ]
  },
  {
   "cell_type": "code",
   "execution_count": 6,
   "metadata": {},
   "outputs": [
    {
     "data": {
      "text/plain": [
       "3757"
      ]
     },
     "execution_count": 6,
     "metadata": {},
     "output_type": "execute_result"
    }
   ],
   "source": [
    "positions = trim(positions)\n",
    "\n",
    "int(reduce(lambda x,y: x*y, positions.shape) - positions.sum())"
   ]
  },
  {
   "cell_type": "markdown",
   "metadata": {},
   "source": [
    "### Part 2"
   ]
  },
  {
   "cell_type": "code",
   "execution_count": 7,
   "metadata": {},
   "outputs": [
    {
     "name": "stdout",
     "output_type": "stream",
     "text": [
      "Done after 918 rounds!\n"
     ]
    }
   ],
   "source": [
    "positions = np.array([ [0 if x == '.' else 1 for x in y] for y in data])\n",
    "directions = ['N', 'S', 'W', 'E']\n",
    "\n",
    "rounds = 0\n",
    "\n",
    "while True:\n",
    "    rounds += 1\n",
    "    positions = pad(positions)\n",
    "    elves = zip(np.nonzero(positions)[0].tolist(), np.nonzero(positions)[1].tolist())\n",
    "    #  Track the starting position and the desired end position for each elf\n",
    "    goal = {}\n",
    "    for row, col in elves:\n",
    "        window = positions[row-1:row+2, col-1:col+2].copy()\n",
    "        #  Initially assume that the elf doesn't want to move\n",
    "        goal[(row, col)] = (row, col)\n",
    "        if window.sum() == 1:  #  no neighbors, so will stay in the same place\n",
    "            pass\n",
    "        else:  #  elf wants to move\n",
    "            done = False\n",
    "            for d in directions:\n",
    "                if d == 'N' and not done:\n",
    "                    north = window[0, :].sum()\n",
    "                    if north == 0:\n",
    "                        done = True\n",
    "                        goal[(row, col)] = (row-1, col)\n",
    "                if d == 'S' and not done:\n",
    "                    south = window[2, :].sum()\n",
    "                    if south == 0:\n",
    "                        done = True\n",
    "                        goal[(row, col)] = (row+1, col)\n",
    "                if d == 'W' and not done:\n",
    "                    west = window[:, 0].sum()\n",
    "                    if west == 0:\n",
    "                        done = True\n",
    "                        goal[(row, col)] = (row, col-1)\n",
    "                if d == 'E' and not done:\n",
    "                    east = window[:, 2].sum()\n",
    "                    if east == 0:\n",
    "                        done = True\n",
    "                        goal[(row, col)] = (row, col+1)\n",
    "    \n",
    "    wants = [k for k, v in Counter(goal.values()).items() if v == 1]\n",
    "    valid_moves = { x: y for x,y in goal.items() if y in wants and x != y}\n",
    "    if len(valid_moves) == 0:\n",
    "        print(f'Done after {rounds} rounds!')\n",
    "        break\n",
    "    for k, v in valid_moves.items():\n",
    "        positions[k] = 0\n",
    "        positions[v] = 1             \n",
    "    \n",
    "    #  Update list of considered directions\n",
    "    directions = directions[1:] + [directions[0]]\n",
    "    if rounds % 10 == 0:\n",
    "        positions = trim(positions)\n",
    "    if rounds % 1000 == 0:\n",
    "        print(f'{datetime.now()}  {rounds}')"
   ]
  },
  {
   "cell_type": "code",
   "execution_count": null,
   "metadata": {},
   "outputs": [],
   "source": []
  }
 ],
 "metadata": {
  "kernelspec": {
   "display_name": "Python (data3)",
   "language": "python",
   "name": "data3"
  },
  "language_info": {
   "codemirror_mode": {
    "name": "ipython",
    "version": 3
   },
   "file_extension": ".py",
   "mimetype": "text/x-python",
   "name": "python",
   "nbconvert_exporter": "python",
   "pygments_lexer": "ipython3",
   "version": "3.9.7"
  }
 },
 "nbformat": 4,
 "nbformat_minor": 4
}
