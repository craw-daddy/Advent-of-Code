{
 "cells": [
  {
   "cell_type": "code",
   "execution_count": 1,
   "id": "4439b0b5-d819-49c6-9129-7ba0fbcb2fff",
   "metadata": {},
   "outputs": [],
   "source": [
    "import copy"
   ]
  },
  {
   "cell_type": "code",
   "execution_count": 2,
   "id": "8c11e71f-ec57-4d2b-8792-e83c83ad7587",
   "metadata": {},
   "outputs": [],
   "source": [
    "with open('data/12-06.input') as f:\n",
    "    lines = [x.strip() for x in f]"
   ]
  },
  {
   "cell_type": "markdown",
   "id": "ed2f3d69-25cb-4b94-90d0-3866b9ec8d92",
   "metadata": {},
   "source": [
    "data = '''....#.....\n",
    ".........#\n",
    "..........\n",
    "..#.......\n",
    ".......#..\n",
    "..........\n",
    ".#..^.....\n",
    "........#.\n",
    "#.........\n",
    "......#...'''\n",
    "\n",
    "lines = [x.strip() for x in data.split('\\n')]"
   ]
  },
  {
   "cell_type": "code",
   "execution_count": 3,
   "id": "ca4c9cb8-8647-4b59-8b2b-a513998a6076",
   "metadata": {},
   "outputs": [],
   "source": [
    "arr = [list(x) for x in lines]\n",
    "\n",
    "n_rows = len(arr)\n",
    "n_cols = len(arr[0])"
   ]
  },
  {
   "cell_type": "code",
   "execution_count": 4,
   "id": "ac191021-b28d-4a7e-a0d5-fcf7e5754eef",
   "metadata": {},
   "outputs": [
    {
     "name": "stdout",
     "output_type": "stream",
     "text": [
      "130\n",
      "130\n"
     ]
    }
   ],
   "source": [
    "print(n_rows)\n",
    "print(n_cols)"
   ]
  },
  {
   "cell_type": "code",
   "execution_count": 5,
   "id": "44fe3951-8db8-48a1-a02e-9998066fcdbc",
   "metadata": {},
   "outputs": [],
   "source": [
    "DIRECTIONS = ['^', '>', 'v', '<']"
   ]
  },
  {
   "cell_type": "markdown",
   "id": "09874921-0937-43e4-86b4-0735a4d7cd58",
   "metadata": {},
   "source": [
    "Let's save a copy of the original array in case we need it (as we will for the Part II)."
   ]
  },
  {
   "cell_type": "code",
   "execution_count": 6,
   "id": "5d8d5d14-8390-4005-a2cc-a1827b02ee69",
   "metadata": {},
   "outputs": [],
   "source": [
    "save = copy.deepcopy(arr)"
   ]
  },
  {
   "cell_type": "markdown",
   "id": "c9acf076-d499-4ee5-a7fe-e99711f83028",
   "metadata": {},
   "source": [
    "## Part I\n",
    "\n",
    "This method was originally written to assume that the guard would always exit, but was then modified to walk around for a \"while\", assuming that if you hadn't exited in a long enough time (based on the grid size), then you must be stuck in a loop.  "
   ]
  },
  {
   "cell_type": "code",
   "execution_count": 7,
   "id": "d89606e6-7940-48d5-8749-78e1a6897be5",
   "metadata": {},
   "outputs": [],
   "source": [
    "def walk(arr):\n",
    "    n_rows = len(arr)\n",
    "    n_cols = len(arr[0])\n",
    "\n",
    "    #  Set an upper bound on the number of steps to consider\n",
    "    limit = n_rows*n_cols*100\n",
    "\n",
    "    pos = (-1,-1)  #  Adding this line seemed to prevent weird \"local variable\" errors\n",
    "    for row in range(n_rows):\n",
    "        for col in range(n_cols):\n",
    "            if arr[row][col] in DIRECTIONS:\n",
    "                direction = arr[row][col]\n",
    "                pos = (row, col)\n",
    "    \n",
    "    done = False\n",
    "    steps = 0\n",
    "    \n",
    "    while not done and (steps < limit) and (0 <= pos[0] < n_rows) and (0 <= pos[1] < n_cols):\n",
    "        #  Mark as visited\n",
    "        arr[pos[0]][pos[1]] = 'X'\n",
    "        steps += 1\n",
    "        \n",
    "        #  Try to move, or exit\n",
    "        \n",
    "        #  Check for an exit first\n",
    "        if pos[0] == 0 and direction == '^':\n",
    "            done = True\n",
    "        elif pos[0] == n_rows - 1 and direction == 'v':\n",
    "            done = True\n",
    "        elif pos[1] == 0 and direction =='<':\n",
    "            done = True\n",
    "        elif pos[1] == n_cols - 1 and direction == '>':\n",
    "            done = True\n",
    "        else:\n",
    "            match direction:\n",
    "                case '^':\n",
    "                    target = (pos[0] - 1, pos[1])\n",
    "                case '>':\n",
    "                    target = (pos[0], pos[1] + 1)\n",
    "                case 'v':\n",
    "                    target = (pos[0] + 1, pos[1])\n",
    "                case '<':\n",
    "                    target = (pos[0], pos[1] - 1)\n",
    "                case _:\n",
    "                    print('If we get here, something has gone wrong!')\n",
    "            if arr[target[0]][target[1]] != '#':\n",
    "                pos = target\n",
    "            else:\n",
    "                direction = DIRECTIONS[(DIRECTIONS.index(direction) + 1) % len(DIRECTIONS)]\n",
    "    \n",
    "    matches = [y == 'X' for x in arr for y in x]\n",
    "    \n",
    "    if steps < limit:\n",
    "        return sum(matches)\n",
    "    return 'loop found'"
   ]
  },
  {
   "cell_type": "code",
   "execution_count": 8,
   "id": "74dcff06-c12d-4473-9490-70228b370e61",
   "metadata": {},
   "outputs": [
    {
     "data": {
      "text/plain": [
       "5404"
      ]
     },
     "execution_count": 8,
     "metadata": {},
     "output_type": "execute_result"
    }
   ],
   "source": [
    "walk(arr)"
   ]
  },
  {
   "cell_type": "markdown",
   "id": "968cd6bc-5673-4f17-b677-26f1e4f09b80",
   "metadata": {},
   "source": [
    "## Part II"
   ]
  },
  {
   "cell_type": "code",
   "execution_count": 9,
   "id": "ec036795-abd3-4140-99f3-1e9435f9795d",
   "metadata": {},
   "outputs": [
    {
     "data": {
      "text/plain": [
       "1984"
      ]
     },
     "execution_count": 9,
     "metadata": {},
     "output_type": "execute_result"
    }
   ],
   "source": [
    "n_rows = len(arr)\n",
    "n_cols = len(arr[0])\n",
    "\n",
    "obstructions = 0\n",
    "\n",
    "for i in range(n_rows):\n",
    "    for j in range(n_cols):\n",
    "        arr = copy.deepcopy(save)\n",
    "        if arr[i][j] not in ['#'] + DIRECTIONS:\n",
    "            arr[i][j] = '#'\n",
    "            if walk(arr) == 'loop found':\n",
    "                obstructions += 1\n",
    "\n",
    "obstructions"
   ]
  },
  {
   "cell_type": "code",
   "execution_count": null,
   "id": "fcf10da9-d0b7-4786-b455-fc06b548a6f7",
   "metadata": {},
   "outputs": [],
   "source": []
  }
 ],
 "metadata": {
  "kernelspec": {
   "display_name": "RAM_Jan_2024",
   "language": "python",
   "name": "ram_jan_2024"
  },
  "language_info": {
   "codemirror_mode": {
    "name": "ipython",
    "version": 3
   },
   "file_extension": ".py",
   "mimetype": "text/x-python",
   "name": "python",
   "nbconvert_exporter": "python",
   "pygments_lexer": "ipython3",
   "version": "3.11.1"
  }
 },
 "nbformat": 4,
 "nbformat_minor": 5
}
