{
 "cells": [
  {
   "cell_type": "code",
   "execution_count": 1,
   "id": "3295e5f7-ae5f-4fad-a910-ea18fe9dc945",
   "metadata": {},
   "outputs": [],
   "source": [
    "from collections import defaultdict"
   ]
  },
  {
   "cell_type": "code",
   "execution_count": 2,
   "id": "4ab9ce15-6228-4b91-ab26-986c52f933f3",
   "metadata": {},
   "outputs": [],
   "source": [
    "with open('data/12-11.input') as f:\n",
    "    data = f.read()"
   ]
  },
  {
   "cell_type": "code",
   "execution_count": 3,
   "id": "8ecb85c4-65f9-4157-92df-32e65680a872",
   "metadata": {},
   "outputs": [],
   "source": [
    "data = [int(x) for x in data.strip().split(' ')]"
   ]
  },
  {
   "cell_type": "code",
   "execution_count": 4,
   "id": "ecf16ec5-3006-4ed8-95f8-adc54d9bc593",
   "metadata": {},
   "outputs": [],
   "source": [
    "def process_stone(s):\n",
    "    if s == 0:\n",
    "        return [1]\n",
    "    if len(str(s)) % 2 == 0:\n",
    "        s = str(s)\n",
    "        first = int(s[:len(s)//2])\n",
    "        second = int(s[len(s)//2:])\n",
    "        return [first, second]\n",
    "    return [s*2024]"
   ]
  },
  {
   "cell_type": "code",
   "execution_count": 5,
   "id": "48c558d8-823d-4ed0-9b23-479ae8efc517",
   "metadata": {},
   "outputs": [],
   "source": [
    "def blink(stones):\n",
    "    result = []\n",
    "    for s in stones:\n",
    "        result.extend(process_stone(s))\n",
    "    return result"
   ]
  },
  {
   "cell_type": "code",
   "execution_count": null,
   "id": "77a78a06-c45a-4003-bd2f-e989eb6de93f",
   "metadata": {},
   "outputs": [],
   "source": []
  },
  {
   "cell_type": "markdown",
   "id": "f1a4955f-9d65-42eb-897d-49254d19a8aa",
   "metadata": {},
   "source": [
    "Store the stones in a (default) dictionary.  The remark about \"keep the same order\" is just a distraction, as it doesnt matter about the order, only the number of stones.  Hence, we can store them in a dictionary of `label, number of stones` pairs and keep the processing down to a minimum.  "
   ]
  },
  {
   "cell_type": "code",
   "execution_count": 6,
   "id": "767ea0ef-86c3-4906-ab53-97fd8b71dda4",
   "metadata": {},
   "outputs": [],
   "source": [
    "stones = defaultdict(int)\n",
    "\n",
    "for d in data:\n",
    "    stones[d] += 1"
   ]
  },
  {
   "cell_type": "code",
   "execution_count": 7,
   "id": "cc204b19-5325-4e90-88dc-753f8bad1d4a",
   "metadata": {
    "scrolled": true
   },
   "outputs": [
    {
     "data": {
      "text/plain": [
       "defaultdict(int,\n",
       "            {64599: 1,\n",
       "             31: 1,\n",
       "             674832: 1,\n",
       "             2659361: 1,\n",
       "             1: 1,\n",
       "             0: 1,\n",
       "             8867: 1,\n",
       "             321: 1})"
      ]
     },
     "execution_count": 7,
     "metadata": {},
     "output_type": "execute_result"
    }
   ],
   "source": [
    "stones"
   ]
  },
  {
   "cell_type": "markdown",
   "id": "f33f7f07-8fb0-4171-8e5b-2547786ac335",
   "metadata": {},
   "source": [
    "## Part I\n",
    "\n",
    "Process stones individually, as that's all that matters here (order doesn't change, etc).  "
   ]
  },
  {
   "cell_type": "code",
   "execution_count": 8,
   "id": "f2dc1586-2bb8-489b-8616-f10e1dc6afb9",
   "metadata": {},
   "outputs": [],
   "source": [
    "for i in range(25):\n",
    "    new_stones = defaultdict(int)\n",
    "    for k,v in stones.items():\n",
    "        result = process_stone(k)\n",
    "        for r in result:\n",
    "            new_stones[r] += v\n",
    "    stones = new_stones"
   ]
  },
  {
   "cell_type": "code",
   "execution_count": 9,
   "id": "70951231-e7fc-47d0-afe3-d424395c2a0f",
   "metadata": {},
   "outputs": [
    {
     "data": {
      "text/plain": [
       "199986"
      ]
     },
     "execution_count": 9,
     "metadata": {},
     "output_type": "execute_result"
    }
   ],
   "source": [
    "sum(stones.values())"
   ]
  },
  {
   "cell_type": "markdown",
   "id": "12ea36c4-b116-49b3-86e5-e2c5b26874e2",
   "metadata": {},
   "source": [
    "## Part II\n",
    "\n",
    "We just need to process for 50 more \"blinks\" as we have done 25 already.  "
   ]
  },
  {
   "cell_type": "code",
   "execution_count": 10,
   "id": "1ebd483a-997a-4b4d-998b-49efc5ee68cd",
   "metadata": {},
   "outputs": [],
   "source": [
    "for i in range(50):\n",
    "    new_stones = defaultdict(int)\n",
    "    for k,v in stones.items():\n",
    "        result = process_stone(k)\n",
    "        for r in result:\n",
    "            new_stones[r] += v\n",
    "    stones = new_stones"
   ]
  },
  {
   "cell_type": "code",
   "execution_count": 11,
   "id": "1c87fcd0-d746-47d7-9521-8e54a7560ec7",
   "metadata": {},
   "outputs": [
    {
     "data": {
      "text/plain": [
       "236804088748754"
      ]
     },
     "execution_count": 11,
     "metadata": {},
     "output_type": "execute_result"
    }
   ],
   "source": [
    "sum(stones.values())"
   ]
  },
  {
   "cell_type": "code",
   "execution_count": null,
   "id": "52578d1d-b709-4112-8cf1-a68f6c1cfe7c",
   "metadata": {},
   "outputs": [],
   "source": []
  }
 ],
 "metadata": {
  "kernelspec": {
   "display_name": "RAM_Jan_2024",
   "language": "python",
   "name": "ram_jan_2024"
  },
  "language_info": {
   "codemirror_mode": {
    "name": "ipython",
    "version": 3
   },
   "file_extension": ".py",
   "mimetype": "text/x-python",
   "name": "python",
   "nbconvert_exporter": "python",
   "pygments_lexer": "ipython3",
   "version": "3.11.1"
  }
 },
 "nbformat": 4,
 "nbformat_minor": 5
}
