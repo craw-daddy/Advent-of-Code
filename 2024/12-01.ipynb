{
 "cells": [
  {
   "cell_type": "code",
   "execution_count": 1,
   "id": "935762c6-0e1a-4cea-9082-593e53033601",
   "metadata": {},
   "outputs": [],
   "source": [
    "with open('data/12-01.input') as f:\n",
    "    data = f.readlines()"
   ]
  },
  {
   "cell_type": "code",
   "execution_count": 2,
   "id": "8ca267b4-52d5-4357-a7ea-45a723c409d7",
   "metadata": {},
   "outputs": [],
   "source": [
    "data = [[int(x) for x in d.strip().split()] for d in data]"
   ]
  },
  {
   "cell_type": "markdown",
   "id": "a0688c16-7d67-4991-8eeb-ab0dab032541",
   "metadata": {},
   "source": [
    "## Part I"
   ]
  },
  {
   "cell_type": "code",
   "execution_count": 3,
   "id": "4c969348-64bb-4d92-9a00-7bccf1204bf6",
   "metadata": {},
   "outputs": [],
   "source": [
    "left = sorted([x[0] for x in data])\n",
    "right = sorted([x[1] for x in data])"
   ]
  },
  {
   "cell_type": "code",
   "execution_count": 4,
   "id": "f2b507ba-bab4-4465-8961-fce33575ec9b",
   "metadata": {},
   "outputs": [],
   "source": [
    "total = sum(abs(x[0] - x[1]) for x in zip(left,right))"
   ]
  },
  {
   "cell_type": "code",
   "execution_count": 5,
   "id": "b14664b7-4f24-4cd6-82ec-dd43c1c3a231",
   "metadata": {},
   "outputs": [
    {
     "data": {
      "text/plain": [
       "2086478"
      ]
     },
     "execution_count": 5,
     "metadata": {},
     "output_type": "execute_result"
    }
   ],
   "source": [
    "total"
   ]
  },
  {
   "cell_type": "markdown",
   "id": "47a8ec33-f597-4313-a55d-8d462fe1dd10",
   "metadata": {},
   "source": [
    "## Part II"
   ]
  },
  {
   "cell_type": "code",
   "execution_count": 6,
   "id": "f4249e1b-78ba-49f8-8aeb-c484811a3ffd",
   "metadata": {},
   "outputs": [],
   "source": [
    "matches = 0\n",
    "\n",
    "for x in left: \n",
    "    matches = matches + x * sum([x == y for y in right])"
   ]
  },
  {
   "cell_type": "code",
   "execution_count": 7,
   "id": "47b6b4de-089c-4ac0-b3da-3d0bdb7b382d",
   "metadata": {},
   "outputs": [
    {
     "data": {
      "text/plain": [
       "24941624"
      ]
     },
     "execution_count": 7,
     "metadata": {},
     "output_type": "execute_result"
    }
   ],
   "source": [
    "matches"
   ]
  },
  {
   "cell_type": "code",
   "execution_count": null,
   "id": "233c6131-00da-4dae-a019-07f2a1f62845",
   "metadata": {},
   "outputs": [],
   "source": []
  }
 ],
 "metadata": {
  "kernelspec": {
   "display_name": "RAM_Jan_2024",
   "language": "python",
   "name": "ram_jan_2024"
  },
  "language_info": {
   "codemirror_mode": {
    "name": "ipython",
    "version": 3
   },
   "file_extension": ".py",
   "mimetype": "text/x-python",
   "name": "python",
   "nbconvert_exporter": "python",
   "pygments_lexer": "ipython3",
   "version": "3.11.1"
  }
 },
 "nbformat": 4,
 "nbformat_minor": 5
}
