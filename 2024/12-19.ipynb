{
 "cells": [
  {
   "cell_type": "code",
   "execution_count": 1,
   "id": "d0a1df06-f3a0-4c2f-81f0-b3c3f3ef93aa",
   "metadata": {},
   "outputs": [],
   "source": [
    "from collections import defaultdict"
   ]
  },
  {
   "cell_type": "code",
   "execution_count": 2,
   "id": "452a6287-782c-4ee9-8132-a7cf58df295a",
   "metadata": {},
   "outputs": [],
   "source": [
    "with open('data/12-19.input') as f:\n",
    "    data = f.read()"
   ]
  },
  {
   "cell_type": "code",
   "execution_count": 3,
   "id": "8f3edcfe-48f5-405c-8474-b983d2d20ddc",
   "metadata": {},
   "outputs": [],
   "source": [
    "patterns = set(data.split('\\n')[0].split(', '))\n",
    "\n",
    "desired = [x for x in data.split('\\n')[2:]]"
   ]
  },
  {
   "cell_type": "markdown",
   "id": "97a1fb77-9c8d-4312-80ab-682465eef2b2",
   "metadata": {},
   "source": [
    "##  Parts I and II"
   ]
  },
  {
   "cell_type": "code",
   "execution_count": 4,
   "id": "917f81f5-9954-4df8-b813-dd2c9042662b",
   "metadata": {},
   "outputs": [],
   "source": [
    "##  Note:  This is essentially the same implementation given by areddish (github name) for\n",
    "##  this problem, as my dynamic programming wasn't working out due to bad brain.  \n",
    "##  See https://github.com/areddish/aoc2024/blob/main/day19/day19.py\n",
    "\n",
    "DP = defaultdict()\n",
    "\n",
    "def can_make(all_patterns, towel):\n",
    "    global DP\n",
    "    if towel in DP:  #  We've reached a base case computed already. \n",
    "        return DP[towel]\n",
    "    \n",
    "    # We got to this point in this function by following a sequence of \n",
    "    # patterns to construct the towel.  \n",
    "    if not towel:  #  We can make the \"empty\" string in one way, as a base case.  \n",
    "        return 1       \n",
    "\n",
    "    #  Otherwise, we have to try all the patterns.  \n",
    "    ways = 0\n",
    "    for p in all_patterns:\n",
    "        if towel.startswith(p):\n",
    "            ways += can_make(all_patterns, towel[len(p):])\n",
    "    DP[towel] = ways\n",
    "    return DP[towel]\n",
    "\n",
    "can_make_count = 0\n",
    "all_ways_count = 0\n",
    "\n",
    "for towel in desired:\n",
    "    if towel:  #  Avoid the empty string, as this appears due to the way I process input.  \n",
    "        possible_ways = can_make(patterns, towel)        \n",
    "        if possible_ways > 0:\n",
    "            can_make_count += 1\n",
    "            all_ways_count += possible_ways"
   ]
  },
  {
   "cell_type": "code",
   "execution_count": 5,
   "id": "7dab4c17-2374-42a7-a1ea-2061f5048d4e",
   "metadata": {},
   "outputs": [
    {
     "data": {
      "text/plain": [
       "(338, 841533074412361)"
      ]
     },
     "execution_count": 5,
     "metadata": {},
     "output_type": "execute_result"
    }
   ],
   "source": [
    "can_make_count, all_ways_count"
   ]
  },
  {
   "cell_type": "code",
   "execution_count": null,
   "id": "9f452941-f24f-441d-9043-cec98ca5337f",
   "metadata": {},
   "outputs": [],
   "source": []
  }
 ],
 "metadata": {
  "kernelspec": {
   "display_name": "RAM_Jan_2024",
   "language": "python",
   "name": "ram_jan_2024"
  },
  "language_info": {
   "codemirror_mode": {
    "name": "ipython",
    "version": 3
   },
   "file_extension": ".py",
   "mimetype": "text/x-python",
   "name": "python",
   "nbconvert_exporter": "python",
   "pygments_lexer": "ipython3",
   "version": "3.11.1"
  }
 },
 "nbformat": 4,
 "nbformat_minor": 5
}
