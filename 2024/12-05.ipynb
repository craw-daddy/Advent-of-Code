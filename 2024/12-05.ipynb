{
 "cells": [
  {
   "cell_type": "code",
   "execution_count": 1,
   "id": "78e8fcc0-816e-4e65-84db-c78c8da4afea",
   "metadata": {},
   "outputs": [],
   "source": [
    "from collections import namedtuple"
   ]
  },
  {
   "cell_type": "code",
   "execution_count": 2,
   "id": "3dba4c21-bdac-4f88-8bd8-29af71e7518e",
   "metadata": {},
   "outputs": [],
   "source": [
    "Rule = namedtuple('Rule', ['left', 'right'])"
   ]
  },
  {
   "cell_type": "code",
   "execution_count": 3,
   "id": "85ab86ae-a868-4337-982b-e40ab67d6a01",
   "metadata": {},
   "outputs": [],
   "source": [
    "with open('data/12-05.input') as f:\n",
    "    initial = f.readlines()"
   ]
  },
  {
   "cell_type": "markdown",
   "id": "f487431b-62fd-489b-9cea-4247a60fcf8d",
   "metadata": {},
   "source": [
    "Parse the \"rules\" and the other input data for the pages to be printed in each instance.  "
   ]
  },
  {
   "cell_type": "code",
   "execution_count": 4,
   "id": "20aab1b3-821f-4af0-b370-9800b1656809",
   "metadata": {},
   "outputs": [],
   "source": [
    "rule_list = []\n",
    "pages = []\n",
    "\n",
    "for line in initial:\n",
    "    if '|' in line:\n",
    "        nums = [int(x) for x in line.split('|')]\n",
    "        rule_list.append(Rule(nums[0], nums[1]))\n",
    "    if ',' in line:\n",
    "        pages.append([int(x) for x in line.split(',')])"
   ]
  },
  {
   "cell_type": "markdown",
   "id": "29930d52-8b1f-4bc2-aa40-cba3671a3b0b",
   "metadata": {},
   "source": [
    "## Part I"
   ]
  },
  {
   "cell_type": "code",
   "execution_count": 5,
   "id": "db36320f-7d6c-44f8-ab23-9c3543638c31",
   "metadata": {},
   "outputs": [],
   "source": [
    "def check(p):\n",
    "    valid = True\n",
    "    for rule in rule_list:\n",
    "        if rule.left in p and rule.right in p:\n",
    "            if p.index(rule.left) > p.index(rule.right):\n",
    "                valid = False\n",
    "    if valid:\n",
    "        return p[len(p)//2]\n",
    "    else:\n",
    "        return 0"
   ]
  },
  {
   "cell_type": "code",
   "execution_count": 6,
   "id": "e8c2a7aa-e350-4d0c-b89f-456c67dcbde8",
   "metadata": {},
   "outputs": [
    {
     "data": {
      "text/plain": [
       "5747"
      ]
     },
     "execution_count": 6,
     "metadata": {},
     "output_type": "execute_result"
    }
   ],
   "source": [
    "total = 0\n",
    "\n",
    "for p in pages:\n",
    "    total += check(p)\n",
    "    \n",
    "total"
   ]
  },
  {
   "cell_type": "markdown",
   "id": "fdf456ce-e524-4c59-929c-c747d5c44e24",
   "metadata": {},
   "source": [
    "## Part 2"
   ]
  },
  {
   "cell_type": "markdown",
   "id": "b2f3f50e-c9bd-48ea-b7e4-5fa76ebc5925",
   "metadata": {},
   "source": [
    "Implement a custom comparison method using the rules to define what is \"in order\" or \"out of order\", and then use that to \"sort\" according to the rules (after checking whether a particular list was valid or not).  "
   ]
  },
  {
   "cell_type": "code",
   "execution_count": 7,
   "id": "c79d7e0f-406a-4882-a867-a8043f00402d",
   "metadata": {},
   "outputs": [],
   "source": [
    "from functools import cmp_to_key"
   ]
  },
  {
   "cell_type": "code",
   "execution_count": 8,
   "id": "75e6bd71-f620-4885-a8a1-0eabe66cf7a6",
   "metadata": {},
   "outputs": [],
   "source": [
    "def compare(x,y):\n",
    "    for rule in rule_list:\n",
    "        if rule.left == x and rule.right == y:\n",
    "            return -1\n",
    "        if rule.left == y and rule.left == x:\n",
    "            return 1\n",
    "    return 0"
   ]
  },
  {
   "cell_type": "code",
   "execution_count": 9,
   "id": "05df9e67-78a2-46e4-af43-c437661c42d0",
   "metadata": {},
   "outputs": [
    {
     "data": {
      "text/plain": [
       "5502"
      ]
     },
     "execution_count": 9,
     "metadata": {},
     "output_type": "execute_result"
    }
   ],
   "source": [
    "total = 0\n",
    "\n",
    "for p in pages:\n",
    "    if check(p) == 0:\n",
    "        new = sorted(p, key=cmp_to_key(compare))\n",
    "        total += new[len(new)//2]\n",
    "\n",
    "total"
   ]
  },
  {
   "cell_type": "code",
   "execution_count": null,
   "id": "2a2199d9-5c4b-4b7e-914c-5b55c9e872c3",
   "metadata": {},
   "outputs": [],
   "source": []
  }
 ],
 "metadata": {
  "kernelspec": {
   "display_name": "RAM_Jan_2024",
   "language": "python",
   "name": "ram_jan_2024"
  },
  "language_info": {
   "codemirror_mode": {
    "name": "ipython",
    "version": 3
   },
   "file_extension": ".py",
   "mimetype": "text/x-python",
   "name": "python",
   "nbconvert_exporter": "python",
   "pygments_lexer": "ipython3",
   "version": "3.11.1"
  }
 },
 "nbformat": 4,
 "nbformat_minor": 5
}
