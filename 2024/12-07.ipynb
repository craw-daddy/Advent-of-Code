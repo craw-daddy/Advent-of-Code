{
 "cells": [
  {
   "cell_type": "code",
   "execution_count": 1,
   "id": "84cd07b1-ef0e-4284-b755-171b32e88b3d",
   "metadata": {},
   "outputs": [],
   "source": [
    "from collections import namedtuple\n",
    "from itertools import product"
   ]
  },
  {
   "cell_type": "code",
   "execution_count": 2,
   "id": "49b2c735-3f43-4ce7-8e93-06da0c354f0e",
   "metadata": {},
   "outputs": [],
   "source": [
    "with open('data/12-07.input') as f:\n",
    "    lines = [x.strip() for x in f]"
   ]
  },
  {
   "cell_type": "code",
   "execution_count": 3,
   "id": "716b6ddb-6ce1-4156-b00a-caa4a3c54a79",
   "metadata": {},
   "outputs": [],
   "source": [
    "Instance = namedtuple('Instance', ['target', 'values'])"
   ]
  },
  {
   "cell_type": "code",
   "execution_count": 4,
   "id": "d15277e1-146c-45ed-860f-d3d80f562bdc",
   "metadata": {},
   "outputs": [],
   "source": [
    "cases = []\n",
    "\n",
    "for line in lines:\n",
    "    parts = line.split(': ')\n",
    "    cases.append(Instance(int(parts[0]), [int(z) for z in parts[1].split(' ')]))"
   ]
  },
  {
   "cell_type": "markdown",
   "id": "cf1d6f8f-9aa3-4ff6-afe8-946b07538924",
   "metadata": {},
   "source": [
    "## Part I"
   ]
  },
  {
   "cell_type": "code",
   "execution_count": 5,
   "id": "04b06d76-60a9-4221-9dac-64373e46ca6f",
   "metadata": {},
   "outputs": [],
   "source": [
    "def test(c):\n",
    "    for trial in product('+*', repeat=len(c.values)-1):\n",
    "        nums = c.values\n",
    "        for operator in trial:\n",
    "            match operator:\n",
    "                case '+':\n",
    "                    partial = nums[0] + nums[1]\n",
    "                case '*':\n",
    "                    partial = nums[0] * nums[1]\n",
    "                case _:\n",
    "                    print('If we get here there is a problem!')\n",
    "            nums = [partial] + nums[2:]\n",
    "        if nums[0] == c.target:\n",
    "            return c.target\n",
    "            \n",
    "    return 0"
   ]
  },
  {
   "cell_type": "code",
   "execution_count": 6,
   "id": "ceeaf7e4-d61c-4f0a-a0af-7e14529a6bd5",
   "metadata": {},
   "outputs": [
    {
     "data": {
      "text/plain": [
       "4555081946288"
      ]
     },
     "execution_count": 6,
     "metadata": {},
     "output_type": "execute_result"
    }
   ],
   "source": [
    "total = 0\n",
    "\n",
    "for c in cases:\n",
    "    total += test(c)\n",
    "\n",
    "total"
   ]
  },
  {
   "cell_type": "markdown",
   "id": "b1ad985c-fd96-46d9-b6f5-09b9d57d224b",
   "metadata": {},
   "source": [
    "## Part II\n",
    "\n",
    "We modify the `test` method above to include the third type of operation.  Note that we are denoting that operation with a single vertical bar, unlike the double vertical bars used in the problem description."
   ]
  },
  {
   "cell_type": "code",
   "execution_count": 7,
   "id": "f0287365-4022-48fa-8c64-da2f21b11235",
   "metadata": {},
   "outputs": [],
   "source": [
    "def test(c):\n",
    "    for trial in product('|+*', repeat=len(c.values)-1):\n",
    "        nums = c.values\n",
    "        for operator in trial:\n",
    "            match operator:\n",
    "                case '+':\n",
    "                    partial = nums[0] + nums[1]\n",
    "                case '*':\n",
    "                    partial = nums[0] * nums[1]\n",
    "                case '|':\n",
    "                    partial = int(str(nums[0]) + str(nums[1]))\n",
    "                case _:\n",
    "                    print('If we get here there is a problem!')\n",
    "            nums = [partial] + nums[2:]\n",
    "        if nums[0] == c.target:\n",
    "            return c.target\n",
    "            \n",
    "    return 0"
   ]
  },
  {
   "cell_type": "code",
   "execution_count": 8,
   "id": "6a7c491f-848e-450f-82b5-fa072dc52843",
   "metadata": {},
   "outputs": [
    {
     "data": {
      "text/plain": [
       "227921760109726"
      ]
     },
     "execution_count": 8,
     "metadata": {},
     "output_type": "execute_result"
    }
   ],
   "source": [
    "total = 0\n",
    "\n",
    "for c in cases:\n",
    "    total += test(c)\n",
    "\n",
    "total"
   ]
  },
  {
   "cell_type": "code",
   "execution_count": null,
   "id": "f0a5775d-0f9e-4881-b3be-521ae6a3d522",
   "metadata": {},
   "outputs": [],
   "source": []
  }
 ],
 "metadata": {
  "kernelspec": {
   "display_name": "RAM_Jan_2024",
   "language": "python",
   "name": "ram_jan_2024"
  },
  "language_info": {
   "codemirror_mode": {
    "name": "ipython",
    "version": 3
   },
   "file_extension": ".py",
   "mimetype": "text/x-python",
   "name": "python",
   "nbconvert_exporter": "python",
   "pygments_lexer": "ipython3",
   "version": "3.11.1"
  }
 },
 "nbformat": 4,
 "nbformat_minor": 5
}
