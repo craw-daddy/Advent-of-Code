{
 "cells": [
  {
   "cell_type": "code",
   "execution_count": 1,
   "id": "85f72f3e-6b1b-4b26-8a85-6fcfdf471325",
   "metadata": {},
   "outputs": [],
   "source": [
    "from collections import defaultdict\n",
    "from itertools import combinations"
   ]
  },
  {
   "cell_type": "code",
   "execution_count": 2,
   "id": "8a05cf79-73a5-49c0-ae83-362cfa0b1f04",
   "metadata": {},
   "outputs": [],
   "source": [
    "with open('data/12-08.input') as f:\n",
    "    data = f.readlines()"
   ]
  },
  {
   "cell_type": "code",
   "execution_count": 3,
   "id": "d83225a3-7193-4d8e-91aa-f6f75f6973a1",
   "metadata": {},
   "outputs": [],
   "source": [
    "arr = [list(line.strip()) for line in data]"
   ]
  },
  {
   "cell_type": "markdown",
   "id": "deefcf6b-3ba7-45ac-afea-06d938a17e54",
   "metadata": {},
   "source": [
    "Find the locations of the antennas."
   ]
  },
  {
   "cell_type": "code",
   "execution_count": 4,
   "id": "edba7699-d50f-4d35-a808-71aa8e9be70b",
   "metadata": {},
   "outputs": [],
   "source": [
    "antenna = defaultdict(list)"
   ]
  },
  {
   "cell_type": "markdown",
   "id": "a8f12a4e-fcd7-4159-ac13-949a57cd15a7",
   "metadata": {},
   "source": [
    "## Part I"
   ]
  },
  {
   "cell_type": "code",
   "execution_count": 5,
   "id": "4a5f8a9f-d0a0-4650-a306-fa41174428ac",
   "metadata": {},
   "outputs": [],
   "source": [
    "n_rows = len(arr)\n",
    "n_cols = len(arr[0])\n",
    "\n",
    "for i in range(n_rows):\n",
    "    for j in range(n_cols):\n",
    "        if arr[i][j] != '.':\n",
    "            antenna[arr[i][j]].append((i,j))"
   ]
  },
  {
   "cell_type": "markdown",
   "id": "eb0f0b34-e3c9-483c-9967-baee94983c38",
   "metadata": {},
   "source": [
    "A procedure to find the two anti-nodes of a pair of nodes, checking that they don't fall outside of the grid with specified values for the `rows` and `cols`.  "
   ]
  },
  {
   "cell_type": "code",
   "execution_count": 6,
   "id": "04bdef4b-dcc1-4340-9922-a1650469b454",
   "metadata": {},
   "outputs": [],
   "source": [
    "def antinodes(x, y, rows, cols):\n",
    "    slope = (x[0] - y[0], x[1] - y[1])\n",
    "    antinodes = [(x[0] + slope[0], x[1] + slope[1]), (y[0] - slope[0], y[1] - slope[1])]\n",
    "    antinodes = [z for z in antinodes if 0 <= z[0] < rows and 0 <= z[1] < cols]\n",
    "    return antinodes"
   ]
  },
  {
   "cell_type": "markdown",
   "id": "6919d50d-7a7f-4803-99b8-31f57f458cdd",
   "metadata": {},
   "source": [
    "Set up a list of anti-nodes that would be marked.  The only thing to verify is that there are no duplicates.  And we're only interested in the length of this list"
   ]
  },
  {
   "cell_type": "code",
   "execution_count": 7,
   "id": "5b592622-5dfb-4ffd-b858-70e7301e8776",
   "metadata": {},
   "outputs": [
    {
     "data": {
      "text/plain": [
       "426"
      ]
     },
     "execution_count": 7,
     "metadata": {},
     "output_type": "execute_result"
    }
   ],
   "source": [
    "mark = []\n",
    "\n",
    "for nodes in antenna.values():\n",
    "    for x,y in combinations(nodes, 2):\n",
    "        mark.extend(antinodes(x, y, n_rows, n_cols))\n",
    "\n",
    "mark = list(set(mark))\n",
    "len(mark)"
   ]
  },
  {
   "cell_type": "markdown",
   "id": "4126226d-3155-47e4-a07c-8c5398243ff1",
   "metadata": {},
   "source": [
    "## Part 2"
   ]
  },
  {
   "cell_type": "markdown",
   "id": "f9f01864-1204-43ad-85b5-c949d8989fdc",
   "metadata": {},
   "source": [
    "We only need to change the procedure to locate the anti-nodes, as there are more of them.  "
   ]
  },
  {
   "cell_type": "code",
   "execution_count": 8,
   "id": "29552cea-2712-4830-8eb8-9e47bca1d563",
   "metadata": {},
   "outputs": [],
   "source": [
    "def antinodes(x, y, rows, cols):\n",
    "    slope = (x[0] - y[0], x[1] - y[1])\n",
    "    antinodes = [x, y]\n",
    "    i = 1\n",
    "    while (0 <= x[0] + i * slope[0] < rows) and (0 <= x[1] + i * slope[1] < cols):\n",
    "        antinodes.append((x[0] + i * slope[0], x[1] + i * slope[1]))\n",
    "        i += 1\n",
    "    i = 1\n",
    "    while (0 <= y[0] - i * slope[0] < rows) and (0 <= y[1] - i * slope[1] < cols):\n",
    "        antinodes.append((y[0] - i * slope[0], y[1] - i * slope[1]))\n",
    "        i += 1\n",
    "\n",
    "    return antinodes"
   ]
  },
  {
   "cell_type": "code",
   "execution_count": 9,
   "id": "2766ddc0-021c-4fe9-b9dd-6608b7c704cc",
   "metadata": {},
   "outputs": [
    {
     "data": {
      "text/plain": [
       "1359"
      ]
     },
     "execution_count": 9,
     "metadata": {},
     "output_type": "execute_result"
    }
   ],
   "source": [
    "mark = []\n",
    "\n",
    "for nodes in antenna.values():\n",
    "    for x,y in combinations(nodes, 2):\n",
    "        mark.extend(antinodes(x, y, n_rows, n_cols))\n",
    "\n",
    "mark = sorted(list(set(mark)))\n",
    "len(mark)"
   ]
  },
  {
   "cell_type": "code",
   "execution_count": null,
   "id": "bb33986d-1e13-4c21-9ab5-3d603e7f5f0d",
   "metadata": {},
   "outputs": [],
   "source": []
  }
 ],
 "metadata": {
  "kernelspec": {
   "display_name": "RAM_Jan_2024",
   "language": "python",
   "name": "ram_jan_2024"
  },
  "language_info": {
   "codemirror_mode": {
    "name": "ipython",
    "version": 3
   },
   "file_extension": ".py",
   "mimetype": "text/x-python",
   "name": "python",
   "nbconvert_exporter": "python",
   "pygments_lexer": "ipython3",
   "version": "3.11.1"
  }
 },
 "nbformat": 4,
 "nbformat_minor": 5
}
