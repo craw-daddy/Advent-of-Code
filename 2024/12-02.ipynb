{
 "cells": [
  {
   "cell_type": "code",
   "execution_count": 1,
   "id": "5d2db66f-86c9-42ed-affc-8a8fd5c6249b",
   "metadata": {},
   "outputs": [],
   "source": [
    "with open('data/12-02.input') as f:\n",
    "    data = [[int(y) for y in x.split()] for x in f.readlines()]"
   ]
  },
  {
   "cell_type": "markdown",
   "id": "b7c70211-5c3b-4417-8cc4-cefff322774b",
   "metadata": {},
   "source": [
    "## Part I"
   ]
  },
  {
   "cell_type": "code",
   "execution_count": 2,
   "id": "04f7b53b-e56c-46bc-9506-bc13fccb113c",
   "metadata": {},
   "outputs": [],
   "source": [
    "def check(line):\n",
    "    if (line == sorted(line)):\n",
    "        # increasing sequence\n",
    "        test = [line[i] - line[i+1] for i in range(len(line)-1)]\n",
    "        if all(x in [-1, -2, -3] for x in test):\n",
    "            return True\n",
    "    elif (line == sorted(line, reverse=True)):\n",
    "        # decreasing sequence\n",
    "        test = [line[i] - line[i+1] for i in range(len(line)-1)]\n",
    "        if all(x in [1, 2, 3] for x in test):\n",
    "            return True\n",
    "            \n",
    "    return False"
   ]
  },
  {
   "cell_type": "code",
   "execution_count": 3,
   "id": "2c5c9e41-3b6f-41ba-b63a-417a3ea94d13",
   "metadata": {},
   "outputs": [
    {
     "data": {
      "text/plain": [
       "369"
      ]
     },
     "execution_count": 3,
     "metadata": {},
     "output_type": "execute_result"
    }
   ],
   "source": [
    "safe = 0\n",
    "\n",
    "for line in data:\n",
    "    if check(line):\n",
    "        safe = safe + 1\n",
    "\n",
    "safe"
   ]
  },
  {
   "cell_type": "markdown",
   "id": "af64caef-7114-47ae-ba97-57a0818dd02c",
   "metadata": {},
   "source": [
    "## Part II"
   ]
  },
  {
   "cell_type": "code",
   "execution_count": 4,
   "id": "57e3cd92-4db8-4539-a627-915516e9f2e1",
   "metadata": {},
   "outputs": [
    {
     "data": {
      "text/plain": [
       "428"
      ]
     },
     "execution_count": 4,
     "metadata": {},
     "output_type": "execute_result"
    }
   ],
   "source": [
    "safe = 0 \n",
    "\n",
    "for line in data:\n",
    "    if check(line):\n",
    "        safe = safe + 1\n",
    "    elif any(check(line[:i] + line[i+1:]) for i in range(len(line))):\n",
    "        safe = safe + 1\n",
    "\n",
    "safe"
   ]
  },
  {
   "cell_type": "code",
   "execution_count": null,
   "id": "f4248f9d-ff1f-4c2d-9268-6793ff3c6868",
   "metadata": {},
   "outputs": [],
   "source": []
  }
 ],
 "metadata": {
  "kernelspec": {
   "display_name": "RAM_Jan_2024",
   "language": "python",
   "name": "ram_jan_2024"
  },
  "language_info": {
   "codemirror_mode": {
    "name": "ipython",
    "version": 3
   },
   "file_extension": ".py",
   "mimetype": "text/x-python",
   "name": "python",
   "nbconvert_exporter": "python",
   "pygments_lexer": "ipython3",
   "version": "3.11.1"
  }
 },
 "nbformat": 4,
 "nbformat_minor": 5
}
