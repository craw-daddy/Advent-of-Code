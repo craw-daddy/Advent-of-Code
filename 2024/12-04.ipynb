{
 "cells": [
  {
   "cell_type": "code",
   "execution_count": 1,
   "id": "14934318-7430-4878-963a-5f81e6006238",
   "metadata": {},
   "outputs": [],
   "source": [
    "with open('data/12-04.input') as f:\n",
    "    data = [x.strip() for x in f.readlines()]"
   ]
  },
  {
   "cell_type": "markdown",
   "id": "19feecd2-13d0-4a31-8fe5-f1eeb78abc4e",
   "metadata": {},
   "source": [
    "## Part I\n",
    "\n",
    "I don't know of any particularly good way to do this other than to grind out the possible locations and check them all.  There's probably a decent way to do this with regular expressions, but you have to account for making the spacing correct in the vertical occurrences, etc.  "
   ]
  },
  {
   "cell_type": "code",
   "execution_count": 2,
   "id": "69f1331e-02d5-40c6-93ce-f16b9b32b10f",
   "metadata": {},
   "outputs": [],
   "source": [
    "def check(data):\n",
    "    VALID = ['XMAS', 'SAMX']\n",
    "    \n",
    "    total = 0\n",
    "    rows = len(data)\n",
    "    cols = len(data[0])\n",
    "    \n",
    "    #  Check for horizontal occurrences\n",
    "    for line in data:\n",
    "        for i in range(cols-3):\n",
    "            if line[i:i+4] in VALID:\n",
    "                total += 1\n",
    "\n",
    "    #  Check for vertical occurrences\n",
    "    for i in range(rows-3):\n",
    "        for j in range(cols):\n",
    "            if data[i][j] + data[i+1][j] + data[i+2][j] + data[i+3][j] in VALID:\n",
    "                total += 1\n",
    "\n",
    "    #  Check for diagonal occurrences\n",
    "    for i in range(rows-3):\n",
    "        for j in range(cols-3):\n",
    "            if data[i][j] + data[i+1][j+1] + data[i+2][j+2] + data[i+3][j+3] in VALID:\n",
    "                total += 1\n",
    "            if data[i+3][j] + data[i+2][j+1] + data[i+1][j+2] + data[i][j+3] in VALID:\n",
    "                total += 1\n",
    "            \n",
    "    return total"
   ]
  },
  {
   "cell_type": "code",
   "execution_count": 3,
   "id": "20892f08-cc0b-4efc-b6d0-b234fd7e8fed",
   "metadata": {},
   "outputs": [
    {
     "data": {
      "text/plain": [
       "2378"
      ]
     },
     "execution_count": 3,
     "metadata": {},
     "output_type": "execute_result"
    }
   ],
   "source": [
    "check(data)"
   ]
  },
  {
   "cell_type": "markdown",
   "id": "7013ca67-bf15-4497-b758-5d50afd24d78",
   "metadata": {},
   "source": [
    "## Part II"
   ]
  },
  {
   "cell_type": "code",
   "execution_count": 4,
   "id": "3226a4fc-24b5-4e43-bbb7-654d3e3779eb",
   "metadata": {},
   "outputs": [],
   "source": [
    "def check(data):\n",
    "    VALID = ['MAS', 'SAM']\n",
    "\n",
    "    rows = len(data)\n",
    "    cols = len(data[0])\n",
    "    total = 0\n",
    "    #  We only have to search for an 'A', and then check the two diagonals that \n",
    "    #  contain that 'A' to see if it's a valid X-MAS pattern.\n",
    "    for i in range(1, rows-1):\n",
    "        for j in range(1,cols-1):\n",
    "            if data[i][j] == 'A' and\\\n",
    "               data[i-1][j-1] + data[i][j] + data[i+1][j+1] in VALID and\\\n",
    "               data[i+1][j-1] + data[i][j] + data[i-1][j+1] in VALID:\n",
    "                total += 1\n",
    "\n",
    "    return total"
   ]
  },
  {
   "cell_type": "code",
   "execution_count": 5,
   "id": "f2b26ffd-980a-4194-9ba0-2b7249dedb05",
   "metadata": {},
   "outputs": [
    {
     "data": {
      "text/plain": [
       "1796"
      ]
     },
     "execution_count": 5,
     "metadata": {},
     "output_type": "execute_result"
    }
   ],
   "source": [
    "check(data)"
   ]
  },
  {
   "cell_type": "code",
   "execution_count": null,
   "id": "8ccc0c39-3413-4f21-a96e-7fad9e7d2ffc",
   "metadata": {},
   "outputs": [],
   "source": []
  }
 ],
 "metadata": {
  "kernelspec": {
   "display_name": "RAM_Jan_2024",
   "language": "python",
   "name": "ram_jan_2024"
  },
  "language_info": {
   "codemirror_mode": {
    "name": "ipython",
    "version": 3
   },
   "file_extension": ".py",
   "mimetype": "text/x-python",
   "name": "python",
   "nbconvert_exporter": "python",
   "pygments_lexer": "ipython3",
   "version": "3.11.1"
  }
 },
 "nbformat": 4,
 "nbformat_minor": 5
}
