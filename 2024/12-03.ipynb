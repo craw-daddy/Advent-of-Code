{
 "cells": [
  {
   "cell_type": "code",
   "execution_count": 1,
   "id": "30331672-dbae-4872-8f31-e2aae0cf12af",
   "metadata": {},
   "outputs": [],
   "source": [
    "import re"
   ]
  },
  {
   "cell_type": "code",
   "execution_count": 2,
   "id": "145d2666-31c5-45cf-b2d9-50520fbc9618",
   "metadata": {},
   "outputs": [],
   "source": [
    "with open('data/12-03.input') as f:\n",
    "    data = f.readlines()"
   ]
  },
  {
   "cell_type": "markdown",
   "id": "03c6a642-0baf-43c9-ad49-c8ba2ae9fa80",
   "metadata": {},
   "source": [
    "Note, there are multiple lines of text in the input data, which wasn't obvious from the instructions given in the problem description.  "
   ]
  },
  {
   "cell_type": "markdown",
   "id": "e4b85bd6-4513-491b-8bc4-f7aeef33f7a9",
   "metadata": {},
   "source": [
    "## Part I"
   ]
  },
  {
   "cell_type": "code",
   "execution_count": 3,
   "id": "c59de54c-c9b2-4829-a63f-08c1d975d052",
   "metadata": {},
   "outputs": [
    {
     "data": {
      "text/plain": [
       "170778545"
      ]
     },
     "execution_count": 3,
     "metadata": {},
     "output_type": "execute_result"
    }
   ],
   "source": [
    "total = 0\n",
    "\n",
    "for line in data:\n",
    "    valid_muls = re.findall(r'mul\\((\\d{1,3}),(\\d{1,3})\\)', line)\n",
    "    for x,y in valid_muls:\n",
    "        total += int(x)*int(y)\n",
    "\n",
    "total"
   ]
  },
  {
   "cell_type": "markdown",
   "id": "f39e7673-8e4d-479f-a9d1-9ded628df3c6",
   "metadata": {},
   "source": [
    "## Part II"
   ]
  },
  {
   "cell_type": "code",
   "execution_count": 4,
   "id": "70af378d-f422-496e-b8db-2975b047de05",
   "metadata": {},
   "outputs": [
    {
     "data": {
      "text/plain": [
       "82868252"
      ]
     },
     "execution_count": 4,
     "metadata": {},
     "output_type": "execute_result"
    }
   ],
   "source": [
    "total = 0\n",
    "enabled = True\n",
    "\n",
    "for line in data:\n",
    "    tokens = re.findall(r\"mul\\(\\d{1,3},\\d{1,3}\\)|do\\(\\)|don't\\(\\)\", line)\n",
    "    for t in tokens:\n",
    "        if re.search(r'mul', t) and enabled:\n",
    "            x, y = tuple(int(s) for s in re.search(r'(\\d{1,3}),(\\d{1,3})',t).groups())\n",
    "            total += x * y\n",
    "        if re.search(r'do\\(\\)', t):\n",
    "            enabled = True\n",
    "        if re.search(r\"don't\\(\\)\", t):\n",
    "            enabled = False\n",
    "\n",
    "total"
   ]
  },
  {
   "cell_type": "code",
   "execution_count": null,
   "id": "81600ff6-eab9-478c-a5b5-b9ff11c0e991",
   "metadata": {},
   "outputs": [],
   "source": []
  }
 ],
 "metadata": {
  "kernelspec": {
   "display_name": "RAM_Jan_2024",
   "language": "python",
   "name": "ram_jan_2024"
  },
  "language_info": {
   "codemirror_mode": {
    "name": "ipython",
    "version": 3
   },
   "file_extension": ".py",
   "mimetype": "text/x-python",
   "name": "python",
   "nbconvert_exporter": "python",
   "pygments_lexer": "ipython3",
   "version": "3.11.1"
  }
 },
 "nbformat": 4,
 "nbformat_minor": 5
}
