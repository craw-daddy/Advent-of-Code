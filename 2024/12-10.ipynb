{
 "cells": [
  {
   "cell_type": "code",
   "execution_count": 1,
   "id": "b1e2483d-2899-4703-a0e9-de57b3e4886c",
   "metadata": {},
   "outputs": [],
   "source": [
    "with open('data/12-10.input') as f:\n",
    "    data = f.read().strip()"
   ]
  },
  {
   "cell_type": "code",
   "execution_count": 2,
   "id": "e22fc6ee-a00d-4a28-886f-bbf4d9e0c388",
   "metadata": {},
   "outputs": [],
   "source": [
    "array = [[int(x) for x in y.strip()] for y in data.split('\\n')]\n",
    "\n",
    "trailheads = [(i,j) for i in range(len(array)) for j in range(len(array[0])) if array[i][j] == 0]"
   ]
  },
  {
   "cell_type": "markdown",
   "id": "ebd1eba7-b614-40a1-95ac-b55b165bf111",
   "metadata": {},
   "source": [
    "## Part I"
   ]
  },
  {
   "cell_type": "code",
   "execution_count": 3,
   "id": "4f09d39e-cf5b-478d-9d4d-6f3a1aefffe1",
   "metadata": {},
   "outputs": [],
   "source": [
    "rows = len(array)\n",
    "cols = len(array[0])\n",
    "\n",
    "total_score = 0\n",
    "\n",
    "for x,y in trailheads:\n",
    "    positions = [(x,y)]\n",
    "    for height in range(1,10):\n",
    "        new_positions = []\n",
    "        for pos in positions:\n",
    "            test = [(pos[0] - 1, pos[1]), (pos[0] + 1, pos[1]), (pos[0], pos[1] - 1), (pos[0], pos[1]+1)]\n",
    "            for i,j in test:\n",
    "                if (0 <= i < rows) and (0 <= j < cols) and array[i][j] == height:\n",
    "                    new_positions.append((i,j))\n",
    "        positions = sorted(list(set(new_positions)))\n",
    "\n",
    "    total_score += len(positions)"
   ]
  },
  {
   "cell_type": "code",
   "execution_count": 4,
   "id": "7ee59793-a337-4639-88a8-0454e854578c",
   "metadata": {},
   "outputs": [
    {
     "data": {
      "text/plain": [
       "512"
      ]
     },
     "execution_count": 4,
     "metadata": {},
     "output_type": "execute_result"
    }
   ],
   "source": [
    "total_score"
   ]
  },
  {
   "cell_type": "markdown",
   "id": "0e8d9234-90b9-450c-bc7d-274e3e2f4c53",
   "metadata": {},
   "source": [
    "## Part II"
   ]
  },
  {
   "cell_type": "code",
   "execution_count": 5,
   "id": "dc7a43b1-fc66-4e3b-af7a-b40be7f2d720",
   "metadata": {},
   "outputs": [],
   "source": [
    "rows = len(array)\n",
    "cols = len(array[0])\n",
    "\n",
    "total_score = 0\n",
    "\n",
    "for x,y in trailheads:\n",
    "    trails = [[(x,y)]]\n",
    "    for height in range(1,10):\n",
    "        new_trails = []\n",
    "        for pos in trails:\n",
    "            test = [(pos[-1][0] - 1, pos[-1][1]), (pos[-1][0] + 1, pos[-1][1]), (pos[-1][0], pos[-1][1] - 1), (pos[-1][0], pos[-1][1]+1)]\n",
    "            for i,j in test:\n",
    "                if (0 <= i < rows) and (0 <= j < cols) and array[i][j] == height:\n",
    "                    new_trails.append(pos + [(i,j)])\n",
    "        trails = new_trails\n",
    "\n",
    "    total_score += len(new_trails)"
   ]
  },
  {
   "cell_type": "code",
   "execution_count": 6,
   "id": "9a9cad1c-8e1e-4cad-b511-51fb49e33e9f",
   "metadata": {},
   "outputs": [
    {
     "data": {
      "text/plain": [
       "1045"
      ]
     },
     "execution_count": 6,
     "metadata": {},
     "output_type": "execute_result"
    }
   ],
   "source": [
    "total_score"
   ]
  },
  {
   "cell_type": "code",
   "execution_count": null,
   "id": "0d00640c-0424-4cb2-a3e7-f646ad0ed412",
   "metadata": {},
   "outputs": [],
   "source": []
  }
 ],
 "metadata": {
  "kernelspec": {
   "display_name": "RAM_Jan_2024",
   "language": "python",
   "name": "ram_jan_2024"
  },
  "language_info": {
   "codemirror_mode": {
    "name": "ipython",
    "version": 3
   },
   "file_extension": ".py",
   "mimetype": "text/x-python",
   "name": "python",
   "nbconvert_exporter": "python",
   "pygments_lexer": "ipython3",
   "version": "3.11.1"
  }
 },
 "nbformat": 4,
 "nbformat_minor": 5
}
