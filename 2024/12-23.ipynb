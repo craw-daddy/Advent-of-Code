{
 "cells": [
  {
   "cell_type": "code",
   "execution_count": 1,
   "id": "4fb35e0d-7b91-4b95-a10f-c74ed92a96f1",
   "metadata": {},
   "outputs": [],
   "source": [
    "from collections import defaultdict\n",
    "\n",
    "from itertools import combinations"
   ]
  },
  {
   "cell_type": "code",
   "execution_count": 2,
   "id": "f46de3cb-236a-4817-9ea3-04ac28f30d5e",
   "metadata": {},
   "outputs": [],
   "source": [
    "with open('data/12-23.input') as f: \n",
    "    data = [x.strip() for x in f.readlines() if x.strip()]"
   ]
  },
  {
   "cell_type": "markdown",
   "id": "1136bbeb-a697-45c4-93e5-62839413444c",
   "metadata": {},
   "source": [
    "data = '''kh-tc\n",
    "qp-kh\n",
    "de-cg\n",
    "ka-co\n",
    "yn-aq\n",
    "qp-ub\n",
    "cg-tb\n",
    "vc-aq\n",
    "tb-ka\n",
    "wh-tc\n",
    "yn-cg\n",
    "kh-ub\n",
    "ta-co\n",
    "de-co\n",
    "tc-td\n",
    "tb-wq\n",
    "wh-td\n",
    "ta-ka\n",
    "td-qp\n",
    "aq-cg\n",
    "wq-ub\n",
    "ub-vc\n",
    "de-ta\n",
    "wq-aq\n",
    "wq-vc\n",
    "wh-yn\n",
    "ka-de\n",
    "kh-ta\n",
    "co-tc\n",
    "wh-qp\n",
    "tb-vc\n",
    "td-yn'''"
   ]
  },
  {
   "cell_type": "markdown",
   "id": "6fa77159-daa2-4ad4-9d1f-18a9f42c89bf",
   "metadata": {
    "scrolled": true
   },
   "source": [
    "data = [x.strip() for x in data.split('\\n')]"
   ]
  },
  {
   "cell_type": "markdown",
   "id": "a7a64241-a14d-4055-b1c0-f318167bc8f9",
   "metadata": {},
   "source": [
    "## Part I"
   ]
  },
  {
   "cell_type": "markdown",
   "id": "67359449-febd-4e04-98f7-06b997eceb80",
   "metadata": {},
   "source": [
    "Create a default dictionary where each value is a set (the set of all computers connected to the key value).  Then just do the brute-force thing of taking all pairs, check if they are connected to each other.  If so, check for third computers joined to both.  Finally, check that at least one of the computers' names starts with a \"t\", and save those triples.  "
   ]
  },
  {
   "cell_type": "code",
   "execution_count": 3,
   "id": "367a3de7-8e3c-49e1-a116-6d64df843f11",
   "metadata": {},
   "outputs": [],
   "source": [
    "neighbors = defaultdict(set)\n",
    "\n",
    "for line in data:\n",
    "    parts = line.split('-')\n",
    "    neighbors[parts[0]].add(parts[1])\n",
    "    neighbors[parts[1]].add(parts[0])"
   ]
  },
  {
   "cell_type": "code",
   "execution_count": 4,
   "id": "9572520d-0dac-46e9-911a-59c70f6fce97",
   "metadata": {},
   "outputs": [
    {
     "data": {
      "text/plain": [
       "893"
      ]
     },
     "execution_count": 4,
     "metadata": {},
     "output_type": "execute_result"
    }
   ],
   "source": [
    "all_lans = set(neighbors.keys())\n",
    "\n",
    "all_triples = set()\n",
    "valid_triples = set()\n",
    "\n",
    "for x, y in combinations(all_lans, 2):\n",
    "    if x in neighbors[y]:  #  Are x and y connected?  \n",
    "        for element in neighbors[x].intersection(neighbors[y]):  #  If so, iterate over \n",
    "                                                                 #  the common neightbors of \n",
    "                                                                 #  x and y.  \n",
    "            t = tuple(sorted([x, y, element]))\n",
    "            all_triples.add(t)\n",
    "            if any(x.startswith('t') for x in t):\n",
    "                valid_triples.add(t)\n",
    "\n",
    "len(valid_triples)"
   ]
  },
  {
   "cell_type": "markdown",
   "id": "9aba4d87-0e7b-4221-9cf3-c519c10c7dae",
   "metadata": {},
   "source": [
    "## Part II\n",
    "This is not efficient (but what clique-finding procedure is?).  We start with the triangles.  We search for two triangles that intersect in an edge.  Then we have two *other* vertices to consider.  Are these two vertices joined to each other?  If so, then the full set of four vertices form a clique of size 4.  So save that.  We find all cliques of size 4.  \n",
    "\n",
    "Then we repeat this process.  In general, consider two cliques of size $k$.  If they intersect in a set of size $k-1$, then we consider the *other* two vertices not in the intersection.  If those vertices are joined, then we have found a clique of size $k+1$, so we will record that.  Keep going until we run out of cliques.  "
   ]
  },
  {
   "cell_type": "code",
   "execution_count": 5,
   "id": "915ea21b-250f-45b6-be60-52ee5732a39a",
   "metadata": {},
   "outputs": [],
   "source": [
    "cliques = defaultdict(set)\n",
    "cliques[3] = all_triples"
   ]
  },
  {
   "cell_type": "code",
   "execution_count": 6,
   "id": "81d0cb81-cd49-43cc-bc3f-18d199b0c2d3",
   "metadata": {},
   "outputs": [
    {
     "name": "stdout",
     "output_type": "stream",
     "text": [
      "Number of cliques of size 3: 11011\n",
      "Number of cliques of size 4: 26455\n",
      "Number of cliques of size 5: 45045\n",
      "Number of cliques of size 6: 55770\n",
      "Number of cliques of size 7: 50622\n",
      "Number of cliques of size 8: 33462\n",
      "Number of cliques of size 9: 15730\n",
      "Number of cliques of size 10: 5005\n",
      "Number of cliques of size 11: 975\n",
      "Number of cliques of size 12: 91\n",
      "Number of cliques of size 13: 1\n"
     ]
    }
   ],
   "source": [
    "k = 3\n",
    "\n",
    "while cliques[k]:\n",
    "    print(f'Number of cliques of size {k}: {len(cliques[k])}')\n",
    "    for x, y in combinations(cliques[k], 2):\n",
    "        xs = set(x)\n",
    "        ys = set(y)\n",
    "        common = xs.intersection(ys)\n",
    "        if len(common) == k-1:\n",
    "            remaining = list(xs.union(ys).difference(common))\n",
    "            if remaining[0] in neighbors[remaining[1]]:\n",
    "                cliques[k+1].add(tuple(sorted(list(common.union(set(remaining))))))\n",
    "    k = k+1"
   ]
  },
  {
   "cell_type": "code",
   "execution_count": 8,
   "id": "8476b661-78b7-4f52-8941-f30b30edfc56",
   "metadata": {},
   "outputs": [
    {
     "data": {
      "text/plain": [
       "'cw,dy,ef,iw,ji,jv,ka,ob,qv,ry,ua,wt,xz'"
      ]
     },
     "execution_count": 8,
     "metadata": {},
     "output_type": "execute_result"
    }
   ],
   "source": [
    "','.join(sorted(list(cliques[k-1])[0]))"
   ]
  },
  {
   "cell_type": "code",
   "execution_count": null,
   "id": "5382f947-f3a1-42bb-bef6-6340a428bced",
   "metadata": {},
   "outputs": [],
   "source": []
  }
 ],
 "metadata": {
  "kernelspec": {
   "display_name": "RAM-2025",
   "language": "python",
   "name": "ram-2025"
  },
  "language_info": {
   "codemirror_mode": {
    "name": "ipython",
    "version": 3
   },
   "file_extension": ".py",
   "mimetype": "text/x-python",
   "name": "python",
   "nbconvert_exporter": "python",
   "pygments_lexer": "ipython3",
   "version": "3.13.1"
  }
 },
 "nbformat": 4,
 "nbformat_minor": 5
}
