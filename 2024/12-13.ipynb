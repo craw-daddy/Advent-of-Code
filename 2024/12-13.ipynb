{
 "cells": [
  {
   "cell_type": "code",
   "execution_count": 1,
   "id": "11943b71-3fba-40ca-aa8d-e1ff970e12eb",
   "metadata": {},
   "outputs": [],
   "source": [
    "import re"
   ]
  },
  {
   "cell_type": "code",
   "execution_count": 2,
   "id": "e0782712-db0f-47a2-a292-a12a34ce4ab4",
   "metadata": {},
   "outputs": [],
   "source": [
    "data='''Button A: X+94, Y+34\n",
    "Button B: X+22, Y+67\n",
    "Prize: X=8400, Y=5400\n",
    "\n",
    "Button A: X+26, Y+66\n",
    "Button B: X+67, Y+21\n",
    "Prize: X=12748, Y=12176\n",
    "\n",
    "Button A: X+17, Y+86\n",
    "Button B: X+84, Y+37\n",
    "Prize: X=7870, Y=6450\n",
    "\n",
    "Button A: X+69, Y+23\n",
    "Button B: X+27, Y+71\n",
    "Prize: X=18641, Y=10279'''"
   ]
  },
  {
   "cell_type": "code",
   "execution_count": 3,
   "id": "84de8f12-5b8e-47fc-9b17-cc9936dc1640",
   "metadata": {},
   "outputs": [],
   "source": [
    "with open('data/12-13.input') as f:\n",
    "    data = f.read()"
   ]
  },
  {
   "cell_type": "code",
   "execution_count": 4,
   "id": "b5e5fe16-bb4d-400c-8a0a-3fc16a4ca2f7",
   "metadata": {},
   "outputs": [],
   "source": [
    "data = data.split('\\n\\n')"
   ]
  },
  {
   "cell_type": "code",
   "execution_count": 5,
   "id": "99cb1bf2-7494-4287-8324-6c18886d2f51",
   "metadata": {},
   "outputs": [],
   "source": [
    "A_pattern = 'A: X\\+(\\d+), Y\\+(\\d+)'\n",
    "B_pattern = 'B: X\\+(\\d+), Y\\+(\\d+)'\n",
    "prize_pattern = 'X=(\\d+), Y=(\\d+)'"
   ]
  },
  {
   "cell_type": "code",
   "execution_count": 6,
   "id": "e8d0f0e5-b586-47b1-9d62-a87a4d4781ef",
   "metadata": {},
   "outputs": [],
   "source": [
    "def solve(A, B, target):\n",
    "    a, c = A\n",
    "    b, d = B\n",
    "    det = a*d - b*c\n",
    "    sol = ((d*target[0] - b*target[1])/det, (-c*target[0] + a*target[1])/det)\n",
    "    if all(int(x) == x for x in sol):\n",
    "        return tuple(int(x) for x in sol)\n",
    "    else:\n",
    "        return -1"
   ]
  },
  {
   "cell_type": "markdown",
   "id": "cf1fae3a-db26-4971-947f-430a337b70b3",
   "metadata": {},
   "source": [
    "## Part I\n",
    "\n",
    "Solve this with some simple matrix inversion to solve a system of two linear equations, looking for integer solutions.  "
   ]
  },
  {
   "cell_type": "code",
   "execution_count": 7,
   "id": "8ccd8789-f758-4af9-a9fc-78083b580b5b",
   "metadata": {},
   "outputs": [],
   "source": [
    "tokens = 0\n",
    "\n",
    "for d in data:\n",
    "    A = tuple(int(x) for x in re.search(A_pattern, d).groups())\n",
    "    B = tuple(int(x) for x in re.search(B_pattern, d).groups())\n",
    "    target = tuple(int(x) for x in re.search(prize_pattern, d).groups())\n",
    "    sol = solve(A, B, target)\n",
    "    if sol != -1:\n",
    "        tokens += 3*sol[0] + sol[1]"
   ]
  },
  {
   "cell_type": "code",
   "execution_count": 8,
   "id": "6fb59975-eab5-4567-91e7-16caa6c1a0d7",
   "metadata": {},
   "outputs": [
    {
     "data": {
      "text/plain": [
       "35255"
      ]
     },
     "execution_count": 8,
     "metadata": {},
     "output_type": "execute_result"
    }
   ],
   "source": [
    "tokens"
   ]
  },
  {
   "cell_type": "markdown",
   "id": "71633b2f-af7c-42b0-aace-f76716eb220b",
   "metadata": {},
   "source": [
    "## Part II"
   ]
  },
  {
   "cell_type": "code",
   "execution_count": 9,
   "id": "5b92a53b-0715-4527-b0b8-db0fb85296ee",
   "metadata": {},
   "outputs": [
    {
     "data": {
      "text/plain": [
       "87582154060429"
      ]
     },
     "execution_count": 9,
     "metadata": {},
     "output_type": "execute_result"
    }
   ],
   "source": [
    "tokens = 0\n",
    "\n",
    "for d in data:\n",
    "    A = tuple(int(x) for x in re.search(A_pattern, d).groups())\n",
    "    B = tuple(int(x) for x in re.search(B_pattern, d).groups())\n",
    "    target = tuple(int(x)+10000000000000 for x in re.search(prize_pattern, d).groups())\n",
    "    sol = solve(A, B, target)\n",
    "    if sol != -1:\n",
    "        tokens += 3*sol[0] + sol[1]\n",
    "\n",
    "tokens"
   ]
  },
  {
   "cell_type": "code",
   "execution_count": null,
   "id": "b09eac65-b516-4b3f-95d7-76c4968b0d01",
   "metadata": {},
   "outputs": [],
   "source": []
  }
 ],
 "metadata": {
  "kernelspec": {
   "display_name": "RAM_Jan_2024",
   "language": "python",
   "name": "ram_jan_2024"
  },
  "language_info": {
   "codemirror_mode": {
    "name": "ipython",
    "version": 3
   },
   "file_extension": ".py",
   "mimetype": "text/x-python",
   "name": "python",
   "nbconvert_exporter": "python",
   "pygments_lexer": "ipython3",
   "version": "3.11.1"
  }
 },
 "nbformat": 4,
 "nbformat_minor": 5
}
