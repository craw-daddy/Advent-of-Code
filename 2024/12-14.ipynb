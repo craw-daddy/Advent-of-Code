{
 "cells": [
  {
   "cell_type": "code",
   "execution_count": 1,
   "id": "b353cd63-6b2c-46b7-bc16-ca1103edc24e",
   "metadata": {},
   "outputs": [],
   "source": [
    "from collections import Counter\n",
    "\n",
    "import re"
   ]
  },
  {
   "cell_type": "code",
   "execution_count": 2,
   "id": "4d7979a1-fba1-4346-94f8-8ac437d900ce",
   "metadata": {},
   "outputs": [],
   "source": [
    "with open('data/12-14.input') as f:\n",
    "    data = [x.strip() for x in f.readlines()]"
   ]
  },
  {
   "cell_type": "code",
   "execution_count": 3,
   "id": "2ef3d413-5c2d-49d5-b364-d6bb71fbc8f6",
   "metadata": {},
   "outputs": [
    {
     "data": {
      "text/plain": [
       "['p=14,11 v=-25,-54',\n",
       " 'p=58,14 v=-37,28',\n",
       " 'p=4,96 v=-76,48',\n",
       " 'p=27,96 v=30,88',\n",
       " 'p=37,41 v=-63,-26']"
      ]
     },
     "execution_count": 3,
     "metadata": {},
     "output_type": "execute_result"
    }
   ],
   "source": [
    "data[:5]"
   ]
  },
  {
   "cell_type": "code",
   "execution_count": 4,
   "id": "942c39b2-b4af-407f-8642-d7627b88cf82",
   "metadata": {},
   "outputs": [],
   "source": [
    "pattern = r'p=(\\d+),(\\d+) v=(\\-?\\d+),(\\-?\\d+)'"
   ]
  },
  {
   "cell_type": "markdown",
   "id": "d022d5c1-5b14-4e76-84cc-543127dd67d7",
   "metadata": {},
   "source": [
    "Note that the numbers given, such as p=7,6 are the number of steps from the left of the wall, and then the number from the top of the wall (in what we might typically regard as the reverse of rows/columns).  Similarly, the velocity is given in the horizontal direction and then the vertical direction.  Note carefully the indices in the `group` below.  I've reversed them for what I would give row/column positions and velocities."
   ]
  },
  {
   "cell_type": "code",
   "execution_count": 5,
   "id": "2c8a1da0-a42b-4cc0-bae2-e942ffc300b0",
   "metadata": {},
   "outputs": [],
   "source": [
    "def update(r, rows, cols):\n",
    "    for key, robot in r.items():\n",
    "        new_position = ((robot['position'][0] + robot['velocity'][0]) % rows, \n",
    "                        (robot['position'][1] + robot['velocity'][1]) % cols)\n",
    "        robot['position'] = new_position\n",
    "    return r"
   ]
  },
  {
   "cell_type": "code",
   "execution_count": 6,
   "id": "c6082b3a-4a37-4639-bf33-5a830412735a",
   "metadata": {},
   "outputs": [],
   "source": [
    "def safety(r, rows, cols):\n",
    "    upper_left = sum(1 if x['position'][0] < rows//2 and x['position'][1] < cols//2 else 0 for x in r.values())\n",
    "    upper_right = sum(1 if x['position'][0] < rows//2 and x['position'][1] >= cols - cols//2 else 0 for x in r.values())\n",
    "    lower_left = sum(1 if x['position'][0] >= rows - rows//2 and x['position'][1] < cols//2 else 0 for x in r.values())\n",
    "    lower_right = sum(1 if x['position'][0] >= rows - rows//2 and x['position'][1] >= cols - cols//2 else 0 for x in r.values())\n",
    "    #print (upper_left, upper_right, lower_left, lower_right)\n",
    "    return upper_left * upper_right * lower_left * lower_right"
   ]
  },
  {
   "cell_type": "code",
   "execution_count": 7,
   "id": "2b2840f6-c52c-49ea-a8aa-ccd03cc8bf8b",
   "metadata": {},
   "outputs": [],
   "source": [
    "robots = {}\n",
    "\n",
    "for i, x in enumerate(data):\n",
    "    match = re.search(pattern, x)\n",
    "    robots[i] = {'position' : (int(match.group(2)), int(match.group(1))),\n",
    "                 'velocity' : (int(match.group(4)), int(match.group(3)))}"
   ]
  },
  {
   "cell_type": "markdown",
   "id": "4280508d-60d3-44fb-b8c9-1cbfead2f82e",
   "metadata": {},
   "source": [
    "## Part I\n",
    "\n",
    "Note the hand-coded number of rows and columns, as provided by the puzzle description.  "
   ]
  },
  {
   "cell_type": "code",
   "execution_count": 8,
   "id": "d4859f19-c1b6-4ba0-abfc-0b42b26f70aa",
   "metadata": {},
   "outputs": [
    {
     "data": {
      "text/plain": [
       "225943500"
      ]
     },
     "execution_count": 8,
     "metadata": {},
     "output_type": "execute_result"
    }
   ],
   "source": [
    "rows = 103\n",
    "cols = 101\n",
    "\n",
    "seconds = 100\n",
    "\n",
    "for i in range(seconds):\n",
    "    update(robots, rows, cols)\n",
    "\n",
    "safety(robots, rows, cols)"
   ]
  },
  {
   "cell_type": "markdown",
   "id": "09b0fce4-996d-4bfb-a707-94e697537b46",
   "metadata": {},
   "source": [
    "## Part II\n",
    "\n",
    "WTF?  Are we supposed to programatically recognize a \"Christmas tree\"?  \n",
    "\n",
    "Apparently this is the first time that no robots overlap.  Which I only got by looking at hints from other people.  :("
   ]
  },
  {
   "cell_type": "code",
   "execution_count": 9,
   "id": "eb1e71c9-7084-4bd0-b010-9f86a218d7dc",
   "metadata": {},
   "outputs": [],
   "source": [
    "robots = {}\n",
    "\n",
    "for i, x in enumerate(data):\n",
    "    match = re.search(pattern, x)\n",
    "    robots[i] = {'position' : (int(match.group(2)), int(match.group(1))),\n",
    "                 'velocity' : (int(match.group(4)), int(match.group(3)))}"
   ]
  },
  {
   "cell_type": "code",
   "execution_count": 10,
   "id": "26d64f17-bb2d-4cfc-8946-74f1ee2ab473",
   "metadata": {},
   "outputs": [],
   "source": [
    "steps = 0"
   ]
  },
  {
   "cell_type": "code",
   "execution_count": 11,
   "id": "af4288d0-193d-413a-9c98-a1b60fe4752d",
   "metadata": {},
   "outputs": [],
   "source": [
    "done = False\n",
    "\n",
    "while not done:\n",
    "    robots = update(robots, rows, cols)\n",
    "    steps += 1\n",
    "    counts = Counter(Counter(x['position'] for x in robots.values()).values())\n",
    "    if len(counts) == 1:\n",
    "        done = True"
   ]
  },
  {
   "cell_type": "code",
   "execution_count": 12,
   "id": "9b63bb5c-a3ea-4e62-bbcd-3f0de1879fb4",
   "metadata": {},
   "outputs": [
    {
     "data": {
      "text/plain": [
       "6377"
      ]
     },
     "execution_count": 12,
     "metadata": {},
     "output_type": "execute_result"
    }
   ],
   "source": [
    "steps"
   ]
  },
  {
   "cell_type": "code",
   "execution_count": null,
   "id": "d1252d6f-a360-4356-8a0b-9d3c36c16a4c",
   "metadata": {},
   "outputs": [],
   "source": []
  }
 ],
 "metadata": {
  "kernelspec": {
   "display_name": "RAM_Jan_2024",
   "language": "python",
   "name": "ram_jan_2024"
  },
  "language_info": {
   "codemirror_mode": {
    "name": "ipython",
    "version": 3
   },
   "file_extension": ".py",
   "mimetype": "text/x-python",
   "name": "python",
   "nbconvert_exporter": "python",
   "pygments_lexer": "ipython3",
   "version": "3.11.1"
  }
 },
 "nbformat": 4,
 "nbformat_minor": 5
}
