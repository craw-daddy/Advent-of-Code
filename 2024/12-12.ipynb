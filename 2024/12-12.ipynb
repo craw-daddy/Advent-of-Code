{
 "cells": [
  {
   "cell_type": "code",
   "execution_count": 1,
   "id": "4eeab6ea-b75b-48e4-8eec-816b148879ed",
   "metadata": {},
   "outputs": [],
   "source": [
    "import numpy as np\n",
    "\n",
    "from itertools import product\n",
    "from collections import deque"
   ]
  },
  {
   "cell_type": "code",
   "execution_count": 2,
   "id": "d24a705b-3bf8-48ee-a523-8ad371637dd2",
   "metadata": {},
   "outputs": [],
   "source": [
    "DIRECTIONS = [(-1,0), (1,0), (0,-1), (0,1)]"
   ]
  },
  {
   "cell_type": "code",
   "execution_count": 3,
   "id": "3d730c2f-de04-49c5-bf68-5b9348a836ab",
   "metadata": {},
   "outputs": [],
   "source": [
    "with open('data/12-12.input') as f:\n",
    "    data = f.read().strip()"
   ]
  },
  {
   "cell_type": "code",
   "execution_count": 4,
   "id": "175cd90a-9f1c-4006-854e-980074931787",
   "metadata": {},
   "outputs": [],
   "source": [
    "plants = np.array([list(x) for x in data.split('\\n')])\n",
    "\n",
    "visited = np.array([[False for col in range(plants.shape[1])] for row in range(plants.shape[0])])"
   ]
  },
  {
   "cell_type": "code",
   "execution_count": 5,
   "id": "36d69bd5-e65a-4d28-a81a-511f86cc959d",
   "metadata": {},
   "outputs": [],
   "source": [
    "def find_regions(p):\n",
    "    visited = np.array([[False for col in range(p.shape[1])] for row in range(p.shape[0])])\n",
    "    all_regions = []\n",
    "    while not np.all(visited):\n",
    "        #  Find a starting point to search for an area of like plants\n",
    "        for r,c in product(range(p.shape[0]), range(p.shape[1])):\n",
    "            if not visited[r, c]:\n",
    "                start = (r,c)\n",
    "                break\n",
    "        #  Then do a search (basically a BFS) to find plants of this plant type \n",
    "        #  that create a connected region.  This could contain \"holes\".\n",
    "        plant_type = p[r,c]\n",
    "        queue = deque([(r,c)])\n",
    "        visited[r, c] = True\n",
    "        region = [(r,c)]\n",
    "        while queue:\n",
    "            curr_x, curr_y = queue.popleft()\n",
    "            for dx, dy in DIRECTIONS:\n",
    "                test_x, test_y = (curr_x + dx, curr_y + dy)\n",
    "                if (0 <= test_x < p.shape[0]) and (0 <= test_y < p.shape[1])\\\n",
    "                        and (p[test_x, test_y] == plant_type)\\\n",
    "                        and (not visited[test_x, test_y]):\n",
    "                    visited[test_x, test_y] = True\n",
    "                    queue.append((test_x, test_y))\n",
    "                    region.append((test_x, test_y))\n",
    "        all_regions.append(region)\n",
    "        \n",
    "    return all_regions"
   ]
  },
  {
   "cell_type": "code",
   "execution_count": 6,
   "id": "713c9844-2a8e-4feb-a008-fd89cc8f84dd",
   "metadata": {},
   "outputs": [],
   "source": [
    "def area(nodes):\n",
    "    #  The area is just the number of nodes in the (connected) region.\n",
    "    return len(nodes)\n",
    "\n",
    "def perimeter(nodes):\n",
    "    #  Finding the perimeter is relatively easy.  \n",
    "    #  Go through the nodes and check if the four possible neighbors of each node\n",
    "    #  are included in the given set of nodes.  If not, you have found an edge of \n",
    "    #  that is included in the perimeter of the region (whether it be an \"external\"\n",
    "    #  edge, or an edge of a subregion of a different type).  \n",
    "    perimeter = 0\n",
    "    for n_x, n_y in nodes:\n",
    "        for dx, dy in DIRECTIONS:\n",
    "            test = (n_x + dx, n_y + dy)\n",
    "            if test not in nodes:\n",
    "                perimeter = perimeter + 1\n",
    "                \n",
    "    return perimeter\n",
    "\n",
    "def cost(nodes): \n",
    "    return area(nodes) * perimeter(nodes)"
   ]
  },
  {
   "cell_type": "markdown",
   "id": "1d254d52-b5d9-47db-bb82-11c61d0ee02b",
   "metadata": {},
   "source": [
    "## Part I"
   ]
  },
  {
   "cell_type": "code",
   "execution_count": 7,
   "id": "22e75f33-5494-4b04-8a2e-db8d8a8a9ac9",
   "metadata": {},
   "outputs": [
    {
     "name": "stdout",
     "output_type": "stream",
     "text": [
      "Total cost using perimeter: 1485656\n"
     ]
    }
   ],
   "source": [
    "print(f'Total cost using perimeter: {sum(cost(r) for r in find_regions(plants))}')"
   ]
  },
  {
   "cell_type": "markdown",
   "id": "f99a5ce2-d0a8-4bb4-a223-9ed02c06cd5a",
   "metadata": {},
   "source": [
    "## Part II"
   ]
  },
  {
   "cell_type": "markdown",
   "id": "2fef6b6e-706e-4873-b14b-ec5be045f4e8",
   "metadata": {},
   "source": [
    "This method is a little convoluted, and you have to account for an example like the one given in the problem description that looks like this (where each interior \"B\" region has four sides, so the total number of sides from the \"A\" region is 12):\n",
    "AAAAAA\n",
    "AAABBA\n",
    "AAABBA\n",
    "ABBAAA\n",
    "ABBAAA\n",
    "AAAAAA\n",
    "\n",
    "We first find the individual \"pieces\" that would consist of each edge, then we \"glue\" the edges together in order to find the edges that bound the region.  Finally, we return the number of such edges from this method, as this is what is relevant in terms of finding the \"cost\" of the region.  "
   ]
  },
  {
   "cell_type": "code",
   "execution_count": 8,
   "id": "4d59b8f5-25ea-48d3-8f63-7fb7db4f5e12",
   "metadata": {},
   "outputs": [],
   "source": [
    "def bounding_edges(nodes):\n",
    "    pieces = []\n",
    "    for n_x, n_y in nodes:\n",
    "        for d, offset in zip(DIRECTIONS, [(-0.25,0), (0.25,0), (0,-0.25), (0,0.25)]):\n",
    "            test = (n_x + d[0], n_y + d[1])\n",
    "            if test not in nodes:\n",
    "                pieces.append((n_x + offset[0], n_y + offset[1]))\n",
    "\n",
    "    pieces = list(set(pieces))\n",
    "    verticals = sorted([e for e in pieces if e[0] % 1 in (0.25, 0.75)])\n",
    "    horizontals = sorted([e for e in pieces if e not in verticals])\n",
    "    \n",
    "    b_v = []\n",
    "    while verticals:\n",
    "        first = verticals[0]\n",
    "        edge = [first]\n",
    "        curr = first\n",
    "        while (curr[0], curr[1] + 1) in verticals:\n",
    "            curr = (curr[0], curr[1] + 1)\n",
    "            edge.append(curr)\n",
    "        curr = first\n",
    "        while (curr[0], curr[1] - 1) in verticals:\n",
    "            curr = (curr[0], curr[1] - 1)\n",
    "            edge.append(curr)\n",
    "        b_v.append(edge)\n",
    "        verticals = [e for e in verticals if e not in edge]\n",
    "            \n",
    "    b_h = []\n",
    "    while horizontals:\n",
    "        first = horizontals[0]\n",
    "        edge = [first]\n",
    "        curr = first\n",
    "        while (curr[0] + 1, curr[1]) in horizontals:\n",
    "            curr = (curr[0] + 1, curr[1])\n",
    "            edge.append(curr)\n",
    "        curr = first\n",
    "        while (curr[0] - 1, curr[1]) in horizontals:\n",
    "            curr = (curr[0] - 1, curr[1])\n",
    "            edge.append(curr)\n",
    "        b_h.append(edge)\n",
    "        horizontals = [e for e in horizontals if e not in edge]\n",
    "   \n",
    "    return len(b_v) + len(b_h)"
   ]
  },
  {
   "cell_type": "code",
   "execution_count": 9,
   "id": "37136cf1-1ea3-4a91-bc29-2de2cce76a73",
   "metadata": {},
   "outputs": [],
   "source": [
    "def cost(region):\n",
    "    return area(region) * bounding_edges(region)"
   ]
  },
  {
   "cell_type": "code",
   "execution_count": 10,
   "id": "4c40e6e2-19d1-4a3d-9a05-a282068d4a9a",
   "metadata": {},
   "outputs": [
    {
     "data": {
      "text/plain": [
       "899196"
      ]
     },
     "execution_count": 10,
     "metadata": {},
     "output_type": "execute_result"
    }
   ],
   "source": [
    "sum(cost(r) for r in find_regions(plants))"
   ]
  },
  {
   "cell_type": "code",
   "execution_count": null,
   "id": "d2732c59-8d5a-4a72-98f7-83dcb2c93214",
   "metadata": {},
   "outputs": [],
   "source": []
  }
 ],
 "metadata": {
  "kernelspec": {
   "display_name": "RAM-2025",
   "language": "python",
   "name": "ram-2025"
  },
  "language_info": {
   "codemirror_mode": {
    "name": "ipython",
    "version": 3
   },
   "file_extension": ".py",
   "mimetype": "text/x-python",
   "name": "python",
   "nbconvert_exporter": "python",
   "pygments_lexer": "ipython3",
   "version": "3.13.1"
  }
 },
 "nbformat": 4,
 "nbformat_minor": 5
}
