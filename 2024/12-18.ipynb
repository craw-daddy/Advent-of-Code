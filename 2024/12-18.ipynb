{
 "cells": [
  {
   "cell_type": "code",
   "execution_count": 1,
   "id": "6a84bceb-5c1c-4456-8934-08fb0843b949",
   "metadata": {},
   "outputs": [],
   "source": [
    "import math"
   ]
  },
  {
   "cell_type": "code",
   "execution_count": 2,
   "id": "5f26b1ef-7740-4124-9ec6-3ec376ceb1fb",
   "metadata": {},
   "outputs": [],
   "source": [
    "from DijkstraGrid import DijkstraGrid"
   ]
  },
  {
   "cell_type": "code",
   "execution_count": 3,
   "id": "cc9d376a-77fd-4acb-8c88-2fbd6a687769",
   "metadata": {},
   "outputs": [],
   "source": [
    "with open('data/12-18.input') as f:\n",
    "    data = [[int(y) for y in x.strip().split(',')] for x in f.readlines()]"
   ]
  },
  {
   "cell_type": "code",
   "execution_count": 4,
   "id": "977b8cc3-3cb5-49c3-a61e-9fd8d87b4622",
   "metadata": {},
   "outputs": [],
   "source": [
    "grid = [list('.' * 71) for i in range(71)]"
   ]
  },
  {
   "cell_type": "code",
   "execution_count": 5,
   "id": "ac18dfe5-97f0-4e85-823c-c5e7fa1f6a20",
   "metadata": {},
   "outputs": [
    {
     "data": {
      "text/plain": [
       "(71, 71)"
      ]
     },
     "execution_count": 5,
     "metadata": {},
     "output_type": "execute_result"
    }
   ],
   "source": [
    "len(grid), len(grid[0])"
   ]
  },
  {
   "cell_type": "markdown",
   "id": "3c1ca948-10d8-4971-b64a-b332b04b4b9c",
   "metadata": {},
   "source": [
    "## Part I\n",
    "\n",
    "Note the reversal of the coordinates in what follows, as the memory corruptions are given in (distance from left way, distance from top wall) order, and we are constructing our grid using `(row, column)` coordinates."
   ]
  },
  {
   "cell_type": "code",
   "execution_count": 6,
   "id": "597e323c-8852-4167-9c26-28c019aa13a5",
   "metadata": {},
   "outputs": [],
   "source": [
    "for d in data[:1024]:\n",
    "    grid[d[1]][d[0]] = '#'"
   ]
  },
  {
   "cell_type": "code",
   "execution_count": 7,
   "id": "12f113d0-75fe-46f6-9acb-cf4eaf74f516",
   "metadata": {},
   "outputs": [
    {
     "data": {
      "text/plain": [
       "310"
      ]
     },
     "execution_count": 7,
     "metadata": {},
     "output_type": "execute_result"
    }
   ],
   "source": [
    "DijkstraGrid(grid, start=(0,0), target=(70,70))"
   ]
  },
  {
   "cell_type": "markdown",
   "id": "c5dbe445-4303-4810-8154-46d04127f299",
   "metadata": {},
   "source": [
    "## Part II\n",
    "\n",
    "We just need to continue adding one byte at a time, and going until the distance to the target is infinite.  "
   ]
  },
  {
   "cell_type": "code",
   "execution_count": 8,
   "id": "dcf017cc-de0b-4f08-8cdc-695fd8b576bb",
   "metadata": {},
   "outputs": [
    {
     "name": "stdout",
     "output_type": "stream",
     "text": [
      "16,46\n"
     ]
    }
   ],
   "source": [
    "for d in data[1024:]:\n",
    "    grid[d[1]][d[0]] = '#'\n",
    "    if DijkstraGrid(grid, start=(0,0), target=(70,70)) == math.inf:\n",
    "        print(','.join(str(x) for x in d))\n",
    "        break"
   ]
  },
  {
   "cell_type": "code",
   "execution_count": null,
   "id": "2534e283-a464-46a3-8cc2-e3dd011e3611",
   "metadata": {},
   "outputs": [],
   "source": []
  }
 ],
 "metadata": {
  "kernelspec": {
   "display_name": "RAM_Jan_2024",
   "language": "python",
   "name": "ram_jan_2024"
  },
  "language_info": {
   "codemirror_mode": {
    "name": "ipython",
    "version": 3
   },
   "file_extension": ".py",
   "mimetype": "text/x-python",
   "name": "python",
   "nbconvert_exporter": "python",
   "pygments_lexer": "ipython3",
   "version": "3.11.1"
  }
 },
 "nbformat": 4,
 "nbformat_minor": 5
}
