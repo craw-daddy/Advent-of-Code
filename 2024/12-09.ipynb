{
 "cells": [
  {
   "cell_type": "code",
   "execution_count": 1,
   "id": "fdf95374-40ee-42c7-86e6-9e0e5846ba96",
   "metadata": {},
   "outputs": [],
   "source": [
    "import copy\n",
    "import re"
   ]
  },
  {
   "cell_type": "code",
   "execution_count": 2,
   "id": "aebf7dc4-c059-4420-ab2b-d14396a62f54",
   "metadata": {},
   "outputs": [],
   "source": [
    "with open('data/12-09.input') as f:\n",
    "    data = f.readline().strip()"
   ]
  },
  {
   "cell_type": "code",
   "execution_count": 3,
   "id": "78b1b958-9589-41e2-8094-8594c09ada78",
   "metadata": {},
   "outputs": [],
   "source": [
    "disk_map = [int(x) for x in data]"
   ]
  },
  {
   "cell_type": "code",
   "execution_count": 4,
   "id": "8c5d70c9-0553-4e9d-ae1b-f79cd41606d6",
   "metadata": {},
   "outputs": [
    {
     "data": {
      "text/plain": [
       "[6, 9, 2, 0, 9, 4, 5, 1, 3, 2]"
      ]
     },
     "execution_count": 4,
     "metadata": {},
     "output_type": "execute_result"
    }
   ],
   "source": [
    "disk_map[:10]"
   ]
  },
  {
   "cell_type": "markdown",
   "id": "f72b69b6-a599-45b3-9ea6-4066984bf187",
   "metadata": {},
   "source": [
    "Prepare the \"disk\" to indicate what is occupied and what isn't.  "
   ]
  },
  {
   "cell_type": "code",
   "execution_count": 5,
   "id": "cbbd0313-cc7d-42dd-9454-a98fb281b017",
   "metadata": {},
   "outputs": [],
   "source": [
    "kind = 'FILE'\n",
    "file_id = 0\n",
    "\n",
    "disk = []\n",
    "\n",
    "for i in disk_map:\n",
    "    if kind == 'FILE':\n",
    "        disk.extend([file_id] * i)\n",
    "        file_id += 1\n",
    "        kind = 'SPACE'\n",
    "    else:\n",
    "        disk.extend(['.'] * i)\n",
    "        kind = 'FILE'"
   ]
  },
  {
   "cell_type": "markdown",
   "id": "b4bd8ef2-8911-4e4c-a596-0e8cf9476136",
   "metadata": {},
   "source": [
    "## Part I"
   ]
  },
  {
   "cell_type": "code",
   "execution_count": 6,
   "id": "9afdc378-114e-4400-a8b6-9bc9a9abcfc5",
   "metadata": {},
   "outputs": [],
   "source": [
    "def defrag(data):\n",
    "    disk = copy.deepcopy(data)\n",
    "    head = 0\n",
    "    tail = len(disk) - 1\n",
    "    \n",
    "    while disk[head] != '.':\n",
    "        head = head + 1\n",
    "    while disk[tail] == '.':\n",
    "        tail = tail - 1\n",
    "        \n",
    "    while head < tail:\n",
    "        disk[head] = disk[tail]\n",
    "        disk[tail] = '.'\n",
    "        while disk[tail] == '.':\n",
    "            tail = tail - 1\n",
    "        while disk[head] != '.':\n",
    "            head = head + 1\n",
    "            \n",
    "    return disk"
   ]
  },
  {
   "cell_type": "code",
   "execution_count": 7,
   "id": "8c9c0ab7-d3b3-4b26-9649-1e6f1e06f96c",
   "metadata": {},
   "outputs": [],
   "source": [
    "def checksum(data):\n",
    "    check = 0\n",
    "    for x,y in zip(range(len(data)), data):\n",
    "        if y != '.':\n",
    "            check += x * y\n",
    "        \n",
    "    return check"
   ]
  },
  {
   "cell_type": "code",
   "execution_count": 8,
   "id": "67ff5b37-bca6-4ff9-84c9-0fb8db0a081e",
   "metadata": {},
   "outputs": [
    {
     "data": {
      "text/plain": [
       "6332189866718"
      ]
     },
     "execution_count": 8,
     "metadata": {},
     "output_type": "execute_result"
    }
   ],
   "source": [
    "checksum(defrag(disk))"
   ]
  },
  {
   "cell_type": "markdown",
   "id": "fe0f2e72-1b8e-4e67-be1c-69b5a521f61f",
   "metadata": {},
   "source": [
    "## Part II"
   ]
  },
  {
   "cell_type": "code",
   "execution_count": 9,
   "id": "8a5b4d02-e7e6-4bd5-bf73-cbfef66407c3",
   "metadata": {},
   "outputs": [],
   "source": [
    "def defrag(data):\n",
    "    disk = copy.deepcopy(data)\n",
    "    max_file_id = max(x if isinstance(x, int) else 0 for x in disk)\n",
    "    \n",
    "    for file_id in range(max_file_id, 0, -1):\n",
    "        file_start = disk.index(file_id)\n",
    "        #  Take only the portion of the \"disk map\" to the left of the current location\n",
    "        disk_map = ''.join(x if x == '.' else '#' for x in disk)[:file_start]\n",
    "        file_size = disk.count(file_id)\n",
    "        free_space_needed = r'\\.' * file_size\n",
    "        is_available = re.search(free_space_needed, disk_map)\n",
    "        if is_available:\n",
    "            #  Clear the elements in the disk of the old file\n",
    "            for i in range(is_available.end() - is_available.start()):\n",
    "                j = disk.index(file_id)\n",
    "                disk[j] = '.'\n",
    "            #  Add the elements to the disk in the free location\n",
    "            for i in range(is_available.start(), is_available.end()):\n",
    "                disk[i] = file_id\n",
    "                \n",
    "    return disk"
   ]
  },
  {
   "cell_type": "code",
   "execution_count": 10,
   "id": "121f3f0a-6615-451c-a40a-b572edac365a",
   "metadata": {},
   "outputs": [
    {
     "data": {
      "text/plain": [
       "6353648390778"
      ]
     },
     "execution_count": 10,
     "metadata": {},
     "output_type": "execute_result"
    }
   ],
   "source": [
    "checksum(defrag(disk))"
   ]
  },
  {
   "cell_type": "code",
   "execution_count": null,
   "id": "aafb6b42-6dcd-4b89-96f4-c768e44661d7",
   "metadata": {},
   "outputs": [],
   "source": []
  }
 ],
 "metadata": {
  "kernelspec": {
   "display_name": "RAM_Jan_2024",
   "language": "python",
   "name": "ram_jan_2024"
  },
  "language_info": {
   "codemirror_mode": {
    "name": "ipython",
    "version": 3
   },
   "file_extension": ".py",
   "mimetype": "text/x-python",
   "name": "python",
   "nbconvert_exporter": "python",
   "pygments_lexer": "ipython3",
   "version": "3.11.1"
  }
 },
 "nbformat": 4,
 "nbformat_minor": 5
}
