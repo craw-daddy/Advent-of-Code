{
 "cells": [
  {
   "cell_type": "code",
   "execution_count": 1,
   "id": "bc9a1272-b2c3-455d-bb54-248874a4032a",
   "metadata": {},
   "outputs": [],
   "source": [
    "with open('input/day-2.input', 'r') as f:\n",
    "    data = [s.strip() for s in f.readlines()]"
   ]
  },
  {
   "cell_type": "code",
   "execution_count": 2,
   "id": "d94c3060-ff5b-47a8-a188-2df79cd794a1",
   "metadata": {},
   "outputs": [
    {
     "data": {
      "text/plain": [
       "['Game 1: 7 green, 14 red, 5 blue; 8 red, 4 green; 6 green, 18 red, 9 blue',\n",
       " 'Game 2: 3 blue, 15 red, 5 green; 1 blue, 14 red, 5 green; 11 red; 4 green, 1 blue, 3 red; 4 green, 1 blue; 10 red, 1 green',\n",
       " 'Game 3: 11 green, 3 red; 4 green, 15 blue; 14 blue, 2 red, 10 green; 1 red, 3 green, 10 blue',\n",
       " 'Game 4: 1 green, 6 red, 11 blue; 3 blue, 12 red; 1 green, 14 red, 8 blue; 3 blue, 7 red; 8 blue, 5 red; 7 red, 1 green',\n",
       " 'Game 5: 14 green, 3 red, 3 blue; 2 red, 1 green, 1 blue; 8 green, 3 blue, 1 red; 15 green, 8 blue, 1 red',\n",
       " 'Game 6: 4 blue, 8 green, 5 red; 9 green, 10 blue, 7 red; 11 blue, 10 red, 7 green; 8 red, 6 blue, 9 green',\n",
       " 'Game 7: 5 green, 11 blue, 9 red; 2 green, 6 red, 12 blue; 8 red, 4 blue, 3 green; 7 green, 8 red, 9 blue; 8 green, 5 red',\n",
       " 'Game 8: 7 red, 12 green; 9 blue, 15 red, 8 green; 3 blue, 11 green, 6 red; 8 blue, 12 red, 5 green',\n",
       " 'Game 9: 8 blue, 6 red, 7 green; 2 blue, 3 red, 10 green; 10 blue, 6 red, 7 green; 11 red, 7 blue, 5 green; 10 red, 11 green',\n",
       " 'Game 10: 5 red, 14 green; 2 red, 6 blue, 15 green; 3 red, 4 blue, 7 green; 6 red, 1 green, 4 blue']"
      ]
     },
     "execution_count": 2,
     "metadata": {},
     "output_type": "execute_result"
    }
   ],
   "source": [
    "data[:10]"
   ]
  },
  {
   "cell_type": "markdown",
   "id": "f88554e9-f6a9-4794-9f13-099590befe48",
   "metadata": {},
   "source": [
    "## Part I"
   ]
  },
  {
   "cell_type": "code",
   "execution_count": 3,
   "id": "3275469e-479b-4e65-bebf-b643c93c9981",
   "metadata": {},
   "outputs": [],
   "source": [
    "max_red = 12\n",
    "max_green = 13\n",
    "max_blue = 14"
   ]
  },
  {
   "cell_type": "code",
   "execution_count": 4,
   "id": "29b526d8-3202-4299-80f4-03e5c72e56d3",
   "metadata": {},
   "outputs": [],
   "source": [
    "def valid(game):\n",
    "    red = green = blue = 0\n",
    "    game_id = int(game.split(':')[0].split()[1])\n",
    "    record = game.split(':')[1].split(';')\n",
    "    for r in record:\n",
    "        view = [s.strip() for s in r.split(',')]\n",
    "        for v in view:\n",
    "            parts = v.split()\n",
    "            if parts[1] == 'red':\n",
    "                red = max(red, int(parts[0]))\n",
    "            elif parts[1] == 'green':\n",
    "                green = max(green, int(parts[0]))\n",
    "            elif parts[1] == 'blue':\n",
    "                blue = max(blue, int(parts[0]))\n",
    "            else:\n",
    "                print('ERROR!')\n",
    "    \n",
    "    if (red <= max_red) and (green <= max_green) and (blue <= max_blue):\n",
    "        return game_id\n",
    "    return 0"
   ]
  },
  {
   "cell_type": "code",
   "execution_count": 5,
   "id": "8ca172af-c2c9-4a9a-b0f9-b6d149eed58c",
   "metadata": {},
   "outputs": [
    {
     "data": {
      "text/plain": [
       "2101"
      ]
     },
     "execution_count": 5,
     "metadata": {},
     "output_type": "execute_result"
    }
   ],
   "source": [
    "sum(valid(g) for g in data)"
   ]
  },
  {
   "cell_type": "markdown",
   "id": "dd048ce6-0896-44f0-839e-94277c4a3a0b",
   "metadata": {},
   "source": [
    "## Part II"
   ]
  },
  {
   "cell_type": "code",
   "execution_count": 6,
   "id": "c0ca2829-ca77-4ea0-9457-bb873b2a26cc",
   "metadata": {},
   "outputs": [],
   "source": [
    "def power(game):\n",
    "    red = green = blue = 1\n",
    "    game_id = int(game.split(':')[0].split()[1])\n",
    "    record = game.split(':')[1].split(';')\n",
    "    for r in record:\n",
    "        view = [s.strip() for s in r.split(',')]\n",
    "        for v in view:\n",
    "            parts = v.split()\n",
    "            if parts[1] == 'red':\n",
    "                red = max(red, int(parts[0]))\n",
    "            elif parts[1] == 'green':\n",
    "                green = max(green, int(parts[0]))\n",
    "            elif parts[1] == 'blue':\n",
    "                blue = max(blue, int(parts[0]))\n",
    "            else:\n",
    "                print('ERROR!')\n",
    "    \n",
    "    return red*green*blue"
   ]
  },
  {
   "cell_type": "code",
   "execution_count": 7,
   "id": "dbb2280d-5012-407b-ae6b-d51a08a73728",
   "metadata": {},
   "outputs": [
    {
     "data": {
      "text/plain": [
       "58269"
      ]
     },
     "execution_count": 7,
     "metadata": {},
     "output_type": "execute_result"
    }
   ],
   "source": [
    "sum(power(g) for g in data)"
   ]
  },
  {
   "cell_type": "code",
   "execution_count": null,
   "id": "28a924db-3193-474f-9d09-139aa9e17a52",
   "metadata": {},
   "outputs": [],
   "source": []
  }
 ],
 "metadata": {
  "kernelspec": {
   "display_name": "Python (data3)",
   "language": "python",
   "name": "data3"
  },
  "language_info": {
   "codemirror_mode": {
    "name": "ipython",
    "version": 3
   },
   "file_extension": ".py",
   "mimetype": "text/x-python",
   "name": "python",
   "nbconvert_exporter": "python",
   "pygments_lexer": "ipython3",
   "version": "3.9.7"
  }
 },
 "nbformat": 4,
 "nbformat_minor": 5
}
