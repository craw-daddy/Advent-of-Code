{
 "cells": [
  {
   "cell_type": "code",
   "execution_count": 1,
   "id": "a4edc982-c015-431e-9d7d-514937fb01bf",
   "metadata": {},
   "outputs": [],
   "source": [
    "with open('input/day-10.input', 'r') as f:\n",
    "    data = [s.strip() for s in f.readlines()]"
   ]
  },
  {
   "cell_type": "code",
   "execution_count": 2,
   "id": "ef23bbca-d1a8-424b-89a1-03e616ba9661",
   "metadata": {},
   "outputs": [
    {
     "data": {
      "text/plain": [
       "['F--FJ77F-L7---J-F777-F7|77F|-J-F|77|F-L-J-77-L7FL77-7|----.F7-|-|.7-.-FL-FF-FF77.|.F-F-.F|.7.F.7-F-77.J7|----7LL7F|7|-F-J-777-77.F-7-FL77FF|',\n",
       " 'F7FJ.LF-7JJ||.JF-J-7F-FLJJ|F7JFL|LJ.|.|7LFF-J|J-L7LJFJF||.F.FFJFF7L7.L-JF7.FLL-FJ-J7F|L-7|F7.7-|.J7|F-7LJ|FFL7J-77||LF-JJ|L7JLLJLL--F7|.LFFJ',\n",
       " 'LL7|7FJFJ7L--LJ|.LF7--|JJL-.|7FF-7.LJ-LLJFLJL|.|.LJ||.7JF-7F|L-|J|L7F||LFJL|.7J|LJ.--77|.LLFF77||7F|JLF-77-|7F7LFJLJ-FJJ-7FLL7J.|7|7.L.FLF77']"
      ]
     },
     "execution_count": 2,
     "metadata": {},
     "output_type": "execute_result"
    }
   ],
   "source": [
    "data[:3]"
   ]
  },
  {
   "cell_type": "code",
   "execution_count": 3,
   "id": "3859abe3-0a24-402d-b2c3-e23caff4e6c7",
   "metadata": {},
   "outputs": [],
   "source": [
    "class Point():\n",
    "    def __init__(self, x, y):\n",
    "        self.x = x\n",
    "        self.y = y\n",
    "        \n",
    "    def __repr__(self):\n",
    "        return f'Point({self.x}, {self.y})'\n",
    "    \n",
    "    def __add__(self, other):\n",
    "        return Point(self.x + other.x, self.y + other.y)\n",
    "    \n",
    "    def __sub__(self, other):\n",
    "        return Point(self.x - other.x, self.y - other.y)\n",
    "    \n",
    "    ## Need __hash__ and __eq__ to use Point class as dictionary keys\n",
    "    def __hash__(self):\n",
    "        return hash((self.x, self.y))\n",
    "    \n",
    "    def __eq__(self, other):\n",
    "        return self.x == other.x and self.y == other.y"
   ]
  },
  {
   "cell_type": "markdown",
   "id": "895a53c0-5b2d-4786-9764-a890adadb4c8",
   "metadata": {},
   "source": [
    "## Part I"
   ]
  },
  {
   "cell_type": "markdown",
   "id": "f8ae3381-9089-4d88-b9f0-0b77b2a38e98",
   "metadata": {},
   "source": [
    "Construct the graph on which we will do BFS."
   ]
  },
  {
   "cell_type": "code",
   "execution_count": 4,
   "id": "d81e86ae-0e90-4a6c-b204-943d804c768c",
   "metadata": {},
   "outputs": [],
   "source": [
    "from collections import defaultdict"
   ]
  },
  {
   "cell_type": "code",
   "execution_count": 5,
   "id": "0e35cb12-d326-461b-b77c-b58d69daf9aa",
   "metadata": {},
   "outputs": [],
   "source": [
    "edges = defaultdict(list)\n",
    "\n",
    "for row in range(0, len(data)):\n",
    "    for col in range(0, len(data[row])):\n",
    "        v = Point(row, col)\n",
    "        if data[row][col] == '|':\n",
    "            edges[v].extend([v + Point(-1,0), v + Point(1,0)])\n",
    "        elif data[row][col] == '-':\n",
    "            edges[v].extend([v + Point(0,-1), v + Point(0,1)])\n",
    "        elif data[row][col] == 'L':\n",
    "            edges[v].extend([v + Point(-1,0), v + Point(0,1)])\n",
    "        elif data[row][col] == 'J':\n",
    "            edges[v].extend([v + Point(0,-1), v + Point(-1,0)])\n",
    "        elif data[row][col] == '7':\n",
    "            edges[v].extend([v + Point(1,0), v + Point(0,-1)])\n",
    "        elif data[row][col] == 'F':\n",
    "            edges[v].extend([v + Point(0,1), v + Point(1,0)])\n",
    "        else:\n",
    "            pass"
   ]
  },
  {
   "cell_type": "markdown",
   "id": "f870b5fd-cc9d-4e68-a523-ece40fbd8884",
   "metadata": {},
   "source": [
    "Find the start point, and then find the two neighbors joined to the start point.  "
   ]
  },
  {
   "cell_type": "code",
   "execution_count": 6,
   "id": "5bbe00d4-825d-43ff-bd8e-69bac2d94e62",
   "metadata": {},
   "outputs": [],
   "source": [
    "for row in range(0, len(data)):\n",
    "    for col in range(0, len(data[row])):\n",
    "        if data[row][col] == 'S':\n",
    "            start = Point(row,col)"
   ]
  },
  {
   "cell_type": "code",
   "execution_count": 7,
   "id": "e40e69cf-90c6-4085-8eb2-177934c71603",
   "metadata": {},
   "outputs": [],
   "source": [
    "join = []\n",
    "for p in edges.keys():\n",
    "    if start in edges[p]:\n",
    "        join.append(p)\n",
    "\n",
    "edges[start] = join"
   ]
  },
  {
   "cell_type": "markdown",
   "id": "702b613d-77c4-4b87-9139-67efc85832f7",
   "metadata": {},
   "source": [
    "Now do the BFS and report the largest distance from the start point.  "
   ]
  },
  {
   "cell_type": "code",
   "execution_count": 8,
   "id": "97fefefb-482f-4d0b-b519-c0110931078c",
   "metadata": {},
   "outputs": [],
   "source": [
    "from collections import deque"
   ]
  },
  {
   "cell_type": "code",
   "execution_count": 9,
   "id": "fe145f5d-586c-4f1a-9233-6e1e3ad3ee97",
   "metadata": {},
   "outputs": [
    {
     "data": {
      "text/plain": [
       "7030"
      ]
     },
     "execution_count": 9,
     "metadata": {},
     "output_type": "execute_result"
    }
   ],
   "source": [
    "queue = deque([start])\n",
    "\n",
    "dist = defaultdict(lambda : -1)\n",
    "dist[start] = 0\n",
    "\n",
    "while queue:\n",
    "    v = queue.popleft()\n",
    "    for w in edges[v]:\n",
    "        if dist[w] < 0:\n",
    "            queue.append(w)\n",
    "            dist[w] = dist[v] + 1\n",
    "\n",
    "max(dist.values())"
   ]
  },
  {
   "cell_type": "markdown",
   "id": "ebac4983-74e8-42a6-b880-136b84803e52",
   "metadata": {},
   "source": [
    "## Part II"
   ]
  },
  {
   "cell_type": "markdown",
   "id": "31607120-d3f6-42f9-82bd-ab048e58a417",
   "metadata": {},
   "source": [
    "Step I seems to be to find the connected components made up of periods (`.`) and then to try to determine if they are \"inside\" or \"outside\" of the loop."
   ]
  },
  {
   "cell_type": "code",
   "execution_count": null,
   "id": "b95caff8-a0d0-416f-ad38-8d8c3995a1b3",
   "metadata": {},
   "outputs": [],
   "source": [
    "new_edges = defaultdict([])\n",
    "\n",
    "for row in range(len(data)):\n",
    "    for col in range(len(row)):\n",
    "        if data[row][col] == '.':\n",
    "            for delta_row in [-1, 1]:\n",
    "                for delta_col in [-1, 1]:\n",
    "                    if (row + delta_row < 0) or (row + delta_row >="
   ]
  }
 ],
 "metadata": {
  "kernelspec": {
   "display_name": "Python (data3)",
   "language": "python",
   "name": "data3"
  },
  "language_info": {
   "codemirror_mode": {
    "name": "ipython",
    "version": 3
   },
   "file_extension": ".py",
   "mimetype": "text/x-python",
   "name": "python",
   "nbconvert_exporter": "python",
   "pygments_lexer": "ipython3",
   "version": "3.9.7"
  }
 },
 "nbformat": 4,
 "nbformat_minor": 5
}
