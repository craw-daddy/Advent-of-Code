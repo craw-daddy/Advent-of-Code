{
 "cells": [
  {
   "cell_type": "code",
   "execution_count": 1,
   "id": "e4848266-ac01-4dd2-b0dd-6e60836e39f5",
   "metadata": {},
   "outputs": [],
   "source": [
    "from collections import defaultdict\n",
    "from collections import deque"
   ]
  },
  {
   "cell_type": "code",
   "execution_count": 2,
   "id": "5810f0e6-726b-4c75-99ec-0ba6418a8e45",
   "metadata": {},
   "outputs": [],
   "source": [
    "def push_button(n,s,m):\n",
    "    nk = n.copy()\n",
    "    st = s.copy()\n",
    "    my = m.copy()\n",
    "    \n",
    "    queue = deque()\n",
    "    low_pulses = 1  #  Count the first pulse from the \"button\", which hits the \"broadcaster\"\n",
    "    high_pulses = 0\n",
    "    for node in network['broadcaster']['dest']:\n",
    "        low_pulses += 1\n",
    "        queue.append(['broadcaster', node, False])  #  False means low pulse, True means high pulse\n",
    "        \n",
    "    while queue:\n",
    "        message = queue.popleft()\n",
    "        #print(message)\n",
    "        source = message[0]\n",
    "        node = message[1]\n",
    "        pulse_type = message[2]\n",
    "        if nk[node]['kind'] == 'ff':  #  We've hit a \"flipflop\" node\n",
    "            if not pulse_type:  #  Low pulse received\n",
    "                if st[node]:  #  Flipflop node was on\n",
    "                    st[node] = False  #  Turn the flipflop node off\n",
    "                    for dest in network[node]['dest']:\n",
    "                        low_pulses += 1\n",
    "                        if dest in network.keys():    \n",
    "                            queue.append([node, dest, False])  #  Send a high pulse to all its destinations\n",
    "                        else:\n",
    "                            pass\n",
    "                else:  #  Flipflop node was off\n",
    "                    st[node] = True\n",
    "                    for dest in network[node]['dest']:\n",
    "                        high_pulses += 1\n",
    "                        if dest in network.keys():    \n",
    "                            queue.append([node, dest, True])\n",
    "                        else:\n",
    "                            #print(dest, True)\n",
    "                            pass\n",
    "        elif nk[node]['kind'] == 'inv':  #  We have hit a \"conjunction\" node\n",
    "            my[node][source] = pulse_type\n",
    "            if all(my[node].values()):\n",
    "                output = False\n",
    "            else:\n",
    "                output = True\n",
    "            for dest in network[node]['dest']:\n",
    "                if output:\n",
    "                    high_pulses += 1\n",
    "                else:\n",
    "                    low_pulses += 1\n",
    "                if dest in network.keys():\n",
    "                    queue.append([node, dest, output])  #  Send the output pulse to all its destinations\n",
    "    \n",
    "    return st, my, low_pulses, high_pulses"
   ]
  },
  {
   "cell_type": "markdown",
   "id": "427f520a-5e37-41bf-a9a0-58c95b1ac11b",
   "metadata": {},
   "source": [
    "## Part I"
   ]
  },
  {
   "cell_type": "code",
   "execution_count": 3,
   "id": "bd901a80-911d-4a4c-815d-4545ddbb84e6",
   "metadata": {},
   "outputs": [],
   "source": [
    "with open('input/day-20.input', 'r') as f:\n",
    "    test = f.read().strip()"
   ]
  },
  {
   "cell_type": "code",
   "execution_count": 4,
   "id": "6aaf5025-a3f5-4a2e-b562-d1536f6bab6c",
   "metadata": {},
   "outputs": [],
   "source": [
    "partial = dict([[s.split(' -> ')[0], s.split(' -> ')[1].split(', ')] for s in test.split('\\n')])\n",
    "\n",
    "network = {}\n",
    "for k, v in partial.items():\n",
    "    if k == 'broadcaster':\n",
    "        network[k] = {'kind': 'broadcaster', 'dest': v}\n",
    "    elif k[0] == '%':\n",
    "        network[k[1:]] = {'kind': 'ff', 'dest': v}\n",
    "    elif k[0] == '&':\n",
    "        network[k[1:]] = {'kind': 'inv', 'dest': v}\n",
    "        \n",
    "state = dict([[k, False] for k in network.keys() if network[k]['kind'] == 'ff'])  #  Initially all \"flipflop\" nodes are off\n",
    "memory = dict([[k, {}] for k in network.keys() if network[k]['kind'] == 'inv'])\n",
    "\n",
    "for k, v in network.items():\n",
    "    for node in v['dest']:\n",
    "        if (node in network) and (network[node]['kind'] == 'inv'):\n",
    "            memory[node][k] = False"
   ]
  },
  {
   "cell_type": "code",
   "execution_count": 5,
   "id": "89d81631-621b-4e29-b2d2-feb06c4fdc9c",
   "metadata": {},
   "outputs": [
    {
     "data": {
      "text/plain": [
       "896998430"
      ]
     },
     "execution_count": 5,
     "metadata": {},
     "output_type": "execute_result"
    }
   ],
   "source": [
    "total_low = 0\n",
    "total_high = 0\n",
    "\n",
    "for i in range(1000):\n",
    "    state, memory, low, high = push_button(network, state, memory)\n",
    "    total_low += low\n",
    "    total_high += high\n",
    "\n",
    "total_low*total_high"
   ]
  },
  {
   "cell_type": "markdown",
   "id": "812c4af8-e57b-4503-a0a0-965ac5299688",
   "metadata": {},
   "source": [
    "## Part II"
   ]
  },
  {
   "cell_type": "code",
   "execution_count": 6,
   "id": "114ae926-1778-4590-99fa-4a35ff699897",
   "metadata": {},
   "outputs": [],
   "source": [
    "with open('input/day-20.input', 'r') as f:\n",
    "    test = f.read().strip()"
   ]
  },
  {
   "cell_type": "code",
   "execution_count": 7,
   "id": "c378b512-bb0d-4d63-8d34-4d0936f69940",
   "metadata": {},
   "outputs": [],
   "source": [
    "partial = dict([[s.split(' -> ')[0], s.split(' -> ')[1].split(', ')] for s in test.split('\\n')])\n",
    "\n",
    "network = {}\n",
    "for k, v in partial.items():\n",
    "    if k == 'broadcaster':\n",
    "        network[k] = {'kind': 'broadcaster', 'dest': v}\n",
    "    elif k[0] == '%':\n",
    "        network[k[1:]] = {'kind': 'ff', 'dest': v}\n",
    "    elif k[0] == '&':\n",
    "        network[k[1:]] = {'kind': 'inv', 'dest': v}\n",
    "        \n",
    "state = dict([[k, False] for k in network.keys() if network[k]['kind'] == 'ff'])  #  Initially all \"flipflop\" nodes are off\n",
    "memory = dict([[k, {}] for k in network.keys() if network[k]['kind'] == 'inv'])\n",
    "\n",
    "for k, v in network.items():\n",
    "    for node in v['dest']:\n",
    "        if (node in network) and (network[node]['kind'] == 'inv'):\n",
    "            memory[node][k] = False"
   ]
  },
  {
   "cell_type": "code",
   "execution_count": 8,
   "id": "da7de919-1569-4a06-89a8-38120b43a457",
   "metadata": {},
   "outputs": [],
   "source": [
    "def push_button(n,s,m):\n",
    "    nk = n.copy()\n",
    "    st = s.copy()\n",
    "    my = m.copy()\n",
    "    \n",
    "    queue = deque()\n",
    "    low_pulses = 1  #  Count the first pulse from the \"button\", which hits the \"broadcaster\"\n",
    "    high_pulses = 0\n",
    "    \n",
    "    rx_hit = False\n",
    "    \n",
    "    for node in network['broadcaster']['dest']:\n",
    "        low_pulses += 1\n",
    "        queue.append(['broadcaster', node, False])  #  False means low pulse, True means high pulse\n",
    "        \n",
    "    while queue:\n",
    "        message = queue.popleft()\n",
    "        #print(message)\n",
    "        source = message[0]\n",
    "        node = message[1]\n",
    "        pulse_type = message[2]\n",
    "        if (node == 'rx') and not pulse_type:\n",
    "            rx_hit = True\n",
    "        if (node in nk) and (nk[node]['kind'] == 'ff'):  #  We've hit a \"flipflop\" node\n",
    "            if not pulse_type:  #  Low pulse received\n",
    "                if st[node]:  #  Flipflop node was on\n",
    "                    st[node] = False  #  Turn the flipflop node off\n",
    "                    for dest in network[node]['dest']:\n",
    "                        low_pulses += 1\n",
    "                        if dest in network.keys():    \n",
    "                            queue.append([node, dest, False])  #  Send a high pulse to all its destinations\n",
    "                        else:\n",
    "                            pass\n",
    "                else:  #  Flipflop node was off\n",
    "                    st[node] = True\n",
    "                    for dest in network[node]['dest']:\n",
    "                        high_pulses += 1\n",
    "                        if dest in network.keys():    \n",
    "                            queue.append([node, dest, True])\n",
    "                        else:\n",
    "                            #print(dest, True)\n",
    "                            pass\n",
    "        elif (node in nk) and (nk[node]['kind'] == 'inv'):  #  We have hit a \"conjunction\" node\n",
    "            my[node][source] = pulse_type\n",
    "            if all(my[node].values()):\n",
    "                output = False\n",
    "            else:\n",
    "                output = True\n",
    "            for dest in network[node]['dest']:\n",
    "                if output:\n",
    "                    high_pulses += 1\n",
    "                else:\n",
    "                    low_pulses += 1\n",
    "                if dest in network.keys():\n",
    "                    queue.append([node, dest, output])  #  Send the output pulse to all its destinations\n",
    "                elif dest == 'rx' and not output:\n",
    "                    rx_hit = True\n",
    "    \n",
    "    return st, my, low_pulses, high_pulses, rx_hit"
   ]
  },
  {
   "cell_type": "code",
   "execution_count": 9,
   "id": "b0ccecce-5b1e-4d73-8cb2-cee9194a8097",
   "metadata": {},
   "outputs": [],
   "source": [
    "rx_hit = False"
   ]
  },
  {
   "cell_type": "code",
   "execution_count": 10,
   "id": "f934e70f-9528-47f5-b1d7-81b66451c08a",
   "metadata": {},
   "outputs": [
    {
     "ename": "KeyboardInterrupt",
     "evalue": "",
     "output_type": "error",
     "traceback": [
      "\u001b[0;31m---------------------------------------------------------------------------\u001b[0m",
      "\u001b[0;31mKeyboardInterrupt\u001b[0m                         Traceback (most recent call last)",
      "\u001b[0;32m/var/folders/58/_jj0r88962x3gm2nywjgwr000000gn/T/ipykernel_5562/936766637.py\u001b[0m in \u001b[0;36m<module>\u001b[0;34m\u001b[0m\n\u001b[1;32m      3\u001b[0m \u001b[0;32mwhile\u001b[0m \u001b[0;32mnot\u001b[0m \u001b[0mrx_hit\u001b[0m\u001b[0;34m:\u001b[0m\u001b[0;34m\u001b[0m\u001b[0;34m\u001b[0m\u001b[0m\n\u001b[1;32m      4\u001b[0m     \u001b[0mpresses\u001b[0m \u001b[0;34m+=\u001b[0m \u001b[0;36m1\u001b[0m\u001b[0;34m\u001b[0m\u001b[0;34m\u001b[0m\u001b[0m\n\u001b[0;32m----> 5\u001b[0;31m     \u001b[0mstate\u001b[0m\u001b[0;34m,\u001b[0m \u001b[0mmemory\u001b[0m\u001b[0;34m,\u001b[0m \u001b[0mlow\u001b[0m\u001b[0;34m,\u001b[0m \u001b[0mhigh\u001b[0m\u001b[0;34m,\u001b[0m \u001b[0mrx_hit\u001b[0m \u001b[0;34m=\u001b[0m \u001b[0mpush_button\u001b[0m\u001b[0;34m(\u001b[0m\u001b[0mnetwork\u001b[0m\u001b[0;34m,\u001b[0m \u001b[0mstate\u001b[0m\u001b[0;34m,\u001b[0m \u001b[0mmemory\u001b[0m\u001b[0;34m)\u001b[0m\u001b[0;34m\u001b[0m\u001b[0;34m\u001b[0m\u001b[0m\n\u001b[0m",
      "\u001b[0;32m/var/folders/58/_jj0r88962x3gm2nywjgwr000000gn/T/ipykernel_5562/1409365996.py\u001b[0m in \u001b[0;36mpush_button\u001b[0;34m(n, s, m)\u001b[0m\n\u001b[1;32m     52\u001b[0m                 \u001b[0;32melse\u001b[0m\u001b[0;34m:\u001b[0m\u001b[0;34m\u001b[0m\u001b[0;34m\u001b[0m\u001b[0m\n\u001b[1;32m     53\u001b[0m                     \u001b[0mlow_pulses\u001b[0m \u001b[0;34m+=\u001b[0m \u001b[0;36m1\u001b[0m\u001b[0;34m\u001b[0m\u001b[0;34m\u001b[0m\u001b[0m\n\u001b[0;32m---> 54\u001b[0;31m                 \u001b[0;32mif\u001b[0m \u001b[0mdest\u001b[0m \u001b[0;32min\u001b[0m \u001b[0mnetwork\u001b[0m\u001b[0;34m.\u001b[0m\u001b[0mkeys\u001b[0m\u001b[0;34m(\u001b[0m\u001b[0;34m)\u001b[0m\u001b[0;34m:\u001b[0m\u001b[0;34m\u001b[0m\u001b[0;34m\u001b[0m\u001b[0m\n\u001b[0m\u001b[1;32m     55\u001b[0m                     \u001b[0mqueue\u001b[0m\u001b[0;34m.\u001b[0m\u001b[0mappend\u001b[0m\u001b[0;34m(\u001b[0m\u001b[0;34m[\u001b[0m\u001b[0mnode\u001b[0m\u001b[0;34m,\u001b[0m \u001b[0mdest\u001b[0m\u001b[0;34m,\u001b[0m \u001b[0moutput\u001b[0m\u001b[0;34m]\u001b[0m\u001b[0;34m)\u001b[0m  \u001b[0;31m#  Send the output pulse to all its destinations\u001b[0m\u001b[0;34m\u001b[0m\u001b[0;34m\u001b[0m\u001b[0m\n\u001b[1;32m     56\u001b[0m                 \u001b[0;32melif\u001b[0m \u001b[0mdest\u001b[0m \u001b[0;34m==\u001b[0m \u001b[0;34m'rx'\u001b[0m \u001b[0;32mand\u001b[0m \u001b[0;32mnot\u001b[0m \u001b[0moutput\u001b[0m\u001b[0;34m:\u001b[0m\u001b[0;34m\u001b[0m\u001b[0;34m\u001b[0m\u001b[0m\n",
      "\u001b[0;31mKeyboardInterrupt\u001b[0m: "
     ]
    }
   ],
   "source": [
    "presses = 0\n",
    "\n",
    "while not rx_hit:\n",
    "    presses += 1\n",
    "    state, memory, low, high, rx_hit = push_button(network, state, memory)"
   ]
  },
  {
   "cell_type": "code",
   "execution_count": null,
   "id": "538702a3-5f90-4e27-bf8d-aefc172d0880",
   "metadata": {},
   "outputs": [],
   "source": []
  }
 ],
 "metadata": {
  "kernelspec": {
   "display_name": "Python (data3)",
   "language": "python",
   "name": "data3"
  },
  "language_info": {
   "codemirror_mode": {
    "name": "ipython",
    "version": 3
   },
   "file_extension": ".py",
   "mimetype": "text/x-python",
   "name": "python",
   "nbconvert_exporter": "python",
   "pygments_lexer": "ipython3",
   "version": "3.9.7"
  }
 },
 "nbformat": 4,
 "nbformat_minor": 5
}
