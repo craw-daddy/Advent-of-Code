{
 "cells": [
  {
   "cell_type": "code",
   "execution_count": 1,
   "id": "81177568-6beb-4ce8-a845-7ad632ea8850",
   "metadata": {},
   "outputs": [],
   "source": [
    "with open('input/day-5.input', 'r') as f:\n",
    "    raw = f.read().split('\\n\\n')"
   ]
  },
  {
   "cell_type": "code",
   "execution_count": 2,
   "id": "4e19fb38-cc28-445d-99a3-4abb61404bae",
   "metadata": {},
   "outputs": [],
   "source": [
    "seeds = [int(x) for x in raw[0].split(':')[1].split()]\n",
    "seed_to_soil = [[int(x) for x in s.split()] for s in  raw[1].split(':')[1].split('\\n')[1:]]\n",
    "soil_to_fertilizer = [[int(x) for x in s.split()] for s in  raw[2].split(':')[1].split('\\n')[1:]]\n",
    "fertilizer_to_water = [[int(x) for x in s.split()] for s in  raw[3].split(':')[1].split('\\n')[1:]]\n",
    "water_to_light = [[int(x) for x in s.split()] for s in  raw[4].split(':')[1].split('\\n')[1:]]\n",
    "light_to_temperature = [[int(x) for x in s.split()] for s in  raw[5].split(':')[1].split('\\n')[1:]]\n",
    "temp_to_humidity = [[int(x) for x in s.split()] for s in  raw[6].split(':')[1].split('\\n')[1:]]\n",
    "humidity_to_location = [[int(x) for x in s.split()] for s in  raw[7].split(':')[1].split('\\n')[1:] if s.split()]"
   ]
  },
  {
   "cell_type": "markdown",
   "id": "4c36d4c2-7dd1-4753-affe-198290aaae79",
   "metadata": {},
   "source": [
    "## Part I"
   ]
  },
  {
   "cell_type": "code",
   "execution_count": 3,
   "id": "452f61de-054d-4da2-949b-9d2b08651fc4",
   "metadata": {},
   "outputs": [],
   "source": [
    "def seek(target, mapping):\n",
    "    find_target = [line[1] <= target < line[1] + line[2] for line in mapping]\n",
    "    if True in find_target:\n",
    "        ind = find_target.index(True)\n",
    "        output = mapping[ind][0] + target - mapping[ind][1]\n",
    "    else:\n",
    "        output = target\n",
    "        \n",
    "    return output"
   ]
  },
  {
   "cell_type": "code",
   "execution_count": 4,
   "id": "12f52413-0009-4e8b-a3a8-186019cb8665",
   "metadata": {},
   "outputs": [],
   "source": [
    "def full_map(s):\n",
    "    partial = seek(seek(seek(s, seed_to_soil), soil_to_fertilizer), fertilizer_to_water)\n",
    "    partial = seek(seek(partial, water_to_light), light_to_temperature)\n",
    "    final = seek(seek(partial, temp_to_humidity), humidity_to_location)\n",
    "    return final"
   ]
  },
  {
   "cell_type": "code",
   "execution_count": 5,
   "id": "77ffab7e-0052-495e-9c98-b1071ce85caf",
   "metadata": {},
   "outputs": [
    {
     "data": {
      "text/plain": [
       "278755257"
      ]
     },
     "execution_count": 5,
     "metadata": {},
     "output_type": "execute_result"
    }
   ],
   "source": [
    "min([full_map(s) for s in seeds])"
   ]
  },
  {
   "cell_type": "markdown",
   "id": "a9c7323c-307d-432a-81b1-e23d117c5a48",
   "metadata": {},
   "source": [
    "## Part II"
   ]
  },
  {
   "cell_type": "code",
   "execution_count": 6,
   "id": "0fd11cf0-15a7-45bf-8ffc-c3f61ff90b4f",
   "metadata": {},
   "outputs": [
    {
     "data": {
      "text/plain": [
       "[3489262449,\n",
       " 222250568,\n",
       " 2315397239,\n",
       " 327729713,\n",
       " 1284963,\n",
       " 12560465,\n",
       " 1219676803,\n",
       " 10003052,\n",
       " 291763704,\n",
       " 177898461]"
      ]
     },
     "execution_count": 6,
     "metadata": {},
     "output_type": "execute_result"
    }
   ],
   "source": [
    "seeds[:10]"
   ]
  },
  {
   "cell_type": "code",
   "execution_count": 7,
   "id": "c9965299-8404-4af3-9f4d-7fef3d6a7e9c",
   "metadata": {},
   "outputs": [],
   "source": [
    "import numpy as np"
   ]
  },
  {
   "cell_type": "code",
   "execution_count": 8,
   "id": "ef090e4e-fc87-4f5d-b397-803a7dbb459f",
   "metadata": {},
   "outputs": [],
   "source": [
    "seeds = np.array(seeds).reshape(-1, 2)"
   ]
  },
  {
   "cell_type": "code",
   "execution_count": 9,
   "id": "84d7b921-9548-4d65-8941-a64b412ef1a5",
   "metadata": {},
   "outputs": [
    {
     "data": {
      "text/plain": [
       "array([[3489262449,  222250568],\n",
       "       [2315397239,  327729713],\n",
       "       [   1284963,   12560465],\n",
       "       [1219676803,   10003052],\n",
       "       [ 291763704,  177898461],\n",
       "       [ 136674754,  107182783],\n",
       "       [2917625223,  260345082],\n",
       "       [1554280164,  216251358],\n",
       "       [3900312676,    5629667],\n",
       "       [ 494259693,  397354410]])"
      ]
     },
     "execution_count": 9,
     "metadata": {},
     "output_type": "execute_result"
    }
   ],
   "source": [
    "seeds"
   ]
  },
  {
   "cell_type": "code",
   "execution_count": 10,
   "id": "659caeae-22db-428c-9a8a-4848ae28f838",
   "metadata": {},
   "outputs": [
    {
     "data": {
      "text/plain": [
       "26829166"
      ]
     },
     "execution_count": 10,
     "metadata": {},
     "output_type": "execute_result"
    }
   ],
   "source": [
    "min(full_map(s) for row in seeds for s in range(row[0], row[0]+row[1]) )"
   ]
  },
  {
   "cell_type": "code",
   "execution_count": null,
   "id": "cf9471c3-8256-4d46-ba56-256ed42bc60b",
   "metadata": {},
   "outputs": [],
   "source": []
  }
 ],
 "metadata": {
  "kernelspec": {
   "display_name": "Python (data3)",
   "language": "python",
   "name": "data3"
  },
  "language_info": {
   "codemirror_mode": {
    "name": "ipython",
    "version": 3
   },
   "file_extension": ".py",
   "mimetype": "text/x-python",
   "name": "python",
   "nbconvert_exporter": "python",
   "pygments_lexer": "ipython3",
   "version": "3.9.7"
  }
 },
 "nbformat": 4,
 "nbformat_minor": 5
}
