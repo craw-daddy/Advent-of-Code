{
 "cells": [
  {
   "cell_type": "code",
   "execution_count": 1,
   "id": "0e238479-d416-4f68-b875-d8158ff8f395",
   "metadata": {},
   "outputs": [],
   "source": [
    "with open('input/day-4.input', 'r') as f:\n",
    "    raw = [s.strip() for s in f.readlines()]"
   ]
  },
  {
   "cell_type": "code",
   "execution_count": 2,
   "id": "a4fa0607-4cf8-47f8-8743-365b583f9959",
   "metadata": {},
   "outputs": [
    {
     "data": {
      "text/plain": [
       "['Card   1: 66 90 67 76 55 13 91 31 95  4 | 82 98 69  8 15  2 32 24 99 56 46 65 60 72 58 68 54 22 26  5 74 25 84 73 61',\n",
       " 'Card   2: 94 57 54 45  9 78 71 35 48 44 |  9 56 28 57 55 95 32 48 76 47 94 35 78 91 54 49 38 30 17 63 71  8 16 45 44',\n",
       " 'Card   3: 44 10 67 65 62 43 47 13 26 95 | 67 55 65 68 26 77 41 43 94 13 62 27 66 81 29 10 69 95 31 47 70 72 44 23 17']"
      ]
     },
     "execution_count": 2,
     "metadata": {},
     "output_type": "execute_result"
    }
   ],
   "source": [
    "raw[:3]"
   ]
  },
  {
   "cell_type": "markdown",
   "id": "957e1988-484d-4d42-9f76-08a8d6e982ed",
   "metadata": {},
   "source": [
    "## Part I"
   ]
  },
  {
   "cell_type": "code",
   "execution_count": 3,
   "id": "9368d0cb-21c8-40fe-ad22-58119b1509e9",
   "metadata": {},
   "outputs": [
    {
     "data": {
      "text/plain": [
       "27845"
      ]
     },
     "execution_count": 3,
     "metadata": {},
     "output_type": "execute_result"
    }
   ],
   "source": [
    "points = 0\n",
    "\n",
    "for row in raw:\n",
    "    winning = [int(x) for x in row.split(':')[1].split('|')[0].split()]\n",
    "    numbers = [int(x) for x in row.split(':')[1].split('|')[1].split()]\n",
    "    matches = set(winning).intersection(set(numbers))\n",
    "    if len(matches) > 0:\n",
    "        points += 2**(len(matches)-1)\n",
    "\n",
    "points"
   ]
  },
  {
   "cell_type": "markdown",
   "id": "5c8acaf3-6475-476b-a6a6-9542281b8ec8",
   "metadata": {},
   "source": [
    "## Part II"
   ]
  },
  {
   "cell_type": "code",
   "execution_count": 4,
   "id": "0406cc77-baf5-407a-8276-6560d4842a97",
   "metadata": {},
   "outputs": [],
   "source": [
    "cards = { i : 1 for i in range(1, len(raw)+1) }\n",
    "\n",
    "for index, row in enumerate(raw, start=1):\n",
    "    winning = [int(x) for x in row.split(':')[1].split('|')[0].split()]\n",
    "    numbers = [int(x) for x in row.split(':')[1].split('|')[1].split()]\n",
    "    matches = set(winning).intersection(set(numbers))\n",
    "    if len(matches) > 0:\n",
    "        for k in range(index+1, index+1+len(matches)):\n",
    "            cards[k] += cards[index]"
   ]
  },
  {
   "cell_type": "code",
   "execution_count": 5,
   "id": "0396c5f1-b416-4e2f-94a8-35687adfb8fe",
   "metadata": {},
   "outputs": [
    {
     "data": {
      "text/plain": [
       "9496801"
      ]
     },
     "execution_count": 5,
     "metadata": {},
     "output_type": "execute_result"
    }
   ],
   "source": [
    "sum(cards.values())"
   ]
  },
  {
   "cell_type": "code",
   "execution_count": null,
   "id": "9576f822-bc05-403a-9a37-6d430abea082",
   "metadata": {},
   "outputs": [],
   "source": []
  }
 ],
 "metadata": {
  "kernelspec": {
   "display_name": "Python (data3)",
   "language": "python",
   "name": "data3"
  },
  "language_info": {
   "codemirror_mode": {
    "name": "ipython",
    "version": 3
   },
   "file_extension": ".py",
   "mimetype": "text/x-python",
   "name": "python",
   "nbconvert_exporter": "python",
   "pygments_lexer": "ipython3",
   "version": "3.9.7"
  }
 },
 "nbformat": 4,
 "nbformat_minor": 5
}
