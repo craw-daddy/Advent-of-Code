{
 "cells": [
  {
   "cell_type": "code",
   "execution_count": 1,
   "id": "1d19e026-5331-4106-ae8a-f8cba13da0ad",
   "metadata": {},
   "outputs": [],
   "source": [
    "with open('input/day-9.input', 'r') as f:\n",
    "    raw = [s.strip() for s in f.readlines()]"
   ]
  },
  {
   "cell_type": "code",
   "execution_count": 2,
   "id": "e6da62ff-e9a1-4842-9121-b192c6d5b19d",
   "metadata": {},
   "outputs": [
    {
     "data": {
      "text/plain": [
       "['12 12 11 5 -5 -5 40 194 558 1278 2553 4643 7877 12661 19486 28936 41696 58560 80439 108369 143519',\n",
       " '6 12 33 79 163 320 638 1301 2644 5220 9879 17859 30889 51304 82172 127433 192050 282172 405309 570519 788607',\n",
       " '3 5 5 3 9 60 262 872 2445 6091 13915 29744 60271 116756 217404 390473 678031 1140057 1858241 2938353 4509389',\n",
       " '15 21 23 31 67 161 350 681 1224 2114 3674 6758 13659 30354 71646 172084 407585 935627 2065861 4378033 8910071',\n",
       " '13 32 75 155 286 477 724 1011 1347 1894 3301 7501 19549 51737 132449 324337 759840 1707391 3689542 7685418 15464987']"
      ]
     },
     "execution_count": 2,
     "metadata": {},
     "output_type": "execute_result"
    }
   ],
   "source": [
    "raw[:5]"
   ]
  },
  {
   "cell_type": "code",
   "execution_count": 3,
   "id": "ddd063e8-a711-4568-818e-eeb7d4583472",
   "metadata": {},
   "outputs": [],
   "source": [
    "data = [[int(x) for x in s.split()] for s in raw]"
   ]
  },
  {
   "cell_type": "code",
   "execution_count": 4,
   "id": "1b611dbe-084b-4d07-b282-12b055608cf3",
   "metadata": {},
   "outputs": [
    {
     "data": {
      "text/plain": [
       "[[12,\n",
       "  12,\n",
       "  11,\n",
       "  5,\n",
       "  -5,\n",
       "  -5,\n",
       "  40,\n",
       "  194,\n",
       "  558,\n",
       "  1278,\n",
       "  2553,\n",
       "  4643,\n",
       "  7877,\n",
       "  12661,\n",
       "  19486,\n",
       "  28936,\n",
       "  41696,\n",
       "  58560,\n",
       "  80439,\n",
       "  108369,\n",
       "  143519],\n",
       " [6,\n",
       "  12,\n",
       "  33,\n",
       "  79,\n",
       "  163,\n",
       "  320,\n",
       "  638,\n",
       "  1301,\n",
       "  2644,\n",
       "  5220,\n",
       "  9879,\n",
       "  17859,\n",
       "  30889,\n",
       "  51304,\n",
       "  82172,\n",
       "  127433,\n",
       "  192050,\n",
       "  282172,\n",
       "  405309,\n",
       "  570519,\n",
       "  788607],\n",
       " [3,\n",
       "  5,\n",
       "  5,\n",
       "  3,\n",
       "  9,\n",
       "  60,\n",
       "  262,\n",
       "  872,\n",
       "  2445,\n",
       "  6091,\n",
       "  13915,\n",
       "  29744,\n",
       "  60271,\n",
       "  116756,\n",
       "  217404,\n",
       "  390473,\n",
       "  678031,\n",
       "  1140057,\n",
       "  1858241,\n",
       "  2938353,\n",
       "  4509389]]"
      ]
     },
     "execution_count": 4,
     "metadata": {},
     "output_type": "execute_result"
    }
   ],
   "source": [
    "data[:3]"
   ]
  },
  {
   "cell_type": "markdown",
   "id": "e86bd342-50b6-472f-a92a-4e14b2471a89",
   "metadata": {},
   "source": [
    "## Part I"
   ]
  },
  {
   "cell_type": "code",
   "execution_count": 5,
   "id": "d900feb9-4bfe-49a1-9de2-474a8abbc880",
   "metadata": {},
   "outputs": [],
   "source": [
    "def solve(s):\n",
    "    partials = [s]\n",
    "\n",
    "    while not all(partials[-1][i] == 0 for i in range(len(partials[-1]))):\n",
    "        partials.append([partials[-1][i] - partials[-1][i-1] for i in range(1, len(partials[-1]))])\n",
    "    \n",
    "    partials = partials[:-1]\n",
    "\n",
    "    for i in range(len(partials)-1, 0, -1):\n",
    "        step = partials[i][-1]\n",
    "        partials[i-1].append(partials[i][-1] + partials[i-1][-1])\n",
    "        \n",
    "    return partials[0][-1]"
   ]
  },
  {
   "cell_type": "code",
   "execution_count": 6,
   "id": "8fb3f685-e9ca-4a4c-84b1-53281451847b",
   "metadata": {},
   "outputs": [
    {
     "data": {
      "text/plain": [
       "1772145754"
      ]
     },
     "execution_count": 6,
     "metadata": {},
     "output_type": "execute_result"
    }
   ],
   "source": [
    "sum(solve(s) for s in data)"
   ]
  },
  {
   "cell_type": "markdown",
   "id": "9df9d825-7300-4dbe-acb6-9b6030ea7acb",
   "metadata": {},
   "source": [
    "## Part II"
   ]
  },
  {
   "cell_type": "code",
   "execution_count": 7,
   "id": "841eefea-500b-4672-b73d-6a1743c9ae43",
   "metadata": {},
   "outputs": [],
   "source": [
    "def solve(s):\n",
    "    partials = [s]\n",
    "\n",
    "    while not all(partials[-1][i] == 0 for i in range(len(partials[-1]))):\n",
    "        partials.append([partials[-1][i] - partials[-1][i-1] for i in range(1, len(partials[-1]))])\n",
    "    \n",
    "    partials = partials[:-1]\n",
    "\n",
    "    for i in range(len(partials)-1, 0, -1):\n",
    "        step = partials[i][0]\n",
    "        partials[i-1] = [partials[i-1][0] - partials[i][0]] + [partials[i-1]]\n",
    "        \n",
    "    return partials[0][0]"
   ]
  },
  {
   "cell_type": "code",
   "execution_count": 8,
   "id": "211115f8-4822-43f7-8cfa-f7bfef3411dc",
   "metadata": {},
   "outputs": [
    {
     "data": {
      "text/plain": [
       "867"
      ]
     },
     "execution_count": 8,
     "metadata": {},
     "output_type": "execute_result"
    }
   ],
   "source": [
    "sum(solve(s) for s in data)"
   ]
  },
  {
   "cell_type": "code",
   "execution_count": null,
   "id": "77aae1b3-9555-46a6-8cee-8e426bb18784",
   "metadata": {},
   "outputs": [],
   "source": []
  }
 ],
 "metadata": {
  "kernelspec": {
   "display_name": "Python (data3)",
   "language": "python",
   "name": "data3"
  },
  "language_info": {
   "codemirror_mode": {
    "name": "ipython",
    "version": 3
   },
   "file_extension": ".py",
   "mimetype": "text/x-python",
   "name": "python",
   "nbconvert_exporter": "python",
   "pygments_lexer": "ipython3",
   "version": "3.9.7"
  }
 },
 "nbformat": 4,
 "nbformat_minor": 5
}
