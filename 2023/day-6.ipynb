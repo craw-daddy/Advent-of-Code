{
 "cells": [
  {
   "cell_type": "code",
   "execution_count": 1,
   "id": "968a7a1c-f5ae-4d26-83a1-e1afecc0a020",
   "metadata": {},
   "outputs": [],
   "source": [
    "with open('input/day-6.input', 'r') as f:\n",
    "    data = [s.strip() for s in f.readlines()]"
   ]
  },
  {
   "cell_type": "code",
   "execution_count": 2,
   "id": "25898be8-f33f-4553-8a87-7423d901cc26",
   "metadata": {},
   "outputs": [
    {
     "data": {
      "text/plain": [
       "['Time:        41     96     88     94',\n",
       " 'Distance:   214   1789   1127   1055']"
      ]
     },
     "execution_count": 2,
     "metadata": {},
     "output_type": "execute_result"
    }
   ],
   "source": [
    "data"
   ]
  },
  {
   "cell_type": "code",
   "execution_count": 3,
   "id": "5441e16a-e029-4a68-aede-bb43fb153712",
   "metadata": {},
   "outputs": [],
   "source": [
    "times = [int(x) for x in data[0].split(':')[1].split()]\n",
    "distances = [int(x) for x in data[1].split(':')[1].split()]"
   ]
  },
  {
   "cell_type": "markdown",
   "id": "64faea18-a1de-47ba-b3be-4fb233e44f66",
   "metadata": {},
   "source": [
    "## Part I"
   ]
  },
  {
   "cell_type": "code",
   "execution_count": 4,
   "id": "b82fb0ea-489f-4e13-89a3-9cf63e501281",
   "metadata": {},
   "outputs": [],
   "source": [
    "winners = []\n",
    "\n",
    "for index in range(len(times)):\n",
    "    t = times[index]\n",
    "    winners.append(sum([i*(times[index] - i) >= distances[index] for i in range(times[index])]))"
   ]
  },
  {
   "cell_type": "code",
   "execution_count": 5,
   "id": "facaaaca-220e-4071-8acb-5d414182d72e",
   "metadata": {},
   "outputs": [
    {
     "data": {
      "text/plain": [
       "[28, 45, 57, 67]"
      ]
     },
     "execution_count": 5,
     "metadata": {},
     "output_type": "execute_result"
    }
   ],
   "source": [
    "winners"
   ]
  },
  {
   "cell_type": "code",
   "execution_count": 6,
   "id": "5e03b5b7-2c70-4993-b086-8d2864af03b1",
   "metadata": {},
   "outputs": [],
   "source": [
    "from functools import reduce"
   ]
  },
  {
   "cell_type": "code",
   "execution_count": 7,
   "id": "46e99260-985f-4409-9fd3-3baf629baacb",
   "metadata": {},
   "outputs": [
    {
     "data": {
      "text/plain": [
       "4811940"
      ]
     },
     "execution_count": 7,
     "metadata": {},
     "output_type": "execute_result"
    }
   ],
   "source": [
    "reduce(lambda x,y: x*y, winners)"
   ]
  },
  {
   "cell_type": "markdown",
   "id": "f315fcb0-5302-414a-927f-0e9bc236d619",
   "metadata": {},
   "source": [
    "## Part II"
   ]
  },
  {
   "cell_type": "code",
   "execution_count": 8,
   "id": "6dae786c-6278-4c25-8015-0603538c1755",
   "metadata": {},
   "outputs": [],
   "source": [
    "time = int(reduce(lambda x, y: x + y, [str(t) for t in times]))\n",
    "distance = int(reduce(lambda x, y: x + y, [str(d) for d in distances]))"
   ]
  },
  {
   "cell_type": "code",
   "execution_count": 9,
   "id": "6ca08383-8a3b-4f16-b50f-b31dfedb9ee3",
   "metadata": {},
   "outputs": [
    {
     "data": {
      "text/plain": [
       "(41968894, 214178911271055)"
      ]
     },
     "execution_count": 9,
     "metadata": {},
     "output_type": "execute_result"
    }
   ],
   "source": [
    "time, distance"
   ]
  },
  {
   "cell_type": "code",
   "execution_count": 10,
   "id": "13fd4cc4-6544-4530-bc79-22c8cf2defbe",
   "metadata": {},
   "outputs": [
    {
     "data": {
      "text/plain": [
       "30077773"
      ]
     },
     "execution_count": 10,
     "metadata": {},
     "output_type": "execute_result"
    }
   ],
   "source": [
    "sum([i*(time - i) >= distance for i in range(time)])"
   ]
  },
  {
   "cell_type": "code",
   "execution_count": null,
   "id": "9a523ba3-2e35-47d1-a033-eb2ac52cf640",
   "metadata": {},
   "outputs": [],
   "source": []
  }
 ],
 "metadata": {
  "kernelspec": {
   "display_name": "Python (data3)",
   "language": "python",
   "name": "data3"
  },
  "language_info": {
   "codemirror_mode": {
    "name": "ipython",
    "version": 3
   },
   "file_extension": ".py",
   "mimetype": "text/x-python",
   "name": "python",
   "nbconvert_exporter": "python",
   "pygments_lexer": "ipython3",
   "version": "3.9.7"
  }
 },
 "nbformat": 4,
 "nbformat_minor": 5
}
