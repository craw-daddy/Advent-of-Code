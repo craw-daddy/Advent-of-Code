{
 "cells": [
  {
   "cell_type": "code",
   "execution_count": 23,
   "id": "56cabc7d-eb18-42c9-af6f-290bff1c6414",
   "metadata": {},
   "outputs": [],
   "source": [
    "import numpy as np\n",
    "\n",
    "from itertools import combinations"
   ]
  },
  {
   "cell_type": "code",
   "execution_count": 24,
   "id": "05a399b4-5563-44a4-95b2-6caf38f758fb",
   "metadata": {},
   "outputs": [],
   "source": [
    "with open('input/day-11.input', 'r') as f:\n",
    "    raw = [s.strip() for s in f.readlines()]"
   ]
  },
  {
   "cell_type": "code",
   "execution_count": 25,
   "id": "feb4cc39-5ec1-42ee-b280-309af4555f54",
   "metadata": {},
   "outputs": [],
   "source": [
    "cosmos = np.array([list(r) for r in raw])"
   ]
  },
  {
   "cell_type": "markdown",
   "id": "08b694f2-8631-45a3-9fde-4d030c8c150f",
   "metadata": {},
   "source": [
    "## Part I"
   ]
  },
  {
   "cell_type": "code",
   "execution_count": 26,
   "id": "54d5adbf-0edd-4edf-9012-bc6fca2e0cb3",
   "metadata": {},
   "outputs": [],
   "source": [
    "#  Find where the rows and columns should be \"expanded\" as described in the problem\n",
    "\n",
    "expand_rows = [i for i in range(cosmos.shape[0]) if np.all(cosmos[i,:] == '.')]\n",
    "expand_columns = [j for j in range(cosmos.shape[1]) if np.all(cosmos[:,j] == '.')]"
   ]
  },
  {
   "cell_type": "code",
   "execution_count": 27,
   "id": "ba5bb2bc-238e-48eb-bee8-fd6c5bb944e1",
   "metadata": {},
   "outputs": [
    {
     "data": {
      "text/plain": [
       "([56, 73, 86, 92, 110], [51, 77, 113, 114, 123, 128])"
      ]
     },
     "execution_count": 27,
     "metadata": {},
     "output_type": "execute_result"
    }
   ],
   "source": [
    "expand_rows, expand_columns"
   ]
  },
  {
   "cell_type": "code",
   "execution_count": 28,
   "id": "a356d68b-b4ba-4763-b836-e0c61fe6ac1c",
   "metadata": {},
   "outputs": [],
   "source": [
    "#  Insert new rows/columns of periods to represent the \"expansion\"\n",
    "\n",
    "cosmos = np.insert(cosmos, expand_rows, np.array(['$']*cosmos.shape[0]), 0)\n",
    "cosmos = np.insert(cosmos, expand_columns, '$', axis=1) "
   ]
  },
  {
   "cell_type": "code",
   "execution_count": 29,
   "id": "c041bea9-067d-4ec7-9f52-22146286ca6a",
   "metadata": {},
   "outputs": [],
   "source": [
    "galaxies = []\n",
    "for i in range(cosmos.shape[0]):\n",
    "    for j in range(cosmos.shape[1]):\n",
    "        if cosmos[i,j] == '#':\n",
    "            galaxies.append((i,j))"
   ]
  },
  {
   "cell_type": "code",
   "execution_count": 33,
   "id": "cda80143-2276-419b-89a8-3a0089823b3a",
   "metadata": {},
   "outputs": [
    {
     "data": {
      "text/plain": [
       "[(0, 40),\n",
       " (0, 69),\n",
       " (0, 113),\n",
       " (1, 33),\n",
       " (1, 56),\n",
       " (1, 85),\n",
       " (1, 103),\n",
       " (1, 138),\n",
       " (2, 12),\n",
       " (2, 45)]"
      ]
     },
     "execution_count": 33,
     "metadata": {},
     "output_type": "execute_result"
    }
   ],
   "source": [
    "galaxies[:10]"
   ]
  },
  {
   "cell_type": "code",
   "execution_count": null,
   "id": "9cebc617-c1bf-4b21-ae0d-2a0cdc017af6",
   "metadata": {},
   "outputs": [],
   "source": []
  },
  {
   "cell_type": "code",
   "execution_count": 30,
   "id": "ea30f15b-b6bc-42f1-b96c-e32b96919eef",
   "metadata": {},
   "outputs": [],
   "source": [
    "total_dist = 0\n",
    "\n",
    "for A, B in combinations(galaxies, 2):\n",
    "    total_dist += abs(A[0] - B[0]) + abs(A[1] - B[1])"
   ]
  },
  {
   "cell_type": "code",
   "execution_count": 31,
   "id": "6bd032f8-c1bf-4c26-bb20-1605489e801b",
   "metadata": {},
   "outputs": [
    {
     "data": {
      "text/plain": [
       "9545480"
      ]
     },
     "execution_count": 31,
     "metadata": {},
     "output_type": "execute_result"
    }
   ],
   "source": [
    "total_dist"
   ]
  },
  {
   "cell_type": "code",
   "execution_count": null,
   "id": "9482dcef-acaa-4a70-9b79-4d4c5535be8d",
   "metadata": {},
   "outputs": [],
   "source": []
  },
  {
   "cell_type": "code",
   "execution_count": null,
   "id": "b0ff815f-ac81-4c95-86eb-87b0f4c758e6",
   "metadata": {},
   "outputs": [],
   "source": []
  },
  {
   "cell_type": "code",
   "execution_count": null,
   "id": "d833aa8e-d245-411a-b6bf-7a9a05e47b85",
   "metadata": {},
   "outputs": [],
   "source": []
  },
  {
   "cell_type": "code",
   "execution_count": null,
   "id": "ab537d2a-5ad6-4436-8fbf-4492e9d48887",
   "metadata": {},
   "outputs": [],
   "source": []
  },
  {
   "cell_type": "code",
   "execution_count": 52,
   "id": "0a811ecc-fec2-4be3-b09c-6caff19f271e",
   "metadata": {},
   "outputs": [],
   "source": [
    "cosmos = np.array([list(r) for r in raw])"
   ]
  },
  {
   "cell_type": "code",
   "execution_count": 53,
   "id": "9c0c3c0c-9083-4c74-8468-95b4b81c8ae6",
   "metadata": {},
   "outputs": [],
   "source": [
    "galaxies = []\n",
    "for i in range(cosmos.shape[0]):\n",
    "    for j in range(cosmos.shape[1]):\n",
    "        if cosmos[i,j] == '#':\n",
    "            galaxies.append((i,j))"
   ]
  },
  {
   "cell_type": "code",
   "execution_count": 80,
   "id": "e6decb0c-bbdc-404b-93de-cb07e3fd578e",
   "metadata": {},
   "outputs": [
    {
     "data": {
      "text/plain": [
       "9146358"
      ]
     },
     "execution_count": 80,
     "metadata": {},
     "output_type": "execute_result"
    }
   ],
   "source": [
    "total_dist = 0\n",
    "\n",
    "for A, B in combinations(galaxies, 2):\n",
    "    min_x, max_x = min(A[0], B[0]), max(A[0], B[0])\n",
    "    min_y, max_y = min(A[1], B[1]), max(A[1], B[1])\n",
    "    total_dist = total_dist + abs(A[0] - B[0]) + abs(A[1] - B[1]) \\\n",
    "    + np.sum(((min_x <= np.array(expand_rows) & (max_x >= np.array(expand_rows)))))\n",
    "    + np.sum(((min_y <= np.array(expand_columns) & (max_y >= np.array(expand_columns)))))\n",
    "    \n",
    "total_dist"
   ]
  },
  {
   "cell_type": "code",
   "execution_count": 60,
   "id": "85b38fe6-cfd0-4033-ae1d-e23ea4d1e93d",
   "metadata": {},
   "outputs": [],
   "source": [
    "A = galaxies[0]\n",
    "B = galaxies[200]"
   ]
  },
  {
   "cell_type": "code",
   "execution_count": 61,
   "id": "9e39474c-d9b0-4cbc-9082-645ed1b54dc1",
   "metadata": {},
   "outputs": [
    {
     "data": {
      "text/plain": [
       "(0, 40)"
      ]
     },
     "execution_count": 61,
     "metadata": {},
     "output_type": "execute_result"
    }
   ],
   "source": [
    "A"
   ]
  },
  {
   "cell_type": "code",
   "execution_count": 62,
   "id": "969fd72a-5e2d-4346-bb25-66a8649a831b",
   "metadata": {},
   "outputs": [
    {
     "data": {
      "text/plain": [
       "(63, 120)"
      ]
     },
     "execution_count": 62,
     "metadata": {},
     "output_type": "execute_result"
    }
   ],
   "source": [
    "B"
   ]
  },
  {
   "cell_type": "code",
   "execution_count": 59,
   "id": "4fc0ce34-1a1f-4cb0-8870-7bd1c3758403",
   "metadata": {},
   "outputs": [
    {
     "data": {
      "text/plain": [
       "([56, 73, 86, 92, 110], [51, 77, 113, 114, 123, 128])"
      ]
     },
     "execution_count": 59,
     "metadata": {},
     "output_type": "execute_result"
    }
   ],
   "source": [
    "expand_rows, expand_columns"
   ]
  },
  {
   "cell_type": "code",
   "execution_count": 79,
   "id": "0a90e9c7-db91-4321-978d-bf7cd7fa8e8a",
   "metadata": {},
   "outputs": [
    {
     "data": {
      "text/plain": [
       "1"
      ]
     },
     "execution_count": 79,
     "metadata": {},
     "output_type": "execute_result"
    }
   ],
   "source": [
    "np.sum((A[0] < np.array(expand_rows)) & (B[0] > np.array(expand_rows)))"
   ]
  },
  {
   "cell_type": "code",
   "execution_count": 77,
   "id": "49bb476f-a6b3-4950-b2c6-9dfe5709f64a",
   "metadata": {},
   "outputs": [
    {
     "data": {
      "text/plain": [
       "1"
      ]
     },
     "execution_count": 77,
     "metadata": {},
     "output_type": "execute_result"
    }
   ],
   "source": [
    "x.sum()"
   ]
  },
  {
   "cell_type": "code",
   "execution_count": 37,
   "id": "fd0dceeb-dfc7-43c8-b762-8a0be123bc98",
   "metadata": {},
   "outputs": [
    {
     "data": {
      "text/plain": [
       "array([False, False, False, False, False])"
      ]
     },
     "execution_count": 37,
     "metadata": {},
     "output_type": "execute_result"
    }
   ],
   "source": [
    "(galaxies[0][0] < np.array(expand_rows)) & (galaxies[0][1] > np.array(expand_rows))"
   ]
  },
  {
   "cell_type": "markdown",
   "id": "e977814d-9ea7-449b-9d3d-860c7a3f7e6f",
   "metadata": {},
   "source": [
    "## Part II"
   ]
  },
  {
   "cell_type": "code",
   "execution_count": null,
   "id": "866d0fa6-f16a-4b45-9f18-c9fe0aba8936",
   "metadata": {},
   "outputs": [],
   "source": []
  }
 ],
 "metadata": {
  "kernelspec": {
   "display_name": "Python (data3)",
   "language": "python",
   "name": "data3"
  },
  "language_info": {
   "codemirror_mode": {
    "name": "ipython",
    "version": 3
   },
   "file_extension": ".py",
   "mimetype": "text/x-python",
   "name": "python",
   "nbconvert_exporter": "python",
   "pygments_lexer": "ipython3",
   "version": "3.9.7"
  }
 },
 "nbformat": 4,
 "nbformat_minor": 5
}
