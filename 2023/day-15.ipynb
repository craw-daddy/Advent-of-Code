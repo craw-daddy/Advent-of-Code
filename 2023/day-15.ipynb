{
 "cells": [
  {
   "cell_type": "code",
   "execution_count": 1,
   "id": "6b0d4dcf-82bd-41b3-9735-ded6aeb48b5e",
   "metadata": {},
   "outputs": [],
   "source": [
    "test = 'rn=1,cm-,qp=3,cm=2,qp-,pc=4,ot=9,ab=5,pc-,pc=6,ot=7'\n",
    "\n",
    "words = test.split(',')"
   ]
  },
  {
   "cell_type": "code",
   "execution_count": 2,
   "id": "efef2ab7-3444-4ed1-8764-8247097aef5e",
   "metadata": {},
   "outputs": [],
   "source": [
    "with open('input/day-15.input', 'r') as f:\n",
    "    data = f.readline().strip()\n",
    "    \n",
    "words = data.split(',')"
   ]
  },
  {
   "cell_type": "code",
   "execution_count": 3,
   "id": "aa419a4e-1aab-46eb-8e01-698e067fbd67",
   "metadata": {},
   "outputs": [],
   "source": [
    "def hash_word(word):\n",
    "    result = 0\n",
    "    for c in word:\n",
    "        result += ord(c)\n",
    "        result *= 17\n",
    "        result = result % 256\n",
    "        \n",
    "    return result"
   ]
  },
  {
   "cell_type": "markdown",
   "id": "7c968d5f-da00-4d12-a659-13a2dfa45423",
   "metadata": {},
   "source": [
    "## Part I"
   ]
  },
  {
   "cell_type": "code",
   "execution_count": 4,
   "id": "07d764c7-caa4-4f2e-b364-e2aa9dedea71",
   "metadata": {},
   "outputs": [
    {
     "data": {
      "text/plain": [
       "510273"
      ]
     },
     "execution_count": 4,
     "metadata": {},
     "output_type": "execute_result"
    }
   ],
   "source": [
    "sum(hash_word(w) for w in words)"
   ]
  },
  {
   "cell_type": "markdown",
   "id": "c81e860e-9edd-4736-893b-db4029c8ad2e",
   "metadata": {},
   "source": [
    "## Part II"
   ]
  },
  {
   "cell_type": "code",
   "execution_count": 5,
   "id": "aa24a467-9919-4f38-a0cb-75954b2dd165",
   "metadata": {},
   "outputs": [],
   "source": [
    "from collections import defaultdict, deque"
   ]
  },
  {
   "cell_type": "code",
   "execution_count": 6,
   "id": "f787b078-9e93-4966-b029-5cb978fdc7fc",
   "metadata": {},
   "outputs": [],
   "source": [
    "def process_words(words):\n",
    "    d = defaultdict(lambda : deque())\n",
    "\n",
    "    for w in words:\n",
    "        if '=' in w:\n",
    "            label = w.split('=')[0]\n",
    "            lens = int(w.split('=')[1])\n",
    "            h = hash_word(label)\n",
    "            item = None\n",
    "            for i, pair in enumerate(d[h]):\n",
    "                if pair[0] == label:\n",
    "                    index = i\n",
    "                    item = pair\n",
    "            if item:\n",
    "                d[h].insert(index, (label, lens))\n",
    "                d[h].remove(item)\n",
    "            else:\n",
    "                d[h].append((label, lens))\n",
    "        elif '-' in w:\n",
    "            label = w.split('-')[0]\n",
    "            h = hash_word(label)\n",
    "            item = None\n",
    "            for pair in d[h]:\n",
    "                if pair[0] == label:\n",
    "                    item = pair\n",
    "            if item:\n",
    "                d[h].remove(item)\n",
    "                \n",
    "    power = 0\n",
    "    \n",
    "    for k, v in d.items():\n",
    "        for slot, item in enumerate(v, start=1):\n",
    "            power += (k + 1) * slot * item[1]\n",
    "        \n",
    "    return power"
   ]
  },
  {
   "cell_type": "code",
   "execution_count": 7,
   "id": "a26f8807-bd8f-4474-b866-07284165fcf8",
   "metadata": {},
   "outputs": [
    {
     "data": {
      "text/plain": [
       "212449"
      ]
     },
     "execution_count": 7,
     "metadata": {},
     "output_type": "execute_result"
    }
   ],
   "source": [
    "process_words(words)"
   ]
  },
  {
   "cell_type": "code",
   "execution_count": null,
   "id": "50e6514d-ff6c-4f1b-947c-3840a2420d89",
   "metadata": {},
   "outputs": [],
   "source": []
  }
 ],
 "metadata": {
  "kernelspec": {
   "display_name": "Python (data3)",
   "language": "python",
   "name": "data3"
  },
  "language_info": {
   "codemirror_mode": {
    "name": "ipython",
    "version": 3
   },
   "file_extension": ".py",
   "mimetype": "text/x-python",
   "name": "python",
   "nbconvert_exporter": "python",
   "pygments_lexer": "ipython3",
   "version": "3.9.7"
  }
 },
 "nbformat": 4,
 "nbformat_minor": 5
}
