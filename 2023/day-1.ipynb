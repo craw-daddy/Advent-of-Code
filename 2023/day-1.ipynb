{
 "cells": [
  {
   "cell_type": "code",
   "execution_count": 1,
   "id": "1993d897-f72b-4663-9a0f-898349dff024",
   "metadata": {},
   "outputs": [],
   "source": [
    "with open('input/day-1.input', 'r') as f:\n",
    "    data = f.readlines()\n",
    "    data = [s.strip() for s in data]"
   ]
  },
  {
   "cell_type": "markdown",
   "id": "0dbd80af-ac6b-4419-b8e8-4beab6d1fa9a",
   "metadata": {},
   "source": [
    "## Part I"
   ]
  },
  {
   "cell_type": "code",
   "execution_count": 2,
   "id": "69498c25-5016-45a9-9827-111854979001",
   "metadata": {
    "tags": []
   },
   "outputs": [],
   "source": [
    "def calibration(s):\n",
    "    for c in s:\n",
    "        if c in '0123456789':\n",
    "            first = c\n",
    "            break\n",
    "    for c in s[::-1]:\n",
    "        if c in '0123456789':\n",
    "            last = c\n",
    "            break\n",
    "            \n",
    "    num = int(first+last)\n",
    "    return num"
   ]
  },
  {
   "cell_type": "code",
   "execution_count": 3,
   "id": "f95fbedf-dcab-4de5-8c26-77da54963f2a",
   "metadata": {},
   "outputs": [],
   "source": [
    "total = 0\n",
    "for line in data:\n",
    "    total += calibration(line)"
   ]
  },
  {
   "cell_type": "code",
   "execution_count": 4,
   "id": "427ee805-763a-42ce-9845-ad5f629f67a1",
   "metadata": {},
   "outputs": [
    {
     "data": {
      "text/plain": [
       "53974"
      ]
     },
     "execution_count": 4,
     "metadata": {},
     "output_type": "execute_result"
    }
   ],
   "source": [
    "total"
   ]
  },
  {
   "cell_type": "markdown",
   "id": "640f0c71-a726-43ee-bf0d-de976ccafa00",
   "metadata": {},
   "source": [
    "## Part II"
   ]
  },
  {
   "cell_type": "code",
   "execution_count": 5,
   "id": "f1ac25df-da20-444f-8912-b8a3fd751144",
   "metadata": {},
   "outputs": [],
   "source": [
    "import re"
   ]
  },
  {
   "cell_type": "code",
   "execution_count": 6,
   "id": "68410898-c74c-4782-81fc-536c5bf0cdcc",
   "metadata": {},
   "outputs": [],
   "source": [
    "strtonum = { 'one': '1', 'two': '2', 'three': '3', 'four': '4',\n",
    "             'five': '5', 'six': '6', 'seven': '7', 'eight': '8',\n",
    "             'nine': '9' }"
   ]
  },
  {
   "cell_type": "code",
   "execution_count": 7,
   "id": "aba9cd7b-68ae-4175-a652-a398eecf97e3",
   "metadata": {},
   "outputs": [],
   "source": [
    "def findint(s, num):\n",
    "    if num in s:\n",
    "        return s.index(num)\n",
    "    else:\n",
    "        return len(s)\n",
    "\n",
    "def findstr(s, string):\n",
    "    if string in s:\n",
    "        return s.index(string)\n",
    "    else: \n",
    "        return len(s)\n",
    "\n",
    "def firstnumber(s):\n",
    "    firstint = min(findint(s, v) for v in strtonum.values())\n",
    "    prefix = s[:firstint]\n",
    "    if firstint == 0:\n",
    "        return s[0]\n",
    "    firststring = min([(findstr(prefix, k), k) for k in strtonum], key=lambda x: x[0])\n",
    "    if firstint == firststring[0]:\n",
    "        return s[firstint]\n",
    "    else:\n",
    "        return strtonum[firststring[1]]"
   ]
  },
  {
   "cell_type": "code",
   "execution_count": 8,
   "id": "0ad15c14-48f5-42aa-9f8d-6a67e452d8c0",
   "metadata": {},
   "outputs": [],
   "source": [
    "def lastint(s, num):\n",
    "    for i, c in enumerate(s[::-1]):\n",
    "        if c == num:\n",
    "            return len(s) - i - 1\n",
    "    \n",
    "    return -1"
   ]
  },
  {
   "cell_type": "code",
   "execution_count": 9,
   "id": "7bc9797c-2c84-4c5f-aed3-25acf5eca375",
   "metadata": {},
   "outputs": [],
   "source": [
    "def lastnumber(s):\n",
    "    lastnum = max(lastint(s, v) for v in strtonum.values())\n",
    "    post = s[lastnum+1:]\n",
    "    if post:\n",
    "        laststr = min([(post[::-1].index(k[::-1]), k) for k in strtonum.keys() if k[::-1] in post[::-1]], key=lambda x: x[0], default=-1)\n",
    "        if laststr == -1:\n",
    "            return s[lastnum]\n",
    "        else:\n",
    "            return strtonum[laststr[1]]\n",
    "    else:\n",
    "        return s[lastnum]"
   ]
  },
  {
   "cell_type": "code",
   "execution_count": 10,
   "id": "b2b716a3-0da3-495c-a74d-b5a96d5e4ac1",
   "metadata": {},
   "outputs": [
    {
     "data": {
      "text/plain": [
       "52840"
      ]
     },
     "execution_count": 10,
     "metadata": {},
     "output_type": "execute_result"
    }
   ],
   "source": [
    "total = 0\n",
    "for d in data:\n",
    "    total += int(firstnumber(d) + lastnumber(d))\n",
    "    \n",
    "total"
   ]
  },
  {
   "cell_type": "code",
   "execution_count": null,
   "id": "031c4bbe-2a15-453b-b7ce-d4491e74701c",
   "metadata": {},
   "outputs": [],
   "source": []
  }
 ],
 "metadata": {
  "kernelspec": {
   "display_name": "Python (data3)",
   "language": "python",
   "name": "data3"
  },
  "language_info": {
   "codemirror_mode": {
    "name": "ipython",
    "version": 3
   },
   "file_extension": ".py",
   "mimetype": "text/x-python",
   "name": "python",
   "nbconvert_exporter": "python",
   "pygments_lexer": "ipython3",
   "version": "3.9.7"
  }
 },
 "nbformat": 4,
 "nbformat_minor": 5
}
