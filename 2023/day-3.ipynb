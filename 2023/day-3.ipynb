{
 "cells": [
  {
   "cell_type": "code",
   "execution_count": 64,
   "id": "8fb8461b-4786-4d1c-b1c8-1119bd10ee27",
   "metadata": {},
   "outputs": [],
   "source": [
    "import numpy as np\n",
    "import pandas as pd\n",
    "import re"
   ]
  },
  {
   "cell_type": "code",
   "execution_count": 55,
   "id": "1069fe9e-6e43-4bcc-881a-1bef1c45fa9c",
   "metadata": {},
   "outputs": [],
   "source": [
    "with open('input/day-3.input', 'r') as f:\n",
    "    raw = ['.' + s.strip() + '.' for s in f.readlines()]"
   ]
  },
  {
   "cell_type": "code",
   "execution_count": 56,
   "id": "31f7f881-78c8-4e35-beef-96719044a732",
   "metadata": {},
   "outputs": [
    {
     "data": {
      "text/plain": [
       "142"
      ]
     },
     "execution_count": 56,
     "metadata": {},
     "output_type": "execute_result"
    }
   ],
   "source": [
    "len(raw[0])"
   ]
  },
  {
   "cell_type": "code",
   "execution_count": 57,
   "id": "57972048-ce2f-40c3-9350-a0b301240892",
   "metadata": {},
   "outputs": [
    {
     "data": {
      "text/plain": [
       "['...172..............................454..46.......507..........809......923.778..................793..............137.............238.........',\n",
       " '.............*.........712........=.......*................515.*...........*.......690.........../..........658.........=.........*...........',\n",
       " '..........823.835........%.........710.....749........134..%............................#812...&.....925.../..........276.......386...........']"
      ]
     },
     "execution_count": 57,
     "metadata": {},
     "output_type": "execute_result"
    }
   ],
   "source": [
    "raw[:3]"
   ]
  },
  {
   "cell_type": "code",
   "execution_count": 58,
   "id": "10bbc750-3f51-4e86-a224-44838d62fc91",
   "metadata": {},
   "outputs": [],
   "source": [
    "raw = ['.'*len(raw[0])] + raw + ['.'*len(raw[0])]"
   ]
  },
  {
   "cell_type": "code",
   "execution_count": 59,
   "id": "de3dbcb5-eed6-463d-8eeb-4d2137dde620",
   "metadata": {},
   "outputs": [],
   "source": [
    "matrix = np.array([list(r) for r in raw])"
   ]
  },
  {
   "cell_type": "code",
   "execution_count": 61,
   "id": "67c71491-41c7-46ea-ba0f-760d1cf7b959",
   "metadata": {},
   "outputs": [],
   "source": [
    "i = 1\n",
    "line = raw[i]\n",
    "\n",
    "total = 0\n",
    "\n",
    "for line in raw:\n",
    "    for s in re.findall(r'[\\d]+', line):\n",
    "        match = re.search(s, line)\n",
    "        start = match.start()\n",
    "        end = match.end()\n",
    "        if start > 0:\n",
    "            start -= 1\n",
    "        valid = np.any(matrix[i-1, start:end] != '.') or \\\n",
    "                np.any(matrix[i+1, start:end] != '.') or \\\n",
    "                (matrix[i, start] != '.') or (matrix[i, end] != '.')\n",
    "        if valid:\n",
    "            total += int(s)"
   ]
  },
  {
   "cell_type": "code",
   "execution_count": 69,
   "id": "e8d03ffc-0533-45fe-a025-195a52623d83",
   "metadata": {},
   "outputs": [
    {
     "name": "stdout",
     "output_type": "stream",
     "text": [
      "........%...932....194*688...713..................&.....333..410..817.524.....*...438.......410.129......312.....452......202..........146....\n",
      "['129', '146', '194', '202', '312', '333', '410', '410', '438', '452', '524', '688', '713', '817', '932']\n",
      "['129', '146', '194', '202', '312', '333', '410', '438', '452', '524', '688', '713', '817', '932']\n"
     ]
    }
   ],
   "source": [
    "for line in raw:\n",
    "    matches = re.findall(r'[\\d]+', line)\n",
    "    if len(matches) != pd.Series(matches, dtype=str).nunique():\n",
    "        print(line)\n",
    "        print(sorted(matches))\n",
    "        print(sorted(pd.Series(matches).unique()))"
   ]
  },
  {
   "cell_type": "code",
   "execution_count": 62,
   "id": "4c6991a7-ba6c-4dcd-8839-bf5ecd55247f",
   "metadata": {},
   "outputs": [
    {
     "data": {
      "text/plain": [
       "410486"
      ]
     },
     "execution_count": 62,
     "metadata": {},
     "output_type": "execute_result"
    }
   ],
   "source": [
    "total"
   ]
  },
  {
   "cell_type": "code",
   "execution_count": 70,
   "id": "959c4abc-d9a3-48fc-917e-7de3d0bda750",
   "metadata": {},
   "outputs": [
    {
     "data": {
      "text/plain": [
       "410896"
      ]
     },
     "execution_count": 70,
     "metadata": {},
     "output_type": "execute_result"
    }
   ],
   "source": [
    "total + 410"
   ]
  },
  {
   "cell_type": "code",
   "execution_count": null,
   "id": "c5fbf4e7-df9e-4cb2-bf44-daf1b240ad1f",
   "metadata": {},
   "outputs": [],
   "source": []
  }
 ],
 "metadata": {
  "kernelspec": {
   "display_name": "Python (data3)",
   "language": "python",
   "name": "data3"
  },
  "language_info": {
   "codemirror_mode": {
    "name": "ipython",
    "version": 3
   },
   "file_extension": ".py",
   "mimetype": "text/x-python",
   "name": "python",
   "nbconvert_exporter": "python",
   "pygments_lexer": "ipython3",
   "version": "3.9.7"
  }
 },
 "nbformat": 4,
 "nbformat_minor": 5
}
