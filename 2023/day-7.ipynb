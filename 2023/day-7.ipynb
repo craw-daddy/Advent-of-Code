{
 "cells": [
  {
   "cell_type": "code",
   "execution_count": 1,
   "id": "f12ab238-5049-4463-a97f-f3c3b4aab268",
   "metadata": {},
   "outputs": [],
   "source": [
    "from collections import Counter\n",
    "\n",
    "class Card:\n",
    "    def __init__(self, rank):\n",
    "        self.rank = rank\n",
    "        mapping = {'2': 2, '3': 3, '4': 4, '5': 5, '6' : 6,\n",
    "                   '7': 7, '8': 8, '9': 9, 'T': 10, 'J': 11,\n",
    "                   'Q': 12, 'K': 13, 'A': 14}\n",
    "        self.value = mapping[self.rank]\n",
    "        \n",
    "    def __repr__(self):\n",
    "        return self.rank\n",
    "    \n",
    "    def __eq__(self, other):\n",
    "        return self.value == other.value\n",
    "    \n",
    "    def __lt__(self, other):\n",
    "        return self.value < other.value\n",
    "    \n",
    "    def __le__(self, other):\n",
    "        return self.value <= other.value\n",
    "    \n",
    "    def __gt__(self, other):\n",
    "        return self.value > other.value\n",
    "    \n",
    "    def __ge__(self, other):\n",
    "        return self.value >= other.value\n",
    "        \n",
    "        \n",
    "class Hand:\n",
    "    def __init__(self, cards):\n",
    "        self.cards = cards\n",
    "        self.values = [Card(c) for c in list(cards)]\n",
    "        self.hand_type = self.Type()\n",
    "        \n",
    "    def __repr__(self):\n",
    "        return self.cards\n",
    "    \n",
    "    def Type(self):\n",
    "        ranks = Counter(self.cards)\n",
    "        if len(ranks) == 1:  #  five of a kind\n",
    "            return '5ofak'\n",
    "        elif len(ranks) == 2 and max(ranks.values()) == 4:  #  four of a kind \n",
    "            return '4ofak'\n",
    "        elif len(ranks) == 2 and max(ranks.values()) == 3 and min(ranks.values()) == 2:  #  full house\n",
    "            return 'fh'\n",
    "        elif len(ranks) == 3 and max(ranks.values()) == 3 and min(ranks.values()) == 1: # three of a kind\n",
    "            return '3ofak'\n",
    "        elif len(ranks) == 3 and sorted(ranks.values()) == [1,2,2]:  # two pair\n",
    "            return '2p'\n",
    "        elif len(ranks) == 4:\n",
    "            return '1p'\n",
    "        elif len(ranks) == 5:\n",
    "            return 'hc'\n",
    "        \n",
    "    def __eq__(self, other):\n",
    "        return self.cards == other.cards\n",
    "    \n",
    "    def __lt__(self, other):\n",
    "        mapping = {'hc': 0, '1p': 1, '2p': 2, '3ofak': 3, 'fh': 4, '4ofak': 5, '5ofak': 6}\n",
    "        if mapping[self.hand_type] < mapping[other.hand_type]:\n",
    "            return True\n",
    "        if mapping[self.hand_type] > mapping[other.hand_type]:\n",
    "            return False\n",
    "        for c1, c2 in zip(self.values, other.values):\n",
    "            if c1 < c2:\n",
    "                return True\n",
    "            if c2 < c1:\n",
    "                return False\n",
    "        return False\n",
    "    \n",
    "    def __le__(self, other):\n",
    "        return self.__lt__(other) or self.__eq__(other)\n",
    "    \n",
    "    def __gt__(self, other):\n",
    "        mapping = {'hc': 0, '1p': 1, '2p': 2, '3ofak': 3, 'fh': 4, '4ofak': 5, '5ofak': 6}\n",
    "        if mapping[self.hand_type] > mapping[other.hand_type]:\n",
    "            return True\n",
    "        if mapping[self.hand_type] < mapping[other.hand_type]:\n",
    "            return False\n",
    "        for c1, c2 in zip(self.values, other.values):\n",
    "            if c1 > c2:\n",
    "                return True\n",
    "            if c2 > c1:\n",
    "                return False\n",
    "        return False\n",
    "    \n",
    "    def __ge__(self, other):\n",
    "        return self.__gt__(other) or self.__eq__(other)"
   ]
  },
  {
   "cell_type": "code",
   "execution_count": 2,
   "id": "cb3f07c2-7d4d-48df-8a5b-2f13309e81af",
   "metadata": {},
   "outputs": [],
   "source": [
    "with open('input/day-7.input', 'r') as f:\n",
    "    data = [(Hand(s.split()[0]), int(s.split()[1])) for s in f.readlines()]"
   ]
  },
  {
   "cell_type": "markdown",
   "id": "36e6c2d2-15fa-4872-b556-24a905289c5d",
   "metadata": {},
   "source": [
    "## Part I"
   ]
  },
  {
   "cell_type": "code",
   "execution_count": 3,
   "id": "8a3341ef-057b-492f-bb91-55f64850a07d",
   "metadata": {},
   "outputs": [
    {
     "data": {
      "text/plain": [
       "255048101"
      ]
     },
     "execution_count": 3,
     "metadata": {},
     "output_type": "execute_result"
    }
   ],
   "source": [
    "total = sum(ind * x[1] for ind, x in enumerate(sorted(data), start=1))\n",
    "\n",
    "total"
   ]
  },
  {
   "cell_type": "markdown",
   "id": "303b6967-b051-48ae-9d71-1696bb5751d9",
   "metadata": {},
   "source": [
    "## Part II"
   ]
  },
  {
   "cell_type": "markdown",
   "id": "6469626f-7b43-45d7-b4b9-377ddd2bf3c7",
   "metadata": {},
   "source": [
    "Redefine the mapping of individual cards, then redefine the `Hand` class to determine the best hand ranking by letting \"J\" range over all other possible value of card and take the best hand rank.  Had to redefine the signature of the `Type` function to work correctly and avoid recursion errors.  "
   ]
  },
  {
   "cell_type": "code",
   "execution_count": 4,
   "id": "17ce095f-b726-472d-a1d1-f2be113f60cf",
   "metadata": {},
   "outputs": [],
   "source": [
    "class Card:\n",
    "    def __init__(self, rank):\n",
    "        self.rank = rank\n",
    "        mapping = {'2': 2, '3': 3, '4': 4, '5': 5, '6' : 6,\n",
    "                   '7': 7, '8': 8, '9': 9, 'T': 10, 'J': 1,\n",
    "                   'Q': 12, 'K': 13, 'A': 14}\n",
    "        self.value = mapping[self.rank]\n",
    "        \n",
    "    def __repr__(self):\n",
    "        return self.rank\n",
    "    \n",
    "    def __eq__(self, other):\n",
    "        return self.value == other.value\n",
    "    \n",
    "    def __lt__(self, other):\n",
    "        return self.value < other.value\n",
    "    \n",
    "    def __le__(self, other):\n",
    "        return self.value <= other.value\n",
    "    \n",
    "    def __gt__(self, other):\n",
    "        return self.value > other.value\n",
    "    \n",
    "    def __ge__(self, other):\n",
    "        return self.value >= other.value\n",
    "        \n",
    "        \n",
    "class Hand:\n",
    "    def __init__(self, cards):\n",
    "        self.mapping = {'hc': 0, '1p': 1, '2p': 2, '3ofak': 3, 'fh': 4, '4ofak': 5, '5ofak': 6}\n",
    "        \n",
    "        self.cards = cards\n",
    "        self.values = [Card(c) for c in list(cards)]\n",
    "        self.hand_type = self.Type(self.cards)\n",
    "        for value in {'2', '3', '4', '5', '6', '7', '8', '9', 'T', 'Q', 'K', 'A'}:\n",
    "            new_cards = self.cards.replace('J', value)\n",
    "            if self.mapping[self.Type(new_cards)] > self.mapping[self.hand_type]:\n",
    "                self.hand_type = self.Type(new_cards)\n",
    "        \n",
    "    def __repr__(self):\n",
    "        return self.cards\n",
    "    \n",
    "    def Type(self, c):\n",
    "        ranks = Counter(c)\n",
    "        if len(ranks) == 1:  #  five of a kind\n",
    "            return '5ofak'\n",
    "        elif len(ranks) == 2 and max(ranks.values()) == 4:  #  four of a kind \n",
    "            return '4ofak'\n",
    "        elif len(ranks) == 2 and max(ranks.values()) == 3 and min(ranks.values()) == 2:  #  full house\n",
    "            return 'fh'\n",
    "        elif len(ranks) == 3 and max(ranks.values()) == 3 and min(ranks.values()) == 1: # three of a kind\n",
    "            return '3ofak'\n",
    "        elif len(ranks) == 3 and sorted(ranks.values()) == [1,2,2]:  # two pair\n",
    "            return '2p'\n",
    "        elif len(ranks) == 4:\n",
    "            return '1p'\n",
    "        elif len(ranks) == 5:\n",
    "            return 'hc'\n",
    "        \n",
    "    def __eq__(self, other):\n",
    "        return self.cards == other.cards\n",
    "    \n",
    "    def __lt__(self, other):\n",
    "        if self.mapping[self.hand_type] < self.mapping[other.hand_type]:\n",
    "            return True\n",
    "        if self.mapping[self.hand_type] > self.mapping[other.hand_type]:\n",
    "            return False\n",
    "        for c1, c2 in zip(self.values, other.values):\n",
    "            if c1 < c2:\n",
    "                return True\n",
    "            if c2 < c1:\n",
    "                return False\n",
    "        return False\n",
    "    \n",
    "    def __le__(self, other):\n",
    "        return self.__lt__(other) or self.__eq__(other)\n",
    "    \n",
    "    def __gt__(self, other):\n",
    "        mapping = {'hc': 0, '1p': 1, '2p': 2, '3ofak': 3, 'fh': 4, '4ofak': 5, '5ofak': 6}\n",
    "        if self.mapping[self.hand_type] > self.mapping[other.hand_type]:\n",
    "            return True\n",
    "        if self.mapping[self.hand_type] < self.mapping[other.hand_type]:\n",
    "            return False\n",
    "        for c1, c2 in zip(self.values, other.values):\n",
    "            if c1 > c2:\n",
    "                return True\n",
    "            if c2 > c1:\n",
    "                return False\n",
    "        return False\n",
    "    \n",
    "    def __ge__(self, other):\n",
    "        return self.__gt__(other) or self.__eq__(other)"
   ]
  },
  {
   "cell_type": "code",
   "execution_count": 5,
   "id": "9c2bb162-fcb1-4bb8-9836-3ffbb6206f5f",
   "metadata": {},
   "outputs": [],
   "source": [
    "with open('input/day-7.input', 'r') as f:\n",
    "    data = [(Hand(s.split()[0]), int(s.split()[1])) for s in f.readlines()]"
   ]
  },
  {
   "cell_type": "code",
   "execution_count": 6,
   "id": "44303b25-b612-47a6-b172-e8604161e745",
   "metadata": {},
   "outputs": [
    {
     "data": {
      "text/plain": [
       "253718286"
      ]
     },
     "execution_count": 6,
     "metadata": {},
     "output_type": "execute_result"
    }
   ],
   "source": [
    "total = sum(ind * x[1] for ind, x in enumerate(sorted(data), start=1))\n",
    "\n",
    "total"
   ]
  },
  {
   "cell_type": "code",
   "execution_count": null,
   "id": "cc81d724-059c-4301-bd31-8922482c1260",
   "metadata": {},
   "outputs": [],
   "source": []
  }
 ],
 "metadata": {
  "kernelspec": {
   "display_name": "Python (data3)",
   "language": "python",
   "name": "data3"
  },
  "language_info": {
   "codemirror_mode": {
    "name": "ipython",
    "version": 3
   },
   "file_extension": ".py",
   "mimetype": "text/x-python",
   "name": "python",
   "nbconvert_exporter": "python",
   "pygments_lexer": "ipython3",
   "version": "3.9.7"
  }
 },
 "nbformat": 4,
 "nbformat_minor": 5
}
