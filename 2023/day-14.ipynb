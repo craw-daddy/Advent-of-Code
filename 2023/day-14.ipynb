{
 "cells": [
  {
   "cell_type": "code",
   "execution_count": 1,
   "id": "b8726991-d6c9-45dd-83ca-d27592552802",
   "metadata": {},
   "outputs": [],
   "source": [
    "import numpy as np\n",
    "\n",
    "from datetime import datetime"
   ]
  },
  {
   "cell_type": "code",
   "execution_count": 2,
   "id": "00ae6181-c2af-4dab-9958-0edfdc5fc4b1",
   "metadata": {},
   "outputs": [],
   "source": [
    "with open('input/day-14.input', 'r') as f:\n",
    "    rows = [s.strip() for s in f.readlines()]\n",
    "\n",
    "arr = np.array([list(r) for r in rows])"
   ]
  },
  {
   "cell_type": "code",
   "execution_count": 3,
   "id": "f40554fa-9e17-4adf-9734-a3e31b090dee",
   "metadata": {},
   "outputs": [],
   "source": [
    "def tilt_north(array):\n",
    "    arr = array.copy()\n",
    "    for r in range(1, arr.shape[0]):\n",
    "        for c in range(arr.shape[1]):\n",
    "            if arr[r, c] == 'O':\n",
    "                row = r\n",
    "                while (row > 0) and (arr[row-1, c] == '.'):\n",
    "                    arr[row-1, c] = 'O'\n",
    "                    arr[row, c] = '.'\n",
    "                    row -= 1\n",
    "                    \n",
    "    return arr"
   ]
  },
  {
   "cell_type": "code",
   "execution_count": 4,
   "id": "77dd0082-b7c7-4c20-aa03-d9663273505e",
   "metadata": {},
   "outputs": [],
   "source": [
    "def find_load(arr):\n",
    "    load = 0\n",
    "\n",
    "    for i, r in enumerate(arr):\n",
    "        load += (arr.shape[0] - i) * sum(r == 'O')\n",
    "    \n",
    "    return (load)"
   ]
  },
  {
   "cell_type": "markdown",
   "id": "490b70fc-44bf-4652-bb8a-785f914ebc95",
   "metadata": {},
   "source": [
    "## Part I"
   ]
  },
  {
   "cell_type": "code",
   "execution_count": 5,
   "id": "7a349114-335f-4b4f-9a9d-12ae9b873526",
   "metadata": {},
   "outputs": [
    {
     "data": {
      "text/plain": [
       "106378"
      ]
     },
     "execution_count": 5,
     "metadata": {},
     "output_type": "execute_result"
    }
   ],
   "source": [
    "find_load(tilt_north(arr))"
   ]
  },
  {
   "cell_type": "markdown",
   "id": "80620d23-474c-41b2-90f7-688f7a16987e",
   "metadata": {},
   "source": [
    "## Part II"
   ]
  },
  {
   "cell_type": "code",
   "execution_count": 6,
   "id": "93ec5a9c-35c5-4229-863e-89d8320e918d",
   "metadata": {},
   "outputs": [],
   "source": [
    "def cycle(array):\n",
    "    arr = array.copy()\n",
    "    arr = tilt_north(arr)\n",
    "    arr = np.rot90(arr, k=3, axes=(0, 1))\n",
    "    arr = tilt_north(arr)\n",
    "    arr = np.rot90(arr, k=3, axes=(0, 1))\n",
    "    arr = tilt_north(arr)\n",
    "    arr = np.rot90(arr, k=3, axes=(0, 1))\n",
    "    arr = tilt_north(arr)\n",
    "    arr = np.rot90(arr, k=3, axes=(0, 1))\n",
    "    \n",
    "    return arr"
   ]
  },
  {
   "cell_type": "code",
   "execution_count": 7,
   "id": "707e87b0-e4ea-42c1-a7c6-7023038c9de0",
   "metadata": {},
   "outputs": [],
   "source": [
    "def shake(arr):\n",
    "    for i in range(1000000000):\n",
    "        arr = cycle(arr)\n",
    "        if i % 100000000 == 0:\n",
    "            print(i, datetime.now())\n",
    "            \n",
    "    return arr"
   ]
  },
  {
   "cell_type": "code",
   "execution_count": null,
   "id": "71b12e9a-ad1c-43eb-97bb-e2fdc329bb4a",
   "metadata": {},
   "outputs": [
    {
     "name": "stdout",
     "output_type": "stream",
     "text": [
      "0 2023-12-16 12:04:54.164318\n"
     ]
    }
   ],
   "source": [
    "find_load(shake(arr))"
   ]
  },
  {
   "cell_type": "code",
   "execution_count": null,
   "id": "317f7e4d-1da6-494b-a2d6-119529026008",
   "metadata": {},
   "outputs": [],
   "source": []
  }
 ],
 "metadata": {
  "kernelspec": {
   "display_name": "Python (data3)",
   "language": "python",
   "name": "data3"
  },
  "language_info": {
   "codemirror_mode": {
    "name": "ipython",
    "version": 3
   },
   "file_extension": ".py",
   "mimetype": "text/x-python",
   "name": "python",
   "nbconvert_exporter": "python",
   "pygments_lexer": "ipython3",
   "version": "3.9.7"
  }
 },
 "nbformat": 4,
 "nbformat_minor": 5
}
