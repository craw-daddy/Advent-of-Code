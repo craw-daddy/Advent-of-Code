{
 "cells": [
  {
   "cell_type": "code",
   "execution_count": 1,
   "id": "82177fac-3dd0-473e-906c-989be0312ac6",
   "metadata": {},
   "outputs": [],
   "source": [
    "import re\n",
    "\n",
    "from itertools import permutations\n",
    "from math import factorial"
   ]
  },
  {
   "cell_type": "code",
   "execution_count": 2,
   "id": "59890831-4366-485b-a72c-e33692e56b3e",
   "metadata": {},
   "outputs": [],
   "source": [
    "with open('input/day-12.input', 'r') as f:\n",
    "    raw = [s.split() for s in f.readlines()]"
   ]
  },
  {
   "cell_type": "code",
   "execution_count": 3,
   "id": "f6024d7d-fbe3-456b-adc5-653c1f364e21",
   "metadata": {},
   "outputs": [
    {
     "data": {
      "text/plain": [
       "[['#.?#.#???????...??##', '1,2,2,1,1,4'],\n",
       " ['???#???.?#??????', '1,2,2,3,2'],\n",
       " ['???????#??.???#?', '2,2,4,3']]"
      ]
     },
     "execution_count": 3,
     "metadata": {},
     "output_type": "execute_result"
    }
   ],
   "source": [
    "raw[:3]"
   ]
  },
  {
   "cell_type": "markdown",
   "id": "2038993e-6a52-45e3-8f0f-430cccb73ae1",
   "metadata": {},
   "source": [
    "## Part I"
   ]
  },
  {
   "cell_type": "markdown",
   "id": "b01bdfbb-afc5-4282-b7c9-9e5a3d869faa",
   "metadata": {
    "tags": []
   },
   "source": [
    "This is kind of done via brute force.  Find all the possible unique strings consisting of the required number of (unaccounted for) '#' and '.' symbols.  Substitute those symbols in order from left-to-right for the question marks, then test if the resulting string matches the number pattern.  "
   ]
  },
  {
   "cell_type": "code",
   "execution_count": 4,
   "id": "cf7d811f-f86c-4e38-b92a-0c035c2253f3",
   "metadata": {},
   "outputs": [],
   "source": [
    "def count(s, nums):\n",
    "    nums = [int(x) for x in nums.split(',')]\n",
    "    total_symbols = len(s)\n",
    "    unknown_hashes = sum(nums) - sum(1 for c in s if c =='#')\n",
    "    unknown_periods = total_symbols - sum(nums) - sum(1 for c in s if c == '.')\n",
    "    \n",
    "    trials = set(permutations('#'*unknown_hashes + '.'*unknown_periods, unknown_hashes+unknown_periods))\n",
    "    \n",
    "    ways = 0\n",
    "    for t in trials:\n",
    "        string = s\n",
    "        for letter in t:\n",
    "            string = re.sub('\\?', letter, string, count=1)\n",
    "        groups = re.findall('#+', string)\n",
    "        if len(groups) == len(nums):\n",
    "            if all(len(g) == n for g, n in zip(groups, nums)):\n",
    "                ways += 1\n",
    "    return ways"
   ]
  },
  {
   "cell_type": "code",
   "execution_count": null,
   "id": "b2f34a0b-d817-4b66-8f70-0a81618d7e8c",
   "metadata": {},
   "outputs": [],
   "source": [
    "sum(count(*d) for d in raw)"
   ]
  },
  {
   "cell_type": "markdown",
   "id": "c1209bf7-0664-4dc8-a660-758794a72df7",
   "metadata": {},
   "source": [
    "## Part II"
   ]
  },
  {
   "cell_type": "code",
   "execution_count": null,
   "id": "b25ee14f-7ebc-41c3-a17a-00763c44686c",
   "metadata": {},
   "outputs": [],
   "source": []
  }
 ],
 "metadata": {
  "kernelspec": {
   "display_name": "Python (data3)",
   "language": "python",
   "name": "data3"
  },
  "language_info": {
   "codemirror_mode": {
    "name": "ipython",
    "version": 3
   },
   "file_extension": ".py",
   "mimetype": "text/x-python",
   "name": "python",
   "nbconvert_exporter": "python",
   "pygments_lexer": "ipython3",
   "version": "3.9.7"
  }
 },
 "nbformat": 4,
 "nbformat_minor": 5
}
