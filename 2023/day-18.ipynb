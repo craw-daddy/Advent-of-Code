{
 "cells": [
  {
   "cell_type": "code",
   "execution_count": 1,
   "id": "0074c11a-34ea-4b6e-85c3-142bb78f2f4e",
   "metadata": {},
   "outputs": [],
   "source": [
    "import numpy as np"
   ]
  },
  {
   "cell_type": "code",
   "execution_count": 2,
   "id": "6418992a-24ae-4f07-aa68-c22507c59a52",
   "metadata": {},
   "outputs": [],
   "source": [
    "with open('input/day-18.input', 'r') as f:\n",
    "    raw = [s.strip() for s in f.readlines()]"
   ]
  },
  {
   "cell_type": "code",
   "execution_count": 3,
   "id": "f7bf0acf-0497-46e0-986c-4e0962ca620b",
   "metadata": {},
   "outputs": [],
   "source": [
    "directions = [[r.split()[0], int(r.split()[1])] for r in raw]"
   ]
  },
  {
   "cell_type": "code",
   "execution_count": 4,
   "id": "8536df68-190c-4920-9c6f-dd6a6b80e129",
   "metadata": {},
   "outputs": [
    {
     "data": {
      "text/plain": [
       "[['L', 7], ['U', 6], ['L', 3]]"
      ]
     },
     "execution_count": 4,
     "metadata": {},
     "output_type": "execute_result"
    }
   ],
   "source": [
    "directions[:3]"
   ]
  },
  {
   "cell_type": "code",
   "execution_count": 5,
   "id": "b6e2534b-4590-4d35-82b4-dbb86725885c",
   "metadata": {},
   "outputs": [],
   "source": [
    "max_right = sum(r[1] for r in directions if r[0] == 'R')\n",
    "max_left = sum(r[1] for r in directions if r[0] == 'L')\n",
    "max_up = sum(r[1] for r in directions if r[0] == 'U')\n",
    "max_down = sum(r[1] for r in directions if r[0] == 'D')"
   ]
  },
  {
   "cell_type": "code",
   "execution_count": 6,
   "id": "e76c3da5-6065-4c63-a613-b473882d4827",
   "metadata": {},
   "outputs": [
    {
     "data": {
      "text/plain": [
       "(964, 964, 981, 981)"
      ]
     },
     "execution_count": 6,
     "metadata": {},
     "output_type": "execute_result"
    }
   ],
   "source": [
    "max_right, max_left, max_up, max_down"
   ]
  },
  {
   "cell_type": "code",
   "execution_count": 7,
   "id": "3a29b6a0-e96c-442d-afff-c202bfe61836",
   "metadata": {},
   "outputs": [],
   "source": [
    "width = max_right + max_left + 20\n",
    "height = max_up + max_down + 20"
   ]
  },
  {
   "cell_type": "code",
   "execution_count": 8,
   "id": "7d91cd51-5e09-4972-a44f-ee20f2965bda",
   "metadata": {},
   "outputs": [],
   "source": [
    "arr = np.array(['.'] * (width*height)).reshape(width, height)\n",
    "start = (max_up + 5, max_left + 5)\n",
    "arr[start] = '#'\n",
    "current = start\n",
    "\n",
    "for d in directions:\n",
    "    if d[0] == 'R':\n",
    "        arr[current[0], current[1]+1: current[1]+d[1]] = '#'\n",
    "        current = (current[0], current[1]+d[1])\n",
    "    elif d[0] == 'U':\n",
    "        arr[current[0]-d[1]:current[0], current[1]] = '#'\n",
    "        current = (current[0]-d[1], current[1])\n",
    "    elif d[0] == 'D':\n",
    "        arr[current[0]:current[0]+1+d[1], current[1]] = '#'\n",
    "        current = (current[0]+d[1], current[1])\n",
    "    elif d[0] == 'L':\n",
    "        arr[current[0], current[1]-d[1]:current[1]] = '#'\n",
    "        current = (current[0], current[1]-d[1])"
   ]
  },
  {
   "cell_type": "code",
   "execution_count": 9,
   "id": "55c5131c-bed3-46fb-a52e-1d9faa11e2ce",
   "metadata": {},
   "outputs": [],
   "source": [
    "while np.all(arr[0,:] == '.'):\n",
    "    arr = arr[1:,:]\n",
    "\n",
    "while np.all(arr[-1,:] == '.'):\n",
    "    arr = arr[:-1,:]\n",
    "    \n",
    "while np.all(arr[:,0] == '.'):\n",
    "    arr = arr[:,1:]\n",
    "    \n",
    "while np.all(arr[:,-1] == '.'):\n",
    "    arr = arr[:,:-1]"
   ]
  },
  {
   "cell_type": "markdown",
   "id": "2ea9f545-add6-4c4d-a3de-8431166cdf7b",
   "metadata": {},
   "source": [
    "for r in range(1):\n",
    "    for c in range(arr.shape[1]):\n",
    "        if arr[r,c] == '#':\n",
    "            print(r,c)\n",
    "\n",
    "print('-----')\n",
    "\n",
    "for c in range(arr.shape[1]):\n",
    "    if arr[1,c] == '#':\n",
    "        print(1,c)"
   ]
  },
  {
   "cell_type": "code",
   "execution_count": 10,
   "id": "7efc7235-700f-4211-877c-1d11cb522d8b",
   "metadata": {},
   "outputs": [],
   "source": [
    "from collections import deque\n",
    "\n",
    "start = (1,142)\n",
    "queue = deque([start])\n",
    "\n",
    "while queue:\n",
    "    v = queue.popleft()\n",
    "    arr[v] = '*'\n",
    "    for direction in [(1,0), (0,1), (-1,0), (0,-1)]:\n",
    "        possible = (v[0] + direction[0], v[1] + direction[1])\n",
    "        if (possible[0] > -1) and (possible[0] < arr.shape[0]) and (possible[1] > -1) \\\n",
    "        and (possible[1] < arr.shape[1]) and (arr[possible] != '*') and (arr[possible] != '#'):\n",
    "            queue.append(possible) \n",
    "            arr[possible] = '*'"
   ]
  },
  {
   "cell_type": "code",
   "execution_count": 11,
   "id": "a4b1aa24-e227-4d96-8826-d622826b3a42",
   "metadata": {},
   "outputs": [
    {
     "data": {
      "text/plain": [
       "49061"
      ]
     },
     "execution_count": 11,
     "metadata": {},
     "output_type": "execute_result"
    }
   ],
   "source": [
    "(arr[:,:] == '#').sum() + (arr[:,:] == '*').sum()"
   ]
  },
  {
   "cell_type": "code",
   "execution_count": null,
   "id": "5f9c6d3d-e9fd-474a-9d0c-814ff6e26e24",
   "metadata": {},
   "outputs": [],
   "source": []
  }
 ],
 "metadata": {
  "kernelspec": {
   "display_name": "Python (data3)",
   "language": "python",
   "name": "data3"
  },
  "language_info": {
   "codemirror_mode": {
    "name": "ipython",
    "version": 3
   },
   "file_extension": ".py",
   "mimetype": "text/x-python",
   "name": "python",
   "nbconvert_exporter": "python",
   "pygments_lexer": "ipython3",
   "version": "3.9.7"
  }
 },
 "nbformat": 4,
 "nbformat_minor": 5
}
